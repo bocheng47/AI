{
 "cells": [
  {
   "cell_type": "markdown",
   "metadata": {},
   "source": [
    "# PART 2 TensorFlow\n",
    "# 3. Workshop 1 - CNN 影像處理基礎"
   ]
  },
  {
   "cell_type": "markdown",
   "metadata": {},
   "source": [
    "### **REFERENCE**\n",
    ">1.  Tom Hope, Yehezkel S. Resheff, Itay Lieder, \"**Learning TensorFlow - A Guide to building Deep Learning Systems**\", `Chapters 2 & 4`, O'Reilly (2017) (pdf) https://goo.gl/iEmehh\n",
    "     `[ Code ]` : https://github.com/gigwegbe/Learning-TensorFlow\n",
    "\n",
    ">2.  bigDataSpark Forum 檔案：**Basics of TensorFlow Programming-20180809.ipynb**\n",
    "https://www.facebook.com/groups/753114451505938/permalink/1213353432148702/"
   ]
  },
  {
   "cell_type": "markdown",
   "metadata": {},
   "source": [
    "# Convolution"
   ]
  },
  {
   "cell_type": "markdown",
   "metadata": {},
   "source": [
    "> With convolutional neural networks, we use the built-in TensorFLow conv2d( ) :\n",
    "\n",
    ">**`tf.nn.conv2d(x, w, strides=[1,1,1,1], padding ='SAME')`**\n",
    "\n",
    "> + The strides argument controls the spatial movement of the filter W across the image (or feature map) x. \n",
    "+ The value `[1,1,1,1]` means that the filter is applied to the input in one-pixel intervals in each dimension, corresponding to a 'full' convolution. \n",
    "+ Finally, the setting padding to `\"SAME\"` means that the borders of x padded such that the size of the result of the operation is the same as the size of x.\n",
    "\n",
    "> [NOTE] : x is the data (input image). `Feature map` is simply a commonly used term referring to the output of each layer. The output of this operation will depend on the shape of x and W, in this case is four-dimensional."
   ]
  },
  {
   "cell_type": "markdown",
   "metadata": {},
   "source": [
    "##  Starting TensorFlow ..."
   ]
  },
  {
   "cell_type": "code",
   "execution_count": 20,
   "metadata": {},
   "outputs": [],
   "source": [
    "import tensorflow as tf\n",
    "import numpy as np"
   ]
  },
  {
   "cell_type": "markdown",
   "metadata": {},
   "source": [
    "##  Building a Graph ..."
   ]
  },
  {
   "cell_type": "code",
   "execution_count": 21,
   "metadata": {},
   "outputs": [],
   "source": [
    "def weight_variable(shape):\n",
    "    \"\"\" This specifies the weights for either fully connected or convolutional layers \n",
    "       of the network. They are initialized randomly using a truncated normal distribution \n",
    "       with a standard deviation of .1. \"\"\"\n",
    "    initial = tf.truncated_normal(shape, stddev=0.1) \n",
    "    return tf.Variable(initial)\n",
    "\n",
    "def bias_variable(shape):\n",
    "    \"\"\" This defines the bias elements in either a fully connected or a convolutional layer. \n",
    "        These are all initialized with the constant value of .1.\"\"\"\n",
    "    initial = tf.constant(0.1, shape=shape) \n",
    "    return tf.Variable(initial)\n",
    "\n",
    "def conv2d(x, W):\n",
    "    \"\"\" This specifies the convolution we will typically use. A full convolution (no skips) \n",
    "        with an output the same size as the input.\"\"\"\n",
    "    return tf.nn.conv2d(x, W, strides=[1, 1, 1, 1], padding='SAME')\n",
    "\n",
    "def max_pool_2x2(x):\n",
    "    \"\"\" This sets the max pool to half the size across the height/width dimensions, \n",
    "        and in total a quarter the size of the feature map.\"\"\"\n",
    "    return tf.nn.max_pool(x, ksize=[1, 2, 2, 1],\n",
    "                              strides=[1, 2, 2, 1], padding='SAME')\n",
    "\n",
    "def conv_layer(input, shape):\n",
    "    \"\"\" This is the actual layer we will use. Linear convolution as defined in conv2d, with a bias, \n",
    "        followed by the ReLU nonlinearity.\"\"\"\n",
    "    W = weight_variable(shape)\n",
    "    b = bias_variable([shape[3]])\n",
    "    return tf.nn.relu(conv2d(input, W) + b)\n",
    "\n",
    "def full_layer(input, size):\n",
    "    \"\"\" A standard full layer with a bias. Notice that here we didn’t add the ReLU. \n",
    "        This allows us to use the same layer for the final output, \n",
    "        where we don’t need the non‐linear part.\"\"\"\n",
    "    in_size = int(input.get_shape()[1]) \n",
    "    W = weight_variable([in_size, size]) \n",
    "    b = bias_variable([size])\n",
    "    return tf.matmul(input, W) + b"
   ]
  },
  {
   "cell_type": "markdown",
   "metadata": {},
   "source": [
    "### 1. Tensors (Ref. 1 : Fig. 4-4)"
   ]
  },
  {
   "cell_type": "code",
   "execution_count": 22,
   "metadata": {},
   "outputs": [],
   "source": [
    "##  Defining the placeholders for the images and correct labels, \n",
    "##  x and y_, respectively.\n",
    "x = tf.placeholder(tf.float32, shape=[None, 784])\n",
    "y_ = tf.placeholder(tf.float32, shape=[None, 10])\n",
    "\n",
    "##  Reshape the image data into the 2D image format with size 28×28×1.\n",
    "##   -1 : 代表自動計算該維度的數量\n",
    "##    1 : 代表 1 channel for MNIST dataset (greyscale)\n",
    "x_image = tf.reshape(x, [-1, 28, 28, 1]) \n",
    "\n",
    "##---------------------------------------------------------------------\n",
    "##  << Deep Network Design >> :  (Ref. 1 : Fig. 4-4)\n",
    "##     Two consecutive layers of convolution and pooling,\n",
    "##     each with 5×5 convolutions and 64 feature maps, \n",
    "##     followed by a single fully connected layer with 1,024 units.\n",
    "##---------------------------------------------------------------------\n",
    "\n",
    "##  ------------------------------------------------------\n",
    "##  Conv_Layer 1    :  32 filters (5x5 & 1 channel)\n",
    "##  Pooling_Layer 1 :  max_pool (2x2, strides = 2x2)\n",
    "##  ------------------------------------------------------\n",
    "\n",
    "conv1 = conv_layer(x_image, shape=[5, 5, 1, 32])  \n",
    "conv1_pool = max_pool_2x2(conv1)    ##  The input 28×28 pixel image is reduced to 14×14.\n",
    "\n",
    "##  The size of one image after these two convolution and pooling layers becomes 14×14×32.\n",
    "\n",
    "##  ------------------------------------------------------\n",
    "##  Conv_Layer 2    :  64 filters (5x5 & 32 feature maps)\n",
    "##  Pooling_Layer 2 :  max_pool (2x2, strides = 2x2)\n",
    "##  ------------------------------------------------------\n",
    "\n",
    "conv2 = conv_layer(conv1_pool, shape=[5, 5, 32, 64])  \n",
    "conv2_pool = max_pool_2x2(conv2)    ##  The input 14×14 pixel image is reduced to 7x7.\n",
    "\n",
    "##  The size of one image after the second convolution and pooling layers becomes 7×7×64.\n",
    "\n",
    "##  ----------------------------------------------------------------\n",
    "##  [Input data for the Fully-connected Network] :\n",
    "##    Flattern the 64 feature maps (each with size 7x7),\n",
    "##    i.e., 7x7x64 = 3136 input data for the fully-connected network.\n",
    "##  ----------------------------------------------------------------\n",
    "keep_prob = tf.placeholder(tf.float32)\n",
    "\n",
    "conv2_flat = tf.reshape(conv2_pool, [-1, 7*7*64])\n",
    "conv2_drop = tf.nn.dropout(conv2_flat, keep_prob=keep_prob)\n",
    "\n",
    "full_1 = tf.nn.relu(full_layer(conv2_drop, 1024))  ##  Output-data size : 1024\n",
    "\n",
    "##  Dropout for regularization in order to prevent overfitting...\n",
    "##  [ The parameter 'keep_prob' ] :  \n",
    "##     - is the fraction of the neurons to keep working at each step\n",
    "##     - if 'keep_prob' = 1.0, it means no dropout at all.\n",
    "\n",
    "# keep_prob = tf.placeholder(tf.float32)  \n",
    "full1_drop = tf.nn.dropout(full_1, keep_prob=keep_prob)\n",
    "\n",
    "y_conv = full_layer(full1_drop, 10)  ##  Output Layer : size = 10"
   ]
  },
  {
   "cell_type": "markdown",
   "metadata": {},
   "source": [
    "### 2. Input MNIST dataset  (Ref. 1 : Chapter 2)"
   ]
  },
  {
   "cell_type": "code",
   "execution_count": 28,
   "metadata": {},
   "outputs": [
    {
     "name": "stdout",
     "output_type": "stream",
     "text": [
      "Extracting ./data\\train-images-idx3-ubyte.gz\n",
      "Extracting ./data\\train-labels-idx1-ubyte.gz\n",
      "Extracting ./data\\t10k-images-idx3-ubyte.gz\n",
      "Extracting ./data\\t10k-labels-idx1-ubyte.gz\n"
     ]
    },
    {
     "data": {
      "text/plain": [
       "Datasets(train=<tensorflow.contrib.learn.python.learn.datasets.mnist.DataSet object at 0x0000025079729F28>, validation=<tensorflow.contrib.learn.python.learn.datasets.mnist.DataSet object at 0x0000025079754198>, test=<tensorflow.contrib.learn.python.learn.datasets.mnist.DataSet object at 0x0000025079754048>)"
      ]
     },
     "execution_count": 28,
     "metadata": {},
     "output_type": "execute_result"
    }
   ],
   "source": [
    "# for the old-version usage of TensorFlow, such as tensorflow.examples.tutorials.mnist\n",
    "old_v = tf.logging.get_verbosity()          \n",
    "tf.logging.set_verbosity(tf.logging.ERROR)\n",
    "\n",
    "##  Loading the input data, MNIST  (Ref. 1 : Chapter 2)\n",
    "from tensorflow.examples.tutorials.mnist import input_data\n",
    "\n",
    "DATA_DIR = './data'\n",
    "STEPS = 1000\n",
    "MINIBATCH_SIZE = 100\n",
    "\n",
    "##  The parameter 'one_hot' : setting the labelled data with 1 and the rest with 0\n",
    "mnist = input_data.read_data_sets(DATA_DIR, one_hot=True)  \n",
    "\n",
    "mnist"
   ]
  },
  {
   "cell_type": "code",
   "execution_count": 29,
   "metadata": {},
   "outputs": [
    {
     "name": "stdout",
     "output_type": "stream",
     "text": [
      " mnist.train.images.shape :\t  (55000, 784)\n",
      " mnist.train.labels.shape :\t  (55000, 10)\n",
      " mnist.validation.images.shape :  (5000, 784)\n",
      " mnist.validation.labels.shape :  (5000, 10)\n",
      " mnist.test.images.shape :\t  (10000, 784)\n",
      " mnist.test.labels.shape :\t  (10000, 10)\n"
     ]
    },
    {
     "data": {
      "text/plain": [
       "array([0., 0., 0., 0., 0., 0., 0., 1., 0., 0.])"
      ]
     },
     "execution_count": 29,
     "metadata": {},
     "output_type": "execute_result"
    }
   ],
   "source": [
    "print(\" mnist.train.images.shape :\\t \", mnist.train.images.shape)\n",
    "print(\" mnist.train.labels.shape :\\t \", mnist.train.labels.shape)\n",
    "print(\" mnist.validation.images.shape : \", mnist.validation.images.shape)\n",
    "print(\" mnist.validation.labels.shape : \", mnist.validation.labels.shape)\n",
    "print(\" mnist.test.images.shape :\\t \", mnist.test.images.shape)\n",
    "print(\" mnist.test.labels.shape :\\t \", mnist.test.labels.shape)\n",
    "\n",
    "mnist.test.labels[0]"
   ]
  },
  {
   "cell_type": "markdown",
   "metadata": {},
   "source": [
    "### 3. Optimization"
   ]
  },
  {
   "cell_type": "code",
   "execution_count": 30,
   "metadata": {},
   "outputs": [],
   "source": [
    "##  ----------------------------------------------------------------------------------\n",
    "## [ Activation Function for the prediction ] - Softmax\n",
    "##\n",
    "## [ Loss Function ] : using Cross Entropy\n",
    "##    — Cross entropy is a natural choice when the model outputs class probabilities. \n",
    "##    - This element is often referred to as the loss function.\n",
    "##  ----------------------------------------------------------------------------------\n",
    "\n",
    "cross_entropy = tf.reduce_mean(tf.nn.softmax_cross_entropy_with_logits(labels = y_, \n",
    "                                                                       logits = y_conv))\n",
    "##  ----------------------------------------------------------------------------------\n",
    "##  Using Adam algorithm (with learning rate = 1e-4) for the optimizer \n",
    "##  ----------------------------------------------------------------------------------\n",
    "\n",
    "train_step = tf.train.AdamOptimizer(1e-4).minimize(cross_entropy)"
   ]
  },
  {
   "cell_type": "markdown",
   "metadata": {},
   "source": [
    "### 4. Accuracy"
   ]
  },
  {
   "cell_type": "code",
   "execution_count": 31,
   "metadata": {},
   "outputs": [],
   "source": [
    "##  ----------------------------------------------------------------------------------\n",
    "##  Computing the prediction ...\n",
    "##\n",
    "##     tf.argmax(input, axis=NONE, ...) \n",
    "##        - Returns the index with the largest value across axes of a tensor. \n",
    "##        -  axis = 0 : across a row \n",
    "##        -  axis = 1 : across a column.\n",
    "##  ----------------------------------------------------------------------------------\n",
    "\n",
    "correct_prediction = tf.equal(tf.argmax(y_conv, 1), tf.argmax(y_, 1)) \n",
    "\n",
    "\n",
    "##  ----------------------------------------------------------------------------------\n",
    "##  Computing the accuracy ...\n",
    "##  ----------------------------------------------------------------------------------\n",
    "\n",
    "accuracy = tf.reduce_mean(tf.cast(correct_prediction, tf.float32))"
   ]
  },
  {
   "cell_type": "markdown",
   "metadata": {},
   "source": [
    "##  Launch the Graph "
   ]
  },
  {
   "cell_type": "code",
   "execution_count": 32,
   "metadata": {},
   "outputs": [
    {
     "name": "stdout",
     "output_type": "stream",
     "text": [
      "[ STEP  100 ] :\t Training Accuracy = 0.7799999713897705\n",
      "[ STEP  200 ] :\t Training Accuracy = 0.8100000023841858\n",
      "[ STEP  300 ] :\t Training Accuracy = 0.9100000262260437\n",
      "[ STEP  400 ] :\t Training Accuracy = 0.9700000286102295\n",
      "[ STEP  500 ] :\t Training Accuracy = 0.9300000071525574\n",
      "[ STEP  600 ] :\t Training Accuracy = 0.949999988079071\n",
      "[ STEP  700 ] :\t Training Accuracy = 0.949999988079071\n",
      "[ STEP  800 ] :\t Training Accuracy = 0.9100000262260437\n",
      "[ STEP  900 ] :\t Training Accuracy = 0.9700000286102295\n",
      "[ STEP 1000 ] :\t Training Accuracy = 0.9300000071525574\n",
      "\n",
      " Computing the test accuracy ...   Done !!! \n"
     ]
    }
   ],
   "source": [
    "with tf.Session() as sess: \n",
    "    sess.run(tf.global_variables_initializer())\n",
    "\n",
    "    for i in range(STEPS):\n",
    "        batch = mnist.train.next_batch(MINIBATCH_SIZE)  ## MINIBATCH_SIZE = 50\n",
    "\n",
    "        if (i+1)%100 == 0:\n",
    "            train_accuracy, train_loss = sess.run([accuracy, cross_entropy], \n",
    "                                      feed_dict={x: batch[0],         \n",
    "                                                 y_: batch[1],\n",
    "                                                 keep_prob: 1.0}) \n",
    "            print(\"[ STEP {} ] :\\t Training Accuracy = {}\".format(str(i+1).rjust(4), train_accuracy))\n",
    "        \n",
    "        sess.run(train_step, feed_dict={x: batch[0], y_: batch[1], keep_prob: 0.5})\n",
    "    \n",
    "    print(\"\\n Computing the test accuracy ... \", end = \" \")\n",
    "    \n",
    "    ##  ------------------------------------------------------------------\n",
    "    ##  Split the test procedure into 10 blocks of 1,000 images each. \n",
    "    ##  Doing this is important mostly for much larger datasets.\n",
    "    ##  ------------------------------------------------------------------\n",
    "\n",
    "    X_test = mnist.test.images.reshape(10, 1000, 784)  ##  mnist.test.images.shape : (10000, 784)\n",
    "    Y_test = mnist.test.labels.reshape(10, 1000, 10)   ##  mnist.test.labels.shape : (10, 784)\n",
    "    \n",
    "    test_accuracy = np.mean([sess.run(accuracy,\n",
    "                                      feed_dict={x:X_test[i], y_:Y_test[i],keep_prob:1.0}) \n",
    "                                      for i in range(10)])\n",
    "    test_loss = np.mean([sess.run(cross_entropy,\n",
    "                                      feed_dict={x:X_test[i], y_:Y_test[i],keep_prob:1.0}) \n",
    "                                      for i in range(10)])\n",
    "    print(\" Done !!! \")"
   ]
  },
  {
   "cell_type": "code",
   "execution_count": 33,
   "metadata": {},
   "outputs": [
    {
     "name": "stdout",
     "output_type": "stream",
     "text": [
      "\n",
      " [ Train loss ] : 0.18113060295581818\n"
     ]
    }
   ],
   "source": [
    "print(\"\\n [ Train loss ] : {}\".format(train_loss))"
   ]
  },
  {
   "cell_type": "markdown",
   "metadata": {},
   "source": [
    "### Output the test accuracy ..."
   ]
  },
  {
   "cell_type": "code",
   "execution_count": 34,
   "metadata": {},
   "outputs": [
    {
     "name": "stdout",
     "output_type": "stream",
     "text": [
      "\n",
      " [ Test Accuracy ] : 0.959100067615509\n",
      "\n",
      " [ Test loss ] : 0.14039944112300873\n"
     ]
    }
   ],
   "source": [
    "print(\"\\n [ Test Accuracy ] : {}\".format(test_accuracy))\n",
    "print(\"\\n [ Test loss ] : {}\".format(test_loss))"
   ]
  },
  {
   "cell_type": "markdown",
   "metadata": {},
   "source": [
    "\n",
    "***\n",
    "\n",
    "\n",
    "## [ EXERCISE 1 ] :  \n",
    "###  上述程式範例中，請增加 Fully-Connected Deep Networks 的隱藏層，計算並繪製 training & validation curves。\n",
    ">   [ Hint ] :  請參考 PART 2 **`1. TensorFlow 程式設計基礎`** 一章的內容與程式！"
   ]
  },
  {
   "cell_type": "markdown",
   "metadata": {},
   "source": [
    "\n",
    "***\n",
    "\n",
    "\n",
    "## [ EXERCISE 2 ] :  \n",
    "###  請將上述程式範例，輸出結果至 TensorBoard。\n",
    ">   [ Hint ] : Using **`tf.name_scope`**, **`tf.summary`**, ..."
   ]
  },
  {
   "cell_type": "code",
   "execution_count": null,
   "metadata": {},
   "outputs": [],
   "source": []
  }
 ],
 "metadata": {
  "kernelspec": {
   "display_name": "Python 3",
   "language": "python",
   "name": "python3"
  },
  "language_info": {
   "codemirror_mode": {
    "name": "ipython",
    "version": 3
   },
   "file_extension": ".py",
   "mimetype": "text/x-python",
   "name": "python",
   "nbconvert_exporter": "python",
   "pygments_lexer": "ipython3",
   "version": "3.6.5"
  }
 },
 "nbformat": 4,
 "nbformat_minor": 2
}
