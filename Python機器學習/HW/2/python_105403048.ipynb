{
 "cells": [
  {
   "cell_type": "markdown",
   "metadata": {},
   "source": [
    "# [ Ex. 1 ] : List Comprehension\n",
    "(1) 請找出 1 ~ n 之間的 “質數(prime number)”；其中， n 為自然數。\n",
    "\n",
    "(2) 之後，利用 list comprehension 語法，簡化程式。"
   ]
  },
  {
   "cell_type": "code",
   "execution_count": 1,
   "metadata": {},
   "outputs": [
    {
     "name": "stdout",
     "output_type": "stream",
     "text": [
      "[2, 3, 5, 7, 11, 13, 17, 19, 23, 29, 31, 37, 41, 43, 47, 53, 59, 61, 67, 71, 73, 79, 83, 89, 97]\n"
     ]
    }
   ],
   "source": [
    "prime = []\n",
    "A = []\n",
    "\n",
    "for i in range(2, 11):\n",
    "    for j in range(i*2, 100, i):\n",
    "        A.append(j)\n",
    "\n",
    "for x in range(2, 100):\n",
    "    if x not in A:\n",
    "        prime.append(x)\n",
    "    \n",
    "print(prime)"
   ]
  },
  {
   "cell_type": "code",
   "execution_count": 3,
   "metadata": {},
   "outputs": [
    {
     "name": "stdout",
     "output_type": "stream",
     "text": [
      "[2, 3, 5, 7, 11, 13, 17, 19, 23, 29, 31, 37, 41, 43, 47, 53, 59, 61, 67, 71, 73, 79, 83, 89, 97]\n"
     ]
    }
   ],
   "source": [
    "prime = [x for x in range(2, 100) if x not in (j for i in range(2, 11) for j in\n",
    "range(i*2, 100, i))]\n",
    "\n",
    "print(prime)"
   ]
  },
  {
   "cell_type": "markdown",
   "metadata": {},
   "source": [
    "# [ Ex. 2 ]\n",
    "(1) 請找出 費波那契數列中，連續二數的比值，首次出現 黃金比例值 精確至小數點\n",
    "後第 30 位。亦即，輸出該連續二費波那契數。\n",
    "\n",
    "(2) 承上題，其比值是多少？"
   ]
  },
  {
   "cell_type": "code",
   "execution_count": 39,
   "metadata": {},
   "outputs": [
    {
     "name": "stdout",
     "output_type": "stream",
     "text": [
      "費波那契數列中第 77 , 78 的數值\n",
      "(1)連續二費波那契數為:  5527939700884757 , 8944394323791464\n",
      "(2)比值為: 1.618033988749894848204586834365\n"
     ]
    }
   ],
   "source": [
    "# Fibonacci series: F(i) = F(i-1) + F(i+1)\n",
    "from decimal import *\n",
    "getcontext().prec = 32\n",
    "\n",
    "def get_float(f_str, n):\n",
    "    f_str = str(f_str)      \n",
    "    a, b, c = f_str.partition('.')\n",
    "    c = (c+\"0\"*n)[:n]       \n",
    "    return \".\".join([a, c])\n",
    "\n",
    "golden = (Decimal(1) + Decimal(5) ** Decimal(0.5)) / Decimal(2)\n",
    "a,b = Decimal(1), Decimal(2)\n",
    "counter = 2\n",
    "\n",
    "while (b/a)!= golden:\n",
    "    a,b = b, a+b\n",
    "    counter += 1\n",
    "    \n",
    "ratio = get_float(Decimal(b/a),30)\n",
    "\n",
    "print('費波那契數列中第', counter, ',' , counter+1, '的數值' )\n",
    "print('(1)連續二費波那契數為: ', a,',',b)\n",
    "print('(2)比值為:', ratio )\n"
   ]
  }
 ],
 "metadata": {
  "kernelspec": {
   "display_name": "Python 3",
   "language": "python",
   "name": "python3"
  },
  "language_info": {
   "codemirror_mode": {
    "name": "ipython",
    "version": 3
   },
   "file_extension": ".py",
   "mimetype": "text/x-python",
   "name": "python",
   "nbconvert_exporter": "python",
   "pygments_lexer": "ipython3",
   "version": "3.7.1"
  }
 },
 "nbformat": 4,
 "nbformat_minor": 2
}
