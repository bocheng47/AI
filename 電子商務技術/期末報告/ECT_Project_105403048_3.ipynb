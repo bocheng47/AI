{
 "cells": [
  {
   "cell_type": "markdown",
   "metadata": {},
   "source": [
    "# 3. Logistic Regression"
   ]
  },
  {
   "cell_type": "code",
   "execution_count": 1,
   "metadata": {},
   "outputs": [],
   "source": [
    "import pandas as pd\n",
    "import numpy as np\n",
    "from sklearn.metrics import accuracy_score\n",
    "from sklearn.metrics import confusion_matrix\n",
    "from sklearn.metrics import classification_report\n",
    "%matplotlib inline\n",
    "import matplotlib\n",
    "import matplotlib.pyplot as plt\n",
    "import seaborn as sns; sns.set()"
   ]
  },
  {
   "cell_type": "code",
   "execution_count": 2,
   "metadata": {},
   "outputs": [],
   "source": [
    "# 讀取CSV檔案\n",
    "data = pd.read_csv('datanew.csv', index_col=0)\n",
    "\n",
    "# 從 data_new.csv 選取Crossing ~ GKReflexes欄位（共34個屬性）\n",
    "df = data.loc[:,'Crossing':'GKReflexes']\n",
    "\n",
    "# 計算以上所有欄位的平均\n",
    "array_data = np.array(df)\n",
    "column_data_mean = np.mean(array_data, axis =0)\n",
    "all_data_mean = np.mean(column_data_mean)\n",
    "\n",
    "# 加標籤（大於平均：’ Above-average Players’, 小於平均：’ Below-average Players’）\n",
    "df['all_mean'] = df[:].mean(axis=1)\n",
    "df.loc[df.all_mean > all_data_mean, 'label']  = 'Above-average Players'\n",
    "df.loc[df.all_mean <= all_data_mean, 'label'] = 'Below-average Players'\n",
    "df.drop('all_mean', axis=1, inplace=True)\n",
    "\n",
    "data['label'] = df['label']\n",
    "\n",
    "feature = df.iloc[:,0:34]\n",
    "\n",
    "#將屬性轉為數字label\n",
    "from sklearn import preprocessing\n",
    "le = preprocessing.LabelEncoder()\n",
    "target = le.fit_transform(data['label'])\n",
    "\n",
    "# 切分訓練與測試資料\n",
    "from sklearn.model_selection import train_test_split\n",
    "X_train, X_test, y_train, y_test = train_test_split(feature, target, test_size = 0.33, random_state=1)\n",
    "\n",
    "# 定義 target_name 用於顯示圖表使用\n",
    "target_names = ['Above-average Players', 'Below-average Players']"
   ]
  },
  {
   "cell_type": "code",
   "execution_count": 3,
   "metadata": {},
   "outputs": [
    {
     "name": "stdout",
     "output_type": "stream",
     "text": [
      "訓練集準確度為： 0.9660529344073648\n",
      "測試集準確度為： 0.9672951777073252\n",
      "\n",
      "classification_report:\n",
      "                        precision    recall  f1-score   support\n",
      "\n",
      "Above-average Players       0.97      0.98      0.97      3397\n",
      "Below-average Players       0.97      0.95      0.96      2596\n",
      "\n",
      "             accuracy                           0.97      5993\n",
      "            macro avg       0.97      0.97      0.97      5993\n",
      "         weighted avg       0.97      0.97      0.97      5993\n",
      "\n"
     ]
    },
    {
     "data": {
      "image/png": "[encoded data removed]",
      "text/plain": [
       "<Figure size 432x288 with 2 Axes>"
      ]
     },
     "metadata": {
      "needs_background": "light"
     },
     "output_type": "display_data"
    }
   ],
   "source": [
    "from sklearn.linear_model import LogisticRegression\n",
    "\n",
    "# 建立 LinearRegression 模型\n",
    "lr = LogisticRegression(solver='liblinear')\n",
    "\n",
    "datanew_lr = lr.fit(X_train, y_train)\n",
    "# 預測\n",
    "y_test_pred = datanew_lr.predict(X_test)\n",
    "y_train_pred = datanew_lr.predict(X_train)\n",
    "# 績效\n",
    "test_accuracy = accuracy_score(y_test ,y_test_pred)\n",
    "train_accuracy = accuracy_score(y_train ,y_train_pred)\n",
    "\n",
    "cm_train = confusion_matrix(y_train, y_train_pred)\n",
    "cm_test = confusion_matrix(y_test, y_test_pred)\n",
    "\n",
    "print('訓練集準確度為：', train_accuracy)\n",
    "print('測試集準確度為：', test_accuracy)\n",
    "print('\\nclassification_report:\\n', classification_report(y_test, y_test_pred, target_names=target_names))\n",
    "\n",
    "mat = confusion_matrix(y_test, y_test_pred)\n",
    "sns.heatmap(mat.T, square=True, annot=True, fmt='d',\n",
    "            xticklabels=target_names, yticklabels=target_names)\n",
    "plt.xlabel('true label')\n",
    "plt.ylabel('predicted label');"
   ]
  },
  {
   "cell_type": "code",
   "execution_count": null,
   "metadata": {},
   "outputs": [],
   "source": []
  }
 ],
 "metadata": {
  "kernelspec": {
   "display_name": "Python (tensorflow-gpu)",
   "language": "python",
   "name": "tensorflow-gpu"
  },
  "language_info": {
   "codemirror_mode": {
    "name": "ipython",
    "version": 3
   },
   "file_extension": ".py",
   "mimetype": "text/x-python",
   "name": "python",
   "nbconvert_exporter": "python",
   "pygments_lexer": "ipython3",
   "version": "3.7.3"
  }
 },
 "nbformat": 4,
 "nbformat_minor": 2
}
