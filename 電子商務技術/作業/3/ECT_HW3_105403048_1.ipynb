{
 "cells": [
  {
   "cell_type": "markdown",
   "metadata": {},
   "source": [
    "### 安裝指令\n",
    "### pip install apyori "
   ]
  },
  {
   "cell_type": "code",
   "execution_count": 2,
   "metadata": {},
   "outputs": [],
   "source": [
    "# import所需套件 \n",
    "# !pip install apyori\n",
    "import pandas as pd\n",
    "from apyori import apriori "
   ]
  },
  {
   "cell_type": "markdown",
   "metadata": {},
   "source": [
    "### 讀取CSV檔 \n",
    "### https://docs.python.org/3/library/csv.html"
   ]
  },
  {
   "cell_type": "code",
   "execution_count": 3,
   "metadata": {},
   "outputs": [
    {
     "data": {
      "text/plain": [
       "[('40-50000', 'Yes', 'No', 'Male'),\n",
       " ('30-40000', 'Yes', 'No', 'Female'),\n",
       " ('40-50000', 'No', 'No', 'Male'),\n",
       " ('20-30000', 'Yes', 'Yes', 'Male'),\n",
       " ('50-60000', 'Yes', 'No', 'Female'),\n",
       " ('20-30000', 'No', 'No', 'Female'),\n",
       " ('30-40000', 'Yes', 'Yes', 'Male'),\n",
       " ('20-30000', 'No', 'No', 'Male'),\n",
       " ('30-40000', 'Yes', 'No', 'Male'),\n",
       " ('30-40000', 'Yes', 'No', 'Female')]"
      ]
     },
     "execution_count": 3,
     "metadata": {},
     "output_type": "execute_result"
    }
   ],
   "source": [
    "#hint:csv.reader\n",
    "data = pd.read_csv('CreditCardPromotion.csv')\n",
    "#將屬性合併\n",
    "#變成list\n",
    "feature=list(zip(data['Income Range'],data['Magizine Promotion'],data['Credit Card Insurance'],data['Sex']))\n",
    "feature"
   ]
  },
  {
   "cell_type": "code",
   "execution_count": null,
   "metadata": {},
   "outputs": [],
   "source": []
  },
  {
   "cell_type": "markdown",
   "metadata": {},
   "source": [
    "### 關聯式分析\n",
    "### https://pypi.org/project/efficient-apriori/"
   ]
  },
  {
   "cell_type": "code",
   "execution_count": 18,
   "metadata": {
    "scrolled": false
   },
   "outputs": [
    {
     "data": {
      "text/plain": [
       "[RelationRecord(items=frozenset({'Yes', '30-40000'}), support=0.4, ordered_statistics=[OrderedStatistic(items_base=frozenset({'30-40000'}), items_add=frozenset({'Yes'}), confidence=1.0, lift=1.4285714285714286)]),\n",
       " RelationRecord(items=frozenset({'No', 'Female'}), support=0.4, ordered_statistics=[OrderedStatistic(items_base=frozenset({'Female'}), items_add=frozenset({'No'}), confidence=1.0, lift=1.25)]),\n",
       " RelationRecord(items=frozenset({'No', 'Yes', '30-40000'}), support=0.3, ordered_statistics=[OrderedStatistic(items_base=frozenset({'No', '30-40000'}), items_add=frozenset({'Yes'}), confidence=1.0, lift=1.4285714285714286)]),\n",
       " RelationRecord(items=frozenset({'No', 'Female', 'Yes'}), support=0.3, ordered_statistics=[OrderedStatistic(items_base=frozenset({'Female', 'Yes'}), items_add=frozenset({'No'}), confidence=1.0, lift=1.25)])]"
      ]
     },
     "execution_count": 18,
     "metadata": {},
     "output_type": "execute_result"
    }
   ],
   "source": [
    "#hint:apriori()\n",
    "association_rules  = apriori(feature, min_support=0.25,  min_confidence=0.9)\n",
    "association_results = list(association_rules)\n",
    "association_results\n",
    "for item in association_results:\n",
    "    # first index of the inner list\n",
    "    # Contains base item and add item\n",
    "    pair = item[0] \n",
    "    items = [x for x in pair]\n",
    "    \n",
    "    if len(items)<3 :\n",
    "        print(\"Rule: \" + items[0] + \" -> \" + items[1])\n",
    "    else:\n",
    "        print(\"Rule: \" + items[0] + \" -> \" + items[1] + \" -> \" + items[2])\n",
    "\n",
    "    #second index of the inner list\n",
    "    print(\"Support: \" + str(item[1]))\n",
    "\n",
    "    #third index of the list located at 0th\n",
    "    #of the third index of the inner list\n",
    "    print(\"Confidence: \" + str(item[2][0][2]))\n",
    "    print(\"Lift: \" + str(item[2][0][3]))\n",
    "    print(\"=====================================\")"
   ]
  },
  {
   "cell_type": "markdown",
   "metadata": {},
   "source": [
    "### 排序 \n",
    "### https://pandas.pydata.org/pandas-docs/stable/reference/api/pandas.DataFrame.sort_values.html"
   ]
  },
  {
   "cell_type": "code",
   "execution_count": 30,
   "metadata": {},
   "outputs": [
    {
     "name": "stdout",
     "output_type": "stream",
     "text": [
      "Rule: Yes -> 30-40000\n",
      "Support: 0.4\n",
      "Confidence: 1.0\n",
      "Lift: 1.4285714285714286\n",
      "=====================================\n",
      "Rule: No -> Female\n",
      "Support: 0.4\n",
      "Confidence: 1.0\n",
      "Lift: 1.25\n",
      "=====================================\n",
      "Rule: No -> Yes -> 30-40000\n",
      "Support: 0.3\n",
      "Confidence: 1.0\n",
      "Lift: 1.4285714285714286\n",
      "=====================================\n",
      "Rule: No -> Female -> Yes\n",
      "Support: 0.3\n",
      "Confidence: 1.0\n",
      "Lift: 1.25\n",
      "=====================================\n"
     ]
    }
   ],
   "source": [
    "#hint:darafrme.sort_values()\n",
    "df = pd.DataFrame(association_results)\n",
    "df\n",
    "ordered_df = df.sort_values(by=['support'], ascending=False)\n",
    "ordered_list = ordered_df.values.tolist()\n",
    "\n",
    "for item in ordered_list:\n",
    "    # first index of the inner list\n",
    "    # Contains base item and add item\n",
    "    pair = item[0] \n",
    "    items = [x for x in pair]\n",
    "    \n",
    "    if len(items)<3 :\n",
    "        print(\"Rule: \" + items[0] + \" -> \" + items[1])\n",
    "    else:\n",
    "        print(\"Rule: \" + items[0] + \" -> \" + items[1] + \" -> \" + items[2])\n",
    "\n",
    "    #second index of the inner list\n",
    "    print(\"Support: \" + str(item[1]))\n",
    "\n",
    "    #third index of the list located at 0th\n",
    "    #of the third index of the inner list\n",
    "    print(\"Confidence: \" + str(item[2][0][2]))\n",
    "    print(\"Lift: \" + str(item[2][0][3]))\n",
    "    print(\"=====================================\")"
   ]
  },
  {
   "cell_type": "code",
   "execution_count": null,
   "metadata": {},
   "outputs": [],
   "source": []
  },
  {
   "cell_type": "code",
   "execution_count": null,
   "metadata": {},
   "outputs": [],
   "source": []
  },
  {
   "cell_type": "code",
   "execution_count": null,
   "metadata": {},
   "outputs": [],
   "source": []
  },
  {
   "cell_type": "code",
   "execution_count": null,
   "metadata": {},
   "outputs": [],
   "source": []
  }
 ],
 "metadata": {
  "kernelspec": {
   "display_name": "Python 3",
   "language": "python",
   "name": "python3"
  },
  "language_info": {
   "codemirror_mode": {
    "name": "ipython",
    "version": 3
   },
   "file_extension": ".py",
   "mimetype": "text/x-python",
   "name": "python",
   "nbconvert_exporter": "python",
   "pygments_lexer": "ipython3",
   "version": "3.7.1"
  }
 },
 "nbformat": 4,
 "nbformat_minor": 2
}
