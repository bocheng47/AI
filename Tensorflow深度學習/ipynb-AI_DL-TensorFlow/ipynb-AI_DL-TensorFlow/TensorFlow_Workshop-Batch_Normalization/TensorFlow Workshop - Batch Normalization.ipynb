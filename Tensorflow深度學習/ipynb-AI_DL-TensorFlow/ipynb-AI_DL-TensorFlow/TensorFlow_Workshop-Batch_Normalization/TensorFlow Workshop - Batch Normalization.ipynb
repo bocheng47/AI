{
 "cells": [
  {
   "cell_type": "markdown",
   "metadata": {},
   "source": [
    "# TensorFlow Workshop - Batch Normalization\n",
    "2019/09/06\n",
    "\n",
    "[ Reference ]\n",
    "+ Rui Shu, \"**TENSORFLOW GUIDE: BATCH NORMALIZATION**\", 2016/12/26. http://ruishu.io/2016/12/27/batchnorm/\n",
    "    + Github code: https://github.com/RuiShu/micro-projects/blob/master/tf-batchnorm/batchnorm_guide.ipynb\n",
    "+ Antoine Labatie, \"**It’s Necessary to Combine Batch Norm and Skip Connections**\", Towards Data Science, 2019/09/01. https://towardsdatascience.com/its-necessary-to-combine-batch-norm-and-skip-connections-e92210ca04da\n",
    "+ Federico Peccia, \"**Batch normalization: theory and how to use it with Tensorflow**\", , Towards Data Science, 2018/09/16. https://towardsdatascience.com/batch-normalization-theory-and-how-to-use-it-with-tensorflow-1892ca0173ad"
   ]
  },
  {
   "cell_type": "code",
   "execution_count": 1,
   "metadata": {},
   "outputs": [
    {
     "name": "stderr",
     "output_type": "stream",
     "text": [
      "C:\\Users\\USER\\Anaconda3\\lib\\site-packages\\h5py\\__init__.py:36: FutureWarning: Conversion of the second argument of issubdtype from `float` to `np.floating` is deprecated. In future, it will be treated as `np.float64 == np.dtype(float).type`.\n",
      "  from ._conv import register_converters as _register_converters\n"
     ]
    },
    {
     "name": "stdout",
     "output_type": "stream",
     "text": [
      "1.12.0\n"
     ]
    }
   ],
   "source": [
    "import numpy as np\n",
    "import tensorflow as tf\n",
    "print(tf.__version__)\n",
    "# for the old-version usage of TensorFlow, such as tensorflow.examples.tutorials.mnist\n",
    "old_v = tf.logging.get_verbosity()          \n",
    "tf.logging.set_verbosity(tf.logging.ERROR) "
   ]
  },
  {
   "cell_type": "markdown",
   "metadata": {},
   "source": [
    "### Input MNIST dataset "
   ]
  },
  {
   "cell_type": "code",
   "execution_count": 2,
   "metadata": {},
   "outputs": [
    {
     "name": "stdout",
     "output_type": "stream",
     "text": [
      "Extracting MNIST_data/train-images-idx3-ubyte.gz\n",
      "Extracting MNIST_data/train-labels-idx1-ubyte.gz\n",
      "Extracting MNIST_data/t10k-images-idx3-ubyte.gz\n",
      "Extracting MNIST_data/t10k-labels-idx1-ubyte.gz\n"
     ]
    }
   ],
   "source": [
    "from tensorflow.examples.tutorials.mnist import input_data\n",
    "\n",
    "mnist = input_data.read_data_sets(\"MNIST_data/\", one_hot=True)"
   ]
  },
  {
   "cell_type": "code",
   "execution_count": 3,
   "metadata": {},
   "outputs": [
    {
     "name": "stdout",
     "output_type": "stream",
     "text": [
      " mnist.train.images.shape :\t  (55000, 784)\n",
      " mnist.train.labels.shape :\t  (55000, 10)\n",
      " mnist.validation.images.shape :  (5000, 784)\n",
      " mnist.validation.labels.shape :  (5000, 10)\n",
      " mnist.test.images.shape :\t  (10000, 784)\n",
      " mnist.test.labels.shape :\t  (10000, 10)\n"
     ]
    },
    {
     "data": {
      "text/plain": [
       "array([0., 0., 0., 0., 0., 0., 0., 1., 0., 0.])"
      ]
     },
     "execution_count": 3,
     "metadata": {},
     "output_type": "execute_result"
    }
   ],
   "source": [
    "print(\" mnist.train.images.shape :\\t \", mnist.train.images.shape)\n",
    "print(\" mnist.train.labels.shape :\\t \", mnist.train.labels.shape)\n",
    "print(\" mnist.validation.images.shape : \", mnist.validation.images.shape)\n",
    "print(\" mnist.validation.labels.shape : \", mnist.validation.labels.shape)\n",
    "print(\" mnist.test.images.shape :\\t \", mnist.test.images.shape)\n",
    "print(\" mnist.test.labels.shape :\\t \", mnist.test.labels.shape)\n",
    "\n",
    "mnist.test.labels[0]"
   ]
  },
  {
   "cell_type": "markdown",
   "metadata": {},
   "source": [
    "> + **[NOTE]: the `phase` term. **\n",
    "    + useed as a **placeholder for a boolean** which we will insert into ``feed_dict`. \n",
    "    + It will serve as a binary indicator for whether we are in **training phase=True** or **testing phase=False** mode. "
   ]
  },
  {
   "cell_type": "code",
   "execution_count": 4,
   "metadata": {},
   "outputs": [],
   "source": [
    "def train_test():\n",
    "    update_ops = tf.get_collection(tf.GraphKeys.UPDATE_OPS)\n",
    "    with tf.control_dependencies(update_ops):\n",
    "        train_step = tf.train.GradientDescentOptimizer(0.01).minimize(loss)\n",
    "    \n",
    "    # --------------------------------------\n",
    "    # Launch the computation graph...\n",
    "    # --------------------------------------\n",
    "    sess = tf.Session()\n",
    "    sess.run(tf.global_variables_initializer())\n",
    "    \n",
    "    history = []\n",
    "    iterep = 500\n",
    "    for i in range(iterep * 30):\n",
    "        x_train, y_train = mnist.train.next_batch(100)\n",
    "        sess.run(train_step,\n",
    "                 feed_dict={'x:0': x_train, \n",
    "                            'y:0': y_train, \n",
    "                            'phase:0': 1})\n",
    "        if (i + 1) %  iterep == 0:\n",
    "            epoch = (i + 1)/iterep\n",
    "            tr = sess.run([loss, accuracy], \n",
    "                          feed_dict={'x:0': mnist.train.images,\n",
    "                                     'y:0': mnist.train.labels,\n",
    "                                     'phase:0': 1})\n",
    "            t = sess.run([loss, accuracy], \n",
    "                         feed_dict={'x:0': mnist.validation.images,\n",
    "                                    'y:0': mnist.validation.labels,\n",
    "                                    'phase:0': 0})\n",
    "            history += [[epoch] + tr + t]\n",
    "            print(history[-1])\n",
    "            \n",
    "    print(\"\\n Computing the test accuracy ... \", end = \" \")\n",
    "    \n",
    "    ##  ------------------------------------------------------------------\n",
    "    ##  Test datasets...\n",
    "    ##  ------------------------------------------------------------------\n",
    "    test_loss = sess.run(loss, feed_dict={'x:0': mnist.test.images,\n",
    "                                          'y:0': mnist.test.labels,\n",
    "                                          'phase:0': 0})\n",
    "    test_accu = sess.run(accuracy, feed_dict={'x:0': mnist.test.images,\n",
    "                                              'y:0': mnist.test.labels,\n",
    "                                              'phase:0': 0})\n",
    "    print(\" Done !!! \")\n",
    "    \n",
    "    return history, test_accu, test_loss"
   ]
  },
  {
   "cell_type": "markdown",
   "metadata": {},
   "source": [
    "## < Case 1 > : No batch normalization"
   ]
  },
  {
   "cell_type": "code",
   "execution_count": 5,
   "metadata": {},
   "outputs": [],
   "source": [
    "def dense(x, size, scope):\n",
    "    return tf.contrib.layers.fully_connected(x, size, \n",
    "                                             activation_fn=None,\n",
    "                                             scope=scope)\n",
    "\n",
    "def dense_relu(x, size, scope):\n",
    "    with tf.variable_scope(scope):\n",
    "        h1 = dense(x, size, 'dense')\n",
    "        return tf.nn.relu(h1, 'relu')"
   ]
  },
  {
   "cell_type": "code",
   "execution_count": 6,
   "metadata": {},
   "outputs": [],
   "source": [
    "# Reset the default graph...\n",
    "tf.reset_default_graph()\n",
    "\n",
    "# -------------------------------\n",
    "# Build a computation graph...\n",
    "# -------------------------------\n",
    "x = tf.placeholder('float32', (None, 784), name='x')\n",
    "y = tf.placeholder('float32', (None, 10), name='y')\n",
    "phase = tf.placeholder(tf.bool, name='phase')\n",
    "\n",
    "# FCDNetwork with 2 hidden layers...\n",
    "h1 = dense_relu(x, 100, 'layer1')\n",
    "h2 = dense_relu(h1, 100, 'layer2')\n",
    "logits = dense(h2, 10, scope='logits')\n",
    "\n",
    "with tf.name_scope('accuracy'):\n",
    "    accuracy = tf.reduce_mean(tf.cast(\n",
    "            tf.equal(tf.argmax(y, 1), tf.argmax(logits, 1)), \n",
    "            'float32'))\n",
    "\n",
    "with tf.name_scope('loss'):\n",
    "    loss = tf.reduce_mean(\n",
    "        tf.nn.softmax_cross_entropy_with_logits(labels=y, logits=logits))"
   ]
  },
  {
   "cell_type": "code",
   "execution_count": 7,
   "metadata": {
    "scrolled": true
   },
   "outputs": [
    {
     "name": "stdout",
     "output_type": "stream",
     "text": [
      "[1.0, 0.64369357, 0.8404545, 0.63108987, 0.8424]\n",
      "[2.0, 0.43187112, 0.8845636, 0.41367382, 0.8922]\n",
      "[3.0, 0.3668733, 0.89634544, 0.34968525, 0.9064]\n",
      "[4.0, 0.3330358, 0.9050909, 0.31499434, 0.9154]\n",
      "[5.0, 0.3079033, 0.91243637, 0.29269007, 0.9228]\n",
      "[6.0, 0.29071343, 0.91636366, 0.27582532, 0.9256]\n",
      "[7.0, 0.27571824, 0.92103636, 0.26102918, 0.9304]\n",
      "[8.0, 0.26239407, 0.92416364, 0.24881089, 0.932]\n",
      "[9.0, 0.25016466, 0.9281818, 0.237745, 0.935]\n",
      "[10.0, 0.24003498, 0.9311636, 0.22789778, 0.939]\n",
      "[11.0, 0.22972186, 0.93456364, 0.21864599, 0.9406]\n",
      "[12.0, 0.22152866, 0.93709093, 0.21245202, 0.9428]\n",
      "[13.0, 0.213613, 0.9393091, 0.20563754, 0.9446]\n",
      "[14.0, 0.20524722, 0.94183636, 0.19743003, 0.9444]\n",
      "[15.0, 0.19854386, 0.94363636, 0.19187737, 0.947]\n",
      "[16.0, 0.19190809, 0.9461273, 0.18588974, 0.9482]\n",
      "[17.0, 0.18590873, 0.9474364, 0.18186072, 0.9492]\n",
      "[18.0, 0.18064874, 0.9486727, 0.17720234, 0.9502]\n",
      "[19.0, 0.1762649, 0.95001817, 0.17391694, 0.9514]\n",
      "[20.0, 0.16990486, 0.9518909, 0.16850537, 0.9524]\n",
      "[21.0, 0.16495036, 0.95283633, 0.163139, 0.9554]\n",
      "[22.0, 0.15975916, 0.9548182, 0.15821481, 0.956]\n",
      "[23.0, 0.15542848, 0.95616364, 0.15541755, 0.9566]\n",
      "[24.0, 0.15080449, 0.95721817, 0.15198089, 0.958]\n",
      "[25.0, 0.14668562, 0.9585818, 0.14788015, 0.959]\n",
      "[26.0, 0.14303516, 0.9596, 0.14541927, 0.9598]\n",
      "[27.0, 0.14037074, 0.9604909, 0.14384261, 0.959]\n",
      "[28.0, 0.13763228, 0.96085453, 0.14082378, 0.9614]\n",
      "[29.0, 0.13343051, 0.9625818, 0.1381419, 0.9622]\n",
      "[30.0, 0.13085136, 0.9632364, 0.13572584, 0.9614]\n",
      "\n",
      " Computing the test accuracy ...   Done !!! \n"
     ]
    }
   ],
   "source": [
    "history, test_accu, test_loss = train_test()"
   ]
  },
  {
   "cell_type": "code",
   "execution_count": 8,
   "metadata": {},
   "outputs": [
    {
     "name": "stdout",
     "output_type": "stream",
     "text": [
      " [ Test  Accuracy ] : 0.9592000246047974\n",
      " [ Test Loss Score ] : 0.13954949378967285\n"
     ]
    }
   ],
   "source": [
    "print(\" [ Test  Accuracy ] : {}\".format(test_accu) +\n",
    "      \"\\n [ Test Loss Score ] : {}\".format(test_loss))"
   ]
  },
  {
   "cell_type": "markdown",
   "metadata": {},
   "source": [
    "## < Case 2 > : Standard batch normalization\n",
    "+ Batch normalization would be to simply use the `tf.contrib.layers.batch_norm layer`.\n",
    "+ One thing that might stand out is the `phase` term. \n",
    "    + We are going to use as a **placeholder for a boolean** which we will insert into feed_dict. \n",
    "    + It will serve as a binary indicator for whether we are in **training phase=True** or **testing phase=False** mode. \n",
    "    \n",
    "    \n",
    "+ Recall that batch normalization has distinct behaviors during training verus test time:\n",
    "> + Training\n",
    "    1. Normalize layer activations according to mini-batch statistics.\n",
    "    2. During the training step, update population statistics approximation via moving average of mini-batch statistics.\n",
    " + Testing\n",
    "    1. Normalize layer activations according to estimated population statistics.\n",
    "    2. Do not update population statistics according to mini-batch statistcs from test data."
   ]
  },
  {
   "cell_type": "code",
   "execution_count": 9,
   "metadata": {},
   "outputs": [],
   "source": [
    "def dense_batch_relu(x, phase, scope):\n",
    "    with tf.variable_scope(scope):\n",
    "        h1 = tf.contrib.layers.fully_connected(x, 100, activation_fn=None, scope='dense')\n",
    "        \n",
    "        # Batch normalization would be to simply use the tf.contrib.layers.batch_norm layer.\n",
    "        h2 = tf.contrib.layers.batch_norm(h1, \n",
    "                                          center=True, scale=True, \n",
    "                                          is_training = phase,\n",
    "                                          scope='bn')\n",
    "        return tf.nn.relu(h2, 'relu')"
   ]
  },
  {
   "cell_type": "code",
   "execution_count": 10,
   "metadata": {},
   "outputs": [],
   "source": [
    "# Reset the default graph...\n",
    "tf.reset_default_graph()\n",
    "\n",
    "# -------------------------------\n",
    "# Build a computation graph...\n",
    "# -------------------------------\n",
    "x = tf.placeholder('float32', (None, 784), name='x')\n",
    "y = tf.placeholder('float32', (None, 10), name='y')\n",
    "phase = tf.placeholder(tf.bool, name='phase')\n",
    "\n",
    "# FCDNetwork with 2 hidden layers...\n",
    "h1 = dense_batch_relu(x, phase,'layer1')\n",
    "h2 = dense_batch_relu(h1, phase, 'layer2')\n",
    "logits = dense(h2, 10, 'logits')\n",
    "\n",
    "with tf.name_scope('accuracy'):\n",
    "    accuracy = tf.reduce_mean(tf.cast(\n",
    "            tf.equal(tf.argmax(y, 1), tf.argmax(logits, 1)), \n",
    "            'float32'))\n",
    "\n",
    "with tf.name_scope('loss'):\n",
    "    loss = tf.reduce_mean(\n",
    "        tf.nn.softmax_cross_entropy_with_logits(labels=y, logits=logits))"
   ]
  },
  {
   "cell_type": "code",
   "execution_count": 11,
   "metadata": {},
   "outputs": [
    {
     "name": "stdout",
     "output_type": "stream",
     "text": [
      "[1.0, 0.40485322, 0.8984727, 1.1999239, 0.874]\n",
      "[2.0, 0.2847411, 0.9240909, 0.74184793, 0.9224]\n",
      "[3.0, 0.23023732, 0.9374545, 0.45222998, 0.9382]\n",
      "[4.0, 0.19694106, 0.9461273, 0.29963955, 0.946]\n",
      "[5.0, 0.17364232, 0.9526, 0.22907026, 0.9512]\n",
      "[6.0, 0.1556297, 0.95794547, 0.18720317, 0.9558]\n",
      "[7.0, 0.14133391, 0.96154547, 0.16559318, 0.961]\n",
      "[8.0, 0.12933636, 0.96492726, 0.14862578, 0.9628]\n",
      "[9.0, 0.1194299, 0.96763635, 0.14128284, 0.9622]\n",
      "[10.0, 0.110820666, 0.9699091, 0.13217904, 0.9628]\n",
      "[11.0, 0.10316458, 0.9722546, 0.1249631, 0.967]\n",
      "[12.0, 0.09651291, 0.9743818, 0.12111182, 0.9676]\n",
      "[13.0, 0.090465836, 0.97621816, 0.116490304, 0.9666]\n",
      "[14.0, 0.084837526, 0.9777455, 0.109915316, 0.9682]\n",
      "[15.0, 0.07990484, 0.9793636, 0.10598856, 0.9698]\n",
      "[16.0, 0.07566225, 0.9804909, 0.10386348, 0.9708]\n",
      "[17.0, 0.071816705, 0.9815091, 0.100832835, 0.9726]\n",
      "[18.0, 0.06806612, 0.98267275, 0.098630674, 0.9716]\n",
      "[19.0, 0.06444315, 0.98407274, 0.09647686, 0.9728]\n",
      "[20.0, 0.061162584, 0.98474544, 0.095267855, 0.9728]\n",
      "[21.0, 0.058294035, 0.9859818, 0.09325443, 0.9722]\n",
      "[22.0, 0.05528217, 0.9866545, 0.09061943, 0.9734]\n",
      "[23.0, 0.052834187, 0.9876, 0.08908109, 0.9738]\n",
      "[24.0, 0.050228853, 0.98823637, 0.089407735, 0.973]\n",
      "[25.0, 0.04775413, 0.989, 0.086912565, 0.974]\n",
      "[26.0, 0.04563425, 0.9894, 0.086551614, 0.9726]\n",
      "[27.0, 0.043630797, 0.9901636, 0.086013064, 0.973]\n",
      "[28.0, 0.041705646, 0.99076366, 0.085658304, 0.9736]\n",
      "[29.0, 0.040039945, 0.9912909, 0.085873984, 0.9734]\n",
      "[30.0, 0.038355317, 0.99178183, 0.08300745, 0.974]\n",
      "\n",
      " Computing the test accuracy ...   Done !!! \n"
     ]
    }
   ],
   "source": [
    "history_bn, test_accu_bn, test_loss_bn = train_test()"
   ]
  },
  {
   "cell_type": "code",
   "execution_count": 12,
   "metadata": {},
   "outputs": [
    {
     "name": "stdout",
     "output_type": "stream",
     "text": [
      " << With Batch Normalization >> :\n",
      " [ Test  Accuracy ] : 0.9750000238418579\n",
      " [ Test Loss Score ] : 0.0813644602894783\n",
      "\n",
      " < Without Batch Normalization > :\n",
      " [ Test  Accuracy ] : 0.9592000246047974\n",
      " [ Test Loss Score ] : 0.13954949378967285\n"
     ]
    }
   ],
   "source": [
    "print(\" << With Batch Normalization >> :\")\n",
    "print(\" [ Test  Accuracy ] : {}\".format(test_accu_bn) +\n",
    "      \"\\n [ Test Loss Score ] : {}\".format(test_loss_bn))\n",
    "\n",
    "print(\"\\n < Without Batch Normalization > :\")\n",
    "print(\" [ Test  Accuracy ] : {}\".format(test_accu) +\n",
    "      \"\\n [ Test Loss Score ] : {}\".format(test_loss))"
   ]
  },
  {
   "cell_type": "markdown",
   "metadata": {},
   "source": [
    "## < Case 3 > : Post-activation batch normalization"
   ]
  },
  {
   "cell_type": "code",
   "execution_count": 13,
   "metadata": {},
   "outputs": [],
   "source": [
    "def dense_relu_batch(x, phase, scope):\n",
    "    with tf.variable_scope(scope):\n",
    "        h1 = dense_relu(x, 100, scope='dense_relu')\n",
    "        \n",
    "        ##  Post-activation batch normalization...\n",
    "        bn = tf.contrib.layers.batch_norm(h1, \n",
    "                                          center=True, scale=True, \n",
    "                                          is_training=phase,\n",
    "                                          scope='bn')\n",
    "        return bn"
   ]
  },
  {
   "cell_type": "code",
   "execution_count": 14,
   "metadata": {},
   "outputs": [],
   "source": [
    "tf.reset_default_graph()\n",
    "x = tf.placeholder('float32', (None, 784), name='x')\n",
    "y = tf.placeholder('float32', (None, 10), name='y')\n",
    "phase = tf.placeholder(tf.bool, name='phase')\n",
    "\n",
    "h1 = dense_relu_batch(x, phase,'layer1')\n",
    "h2 = dense_relu_batch(h1, phase, 'layer2')\n",
    "logits = dense(h2, 10, 'logits')\n",
    "\n",
    "with tf.name_scope('accuracy'):\n",
    "    accuracy = tf.reduce_mean(tf.cast(\n",
    "            tf.equal(tf.argmax(y, 1), tf.argmax(logits, 1)), \n",
    "            'float32'))\n",
    "\n",
    "with tf.name_scope('loss'):\n",
    "    loss = tf.reduce_mean(\n",
    "        tf.nn.softmax_cross_entropy_with_logits(labels=y, logits=logits))"
   ]
  },
  {
   "cell_type": "code",
   "execution_count": 15,
   "metadata": {},
   "outputs": [
    {
     "name": "stdout",
     "output_type": "stream",
     "text": [
      "[1.0, 0.29338053, 0.9196909, 1.272942, 0.8548]\n",
      "[2.0, 0.21475086, 0.94027275, 0.85041726, 0.9034]\n",
      "[3.0, 0.17784858, 0.9508, 0.5474856, 0.9302]\n",
      "[4.0, 0.15348966, 0.9576182, 0.33674404, 0.948]\n",
      "[5.0, 0.13592385, 0.96212727, 0.23857275, 0.9506]\n",
      "[6.0, 0.12175672, 0.9664364, 0.18252197, 0.9586]\n",
      "[7.0, 0.11116396, 0.96958184, 0.15072505, 0.9634]\n",
      "[8.0, 0.102125496, 0.97203636, 0.13410223, 0.9644]\n",
      "[9.0, 0.094353765, 0.9739091, 0.123353615, 0.9652]\n",
      "[10.0, 0.08762966, 0.97603637, 0.11615393, 0.9656]\n",
      "[11.0, 0.08140675, 0.97761816, 0.11205431, 0.9684]\n",
      "[12.0, 0.076269366, 0.9791273, 0.1095569, 0.9678]\n",
      "[13.0, 0.07150714, 0.9804909, 0.10551389, 0.967]\n",
      "[14.0, 0.067102194, 0.98196363, 0.102774344, 0.9674]\n",
      "[15.0, 0.062983826, 0.9833818, 0.0987692, 0.9686]\n",
      "[16.0, 0.059224024, 0.98425454, 0.09673692, 0.9696]\n",
      "[17.0, 0.055802558, 0.9854364, 0.095744595, 0.9712]\n",
      "[18.0, 0.052325185, 0.98661816, 0.09365685, 0.9706]\n",
      "[19.0, 0.049617745, 0.9872364, 0.09164633, 0.9716]\n",
      "[20.0, 0.046990424, 0.98865455, 0.09050287, 0.9718]\n",
      "[21.0, 0.044654217, 0.9891091, 0.08961212, 0.971]\n",
      "[22.0, 0.04231629, 0.98987275, 0.08971795, 0.9718]\n",
      "[23.0, 0.040375747, 0.99072725, 0.08879646, 0.9728]\n",
      "[24.0, 0.038288068, 0.9912182, 0.08615205, 0.9732]\n",
      "[25.0, 0.036307126, 0.99192727, 0.08738852, 0.9734]\n",
      "[26.0, 0.03444922, 0.9927273, 0.08553286, 0.9734]\n",
      "[27.0, 0.032647442, 0.9931091, 0.08633743, 0.9724]\n",
      "[28.0, 0.030929048, 0.9939091, 0.08539496, 0.9734]\n",
      "[29.0, 0.029953986, 0.9938, 0.08517995, 0.974]\n",
      "[30.0, 0.028451633, 0.9944364, 0.08434387, 0.9744]\n",
      "\n",
      " Computing the test accuracy ...   Done !!! \n"
     ]
    }
   ],
   "source": [
    "history_post_bn, test_accu_post_bn, test_loss_post_bn = train_test()"
   ]
  },
  {
   "cell_type": "code",
   "execution_count": 16,
   "metadata": {},
   "outputs": [
    {
     "name": "stdout",
     "output_type": "stream",
     "text": [
      " <<< Post-activation Batch Normalization >>> :\n",
      " [ Test  Accuracy ] : 0.9761000275611877\n",
      " [ Test Loss Score ] : 0.08165952563285828\n",
      " << With Batch Normalization >> :\n",
      " [ Test  Accuracy ] : 0.9750000238418579\n",
      " [ Test Loss Score ] : 0.0813644602894783\n",
      "\n",
      " < Without Batch Normalization > :\n",
      " [ Test  Accuracy ] : 0.9592000246047974\n",
      " [ Test Loss Score ] : 0.13954949378967285\n"
     ]
    }
   ],
   "source": [
    "print(\" <<< Post-activation Batch Normalization >>> :\")\n",
    "print(\" [ Test  Accuracy ] : {}\".format(test_accu_post_bn) +\n",
    "      \"\\n [ Test Loss Score ] : {}\".format(test_loss_post_bn))\n",
    "\n",
    "print(\" << With Batch Normalization >> :\")\n",
    "print(\" [ Test  Accuracy ] : {}\".format(test_accu_bn) +\n",
    "      \"\\n [ Test Loss Score ] : {}\".format(test_loss_bn))\n",
    "\n",
    "print(\"\\n < Without Batch Normalization > :\")\n",
    "print(\" [ Test  Accuracy ] : {}\".format(test_accu) +\n",
    "      \"\\n [ Test Loss Score ] : {}\".format(test_loss))"
   ]
  },
  {
   "cell_type": "markdown",
   "metadata": {},
   "source": [
    "## Evaluation"
   ]
  },
  {
   "cell_type": "code",
   "execution_count": 17,
   "metadata": {},
   "outputs": [
    {
     "name": "stdout",
     "output_type": "stream",
     "text": [
      "Populating the interactive namespace from numpy and matplotlib\n"
     ]
    }
   ],
   "source": [
    "%pylab inline\n",
    "import seaborn as sns"
   ]
  },
  {
   "cell_type": "code",
   "execution_count": 18,
   "metadata": {},
   "outputs": [],
   "source": [
    "history = np.array(history)\n",
    "history_bn = np.array(history_bn)\n",
    "history_post_bn = np.array(history_post_bn)"
   ]
  },
  {
   "cell_type": "code",
   "execution_count": 19,
   "metadata": {},
   "outputs": [
    {
     "data": {
      "text/plain": [
       "<matplotlib.legend.Legend at 0x2699ace2d30>"
      ]
     },
     "execution_count": 19,
     "metadata": {},
     "output_type": "execute_result"
    },
    {
     "data": {
      "image/png": "[encoded data removed]",
      "text/plain": [
       "<Figure size 432x288 with 1 Axes>"
      ]
     },
     "metadata": {},
     "output_type": "display_data"
    }
   ],
   "source": [
    "plt.plot(history[:, 0], history[:, -1], label='t_acc')\n",
    "plt.plot(history_bn[:, 0], history_bn[:, -1], label='t_acc_bn')\n",
    "plt.plot(history_post_bn[:, 0], history_post_bn[:, -1], label='t_acc_post_bn')\n",
    "plt.legend()"
   ]
  },
  {
   "cell_type": "markdown",
   "metadata": {},
   "source": [
    "### As you can see, batch normalization really does help with training (not always, but it certainly did in this simple example)."
   ]
  },
  {
   "cell_type": "code",
   "execution_count": null,
   "metadata": {},
   "outputs": [],
   "source": []
  }
 ],
 "metadata": {
  "kernelspec": {
   "display_name": "Python 3",
   "language": "python",
   "name": "python3"
  },
  "language_info": {
   "codemirror_mode": {
    "name": "ipython",
    "version": 3
   },
   "file_extension": ".py",
   "mimetype": "text/x-python",
   "name": "python",
   "nbconvert_exporter": "python",
   "pygments_lexer": "ipython3",
   "version": "3.6.5"
  }
 },
 "nbformat": 4,
 "nbformat_minor": 2
}
