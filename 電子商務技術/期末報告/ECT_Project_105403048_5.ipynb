{
 "cells": [
  {
   "cell_type": "markdown",
   "metadata": {},
   "source": [
    "# 5. KNN\n",
    "\n",
    "###  取data_new.csv，進行KNN 分析\n",
    "\n",
    "###  可針對所需的模型進行屬性挑選"
   ]
  },
  {
   "cell_type": "code",
   "execution_count": 4,
   "metadata": {},
   "outputs": [],
   "source": [
    "import pandas as pd\n",
    "import numpy as np\n",
    "from sklearn.metrics import accuracy_score\n",
    "from sklearn.metrics import confusion_matrix\n",
    "from sklearn.metrics import classification_report\n",
    "%matplotlib inline\n",
    "import matplotlib\n",
    "import matplotlib.pyplot as plt\n",
    "import seaborn as sns; sns.set()"
   ]
  },
  {
   "cell_type": "code",
   "execution_count": 7,
   "metadata": {},
   "outputs": [],
   "source": [
    "# 讀取CSV檔案\n",
    "data = pd.read_csv('datanew.csv', index_col=0)\n",
    "\n",
    "# 從 data_new.csv 選取Crossing ~ GKReflexes欄位（共34個屬性）\n",
    "df = data.loc[:,'Crossing':'GKReflexes']\n",
    "\n",
    "# 計算以上所有欄位的平均\n",
    "array_data = np.array(df)\n",
    "column_data_mean = np.mean(array_data, axis =0)\n",
    "all_data_mean = np.mean(column_data_mean)\n",
    "\n",
    "# 加標籤（大於平均：’ Above-average Players’, 小於平均：’ Below-average Players’）\n",
    "df['all_mean'] = df[:].mean(axis=1)\n",
    "df.loc[df.all_mean > all_data_mean, 'label']  = 'Above-average Players'\n",
    "df.loc[df.all_mean <= all_data_mean, 'label'] = 'Below-average Players'\n",
    "df.drop('all_mean', axis=1, inplace=True)\n",
    "\n",
    "data['label'] = df['label']\n",
    "\n",
    "feature = data.iloc[:,6:43]\n",
    "feature['Skill Moves'] = data['Skill Moves']\n",
    "\n",
    "# 定義 target_name 用於顯示圖表使用\n",
    "target_names = ['Above-average Players', 'Below-average Players']"
   ]
  },
  {
   "cell_type": "markdown",
   "metadata": {},
   "source": [
    "### (a) 推薦與 \"Neymar Jr\" 相像的前五名足球選手"
   ]
  },
  {
   "cell_type": "code",
   "execution_count": 8,
   "metadata": {},
   "outputs": [
    {
     "name": "stdout",
     "output_type": "stream",
     "text": [
      "2         Neymar Jr\n",
      "5         E. Hazard\n",
      "65    Douglas Costa\n",
      "15        P. Dybala\n",
      "25        K. Mbappé\n",
      "68          M. Reus\n",
      "Name: Name, dtype: object\n"
     ]
    },
    {
     "data": {
      "text/plain": [
       "array([[0.        , 2.51869119, 3.00039668, 3.03490117, 3.29433496,\n",
       "        3.32595121]])"
      ]
     },
     "execution_count": 8,
     "metadata": {},
     "output_type": "execute_result"
    }
   ],
   "source": [
    "from sklearn.neighbors import NearestNeighbors\n",
    "\n",
    "# 找出 Neymar Jr 資料 的 index\n",
    "Neymar_Jr = data[data['Name'] == 'Neymar Jr']\n",
    "Neymar_Jr_index = Neymar_Jr.index.tolist()[0]\n",
    "# 找出 Neymar Jr 的資料\n",
    "Neymar_Jr = feature[Neymar_Jr_index:Neymar_Jr_index+1]\n",
    "\n",
    "# 將 feature 進行標準化 (以 Neymar Jr 為中心)\n",
    "normalized_feature=(feature-Neymar_Jr.mean())/(feature.std())\n",
    "\n",
    "# 找出標準化後的 Neymar Jr 資料\n",
    "normalized_Neymar_Jr = normalized_feature[Neymar_Jr_index:Neymar_Jr_index+1]\n",
    "\n",
    "nbrs = NearestNeighbors(n_neighbors=6).fit(normalized_feature)\n",
    "distances, indices = nbrs.kneighbors(normalized_Neymar_Jr)\n",
    "for x in indices:                 \n",
    "    print(data['Name'][x])\n",
    "distances"
   ]
  },
  {
   "cell_type": "markdown",
   "metadata": {},
   "source": [
    "### (b) 推薦與 \" L. Messi \" 相像的前五名足球選手"
   ]
  },
  {
   "cell_type": "code",
   "execution_count": 9,
   "metadata": {},
   "outputs": [
    {
     "name": "stdout",
     "output_type": "stream",
     "text": [
      "0       L. Messi\n",
      "2      Neymar Jr\n",
      "5      E. Hazard\n",
      "15     P. Dybala\n",
      "236       Malcom\n",
      "84     R. Mahrez\n",
      "Name: Name, dtype: object\n"
     ]
    },
    {
     "data": {
      "text/plain": [
       "array([[0.        , 3.35772582, 3.36771563, 3.43750872, 3.88127403,\n",
       "        3.98333701]])"
      ]
     },
     "execution_count": 9,
     "metadata": {},
     "output_type": "execute_result"
    }
   ],
   "source": [
    "from sklearn.neighbors import NearestNeighbors\n",
    "\n",
    "# 找出 L. Messi 的 index\n",
    "L_Messi = data[data['Name'] == 'L. Messi']\n",
    "L_Messi_index = L_Messi.index.tolist()[0]\n",
    "# 找出 L_Messi 的資料\n",
    "L_Messi = feature[L_Messi_index:L_Messi_index+1]\n",
    "\n",
    "# 將 feature 進行標準化 (以 Neymar Jr 為中心)\n",
    "normalized_feature=(feature-L_Messi.mean())/(feature.std())\n",
    "\n",
    "# 找出標準化後的 L_Messi 資料\n",
    "normalized_L_Messi = normalized_feature[L_Messi_index:L_Messi_index+1]\n",
    "\n",
    "nbrs = NearestNeighbors(n_neighbors=6).fit(normalized_feature)\n",
    "distances, indices = nbrs.kneighbors(normalized_L_Messi)\n",
    "for x in indices:                 \n",
    "    print(data['Name'][x])\n",
    "distances"
   ]
  }
 ],
 "metadata": {
  "kernelspec": {
   "display_name": "Python (tensorflow-gpu)",
   "language": "python",
   "name": "tensorflow-gpu"
  },
  "language_info": {
   "codemirror_mode": {
    "name": "ipython",
    "version": 3
   },
   "file_extension": ".py",
   "mimetype": "text/x-python",
   "name": "python",
   "nbconvert_exporter": "python",
   "pygments_lexer": "ipython3",
   "version": "3.7.3"
  }
 },
 "nbformat": 4,
 "nbformat_minor": 2
}
