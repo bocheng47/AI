{
 "cells": [
  {
   "cell_type": "code",
   "execution_count": 36,
   "metadata": {},
   "outputs": [
    {
     "name": "stdout",
     "output_type": "stream",
     "text": [
      "5\n"
     ]
    }
   ],
   "source": [
    "##一般變數使用1\n",
    "a = 5           ## a 指向 5\n",
    "b = a           ## b 指向 a 所指向 也就是指向 5\n",
    "b = 4           ## b 指向 4\n",
    "print(a)        ## a 仍指向 5 未被改變"
   ]
  },
  {
   "cell_type": "code",
   "execution_count": 37,
   "metadata": {},
   "outputs": [
    {
     "name": "stdout",
     "output_type": "stream",
     "text": [
      "[1, 2, 3]\n"
     ]
    }
   ],
   "source": [
    "##一般變數使用2\n",
    "a = [1, 2, 3]   ## 建立[1, 2, 3]結構,並把a指向它的位址     a[0] 指向 1, a[1]指向 2 ......\n",
    "b = a[1]        ## 把b指向 a[1]所指向 也就是 2\n",
    "b = 5           ## 把b指向 5\n",
    "print(a)        ## 此時a指向的資料並沒有被改變"
   ]
  },
  {
   "cell_type": "code",
   "execution_count": 20,
   "metadata": {},
   "outputs": [
    {
     "name": "stdout",
     "output_type": "stream",
     "text": [
      "4\n"
     ]
    }
   ],
   "source": [
    "##class的變數使用\n",
    "class node:\n",
    "    def __init__(self): ##class的init\n",
    "        self.x = 3      ##將node指向新的變數x(位址)  並把x指向 3  node->x = 3\n",
    "\n",
    "a = node()              ##將 a 宣告為一node，在宣告時執行__init__  因此 a->x = 3\n",
    "b = a                   ##將 b 指向 a的位址\n",
    "b.x = 4                 ##將 b 的 x 指向 4\n",
    "print(a.x)              ##因為b是指向a因此改的值也是a的值 \n"
   ]
  },
  {
   "cell_type": "code",
   "execution_count": 39,
   "metadata": {},
   "outputs": [
    {
     "name": "stdout",
     "output_type": "stream",
     "text": [
      "[1, 2, 5]\n",
      "In test2 ls2 is [0, 0, 5, 0, 0]\n",
      "[1, 2, 5]\n"
     ]
    }
   ],
   "source": [
    "##list使用1\n",
    "ls = [1, 2, 3] ##實作一list[1, 2, 3]並把 ls 指向此list (其中 ls[0](位址)指向1, ls[1](位址)指向2 ....)\n",
    "ls2 = [1, 2, 3]\n",
    "def test(ls):  ##在副函式更改 list某元素值\n",
    "    ls[2] = 5\n",
    "\n",
    "def test2(ls):\n",
    "    ls = [0, 0, 0 , 0 , 0]\n",
    "    ls[2] = 5 \n",
    "    print(\"In test2 ls2 is {}\".format(ls))\n",
    "    \n",
    "test(ls)\n",
    "print(ls)    ##單純在內部更改ls元素值     外部的ls會跟著改變\n",
    "test2(ls)\n",
    "print(ls)    ##如果在內部更改整個ls結構   外部的ls不變"
   ]
  },
  {
   "cell_type": "code",
   "execution_count": 42,
   "metadata": {},
   "outputs": [
    {
     "name": "stdout",
     "output_type": "stream",
     "text": [
      "[1, 2, 5, [4, 0, 6]]\n",
      "[1, 2, 3, [4, 0, 6]]\n",
      "[1, 2, 3, [4, 5, 6]]\n"
     ]
    }
   ],
   "source": [
    "##list使用2 (=, copy 與 deepcopy)\n",
    "ls = [1, 2, 3, [4, 5, 6]]        ##ls內部還有一個list\n",
    "ls2 = ls\n",
    "ls2[2] = 5                       ##更改ls外部元素值\n",
    "ls2[3][1] = 0                    ##更改ls內部list的元素值\n",
    "print(ls)                        ##ls2內的被更改元素    在ls也會跟著改\n",
    "\n",
    "\n",
    "ls = [1, 2, 3, [4, 5, 6]]        ##ls內部還有一個list                      \n",
    "ls3 = ls.copy()                  ##此copy()為shallow copy\n",
    "ls3[2] = 5                       ##更改ls3外部元素值\n",
    "ls3[3][1] = 0                    ##更改ls3內部list的元素值\n",
    "print(ls)                        ##ls3內的被更改元素    在ls只有最外層不會被更改\n",
    "\n",
    "ls = [1, 2, 3, [4, 5, 6]]        ##ls內部還有一個list   \n",
    "import copy\n",
    "ls4 = copy.deepcopy(ls)          ##此copy為deepcopy\n",
    "ls4[2] = 5                       ##更改ls外部元素值\n",
    "ls4[3][1] = 0                    ##更改ls內部list的元素值\n",
    "print(ls)                        ##ls4內的被更改元素    在ls不會被更改"
   ]
  },
  {
   "cell_type": "code",
   "execution_count": 44,
   "metadata": {},
   "outputs": [
    {
     "name": "stdout",
     "output_type": "stream",
     "text": [
      "{'k1': 5, 'k2': 1, 'k3': {'k4': 6, 'k5': 3}}\n",
      "{'k1': 0, 'k2': 1, 'k3': {'k4': 6, 'k5': 3}}\n",
      "{'k1': 0, 'k2': 1, 'k3': {'k4': 2, 'k5': 3}}\n"
     ]
    }
   ],
   "source": [
    "##dict使用與上述ls同理\n",
    "dict1 = {\n",
    "    \"k1\" : 0,\n",
    "    \"k2\" : 1,\n",
    "    \"k3\" : {\n",
    "        \"k4\" : 2,\n",
    "        \"k5\" : 3\n",
    "    }\n",
    "}\n",
    "\n",
    "dict2 = dict1\n",
    "dict2['k1'] = 5\n",
    "dict2['k3']['k4'] = 6\n",
    "print(dict1)\n",
    "\n",
    "dict1 = {\n",
    "    \"k1\" : 0,\n",
    "    \"k2\" : 1,\n",
    "    \"k3\" : {\n",
    "        \"k4\" : 2,\n",
    "        \"k5\" : 3\n",
    "    }\n",
    "}\n",
    "dict3 = dict1.copy()\n",
    "dict3['k1'] = 5\n",
    "dict3['k3']['k4'] = 6\n",
    "print(dict1)\n",
    "\n",
    "dict1 = {\n",
    "    \"k1\" : 0,\n",
    "    \"k2\" : 1,\n",
    "    \"k3\" : {\n",
    "        \"k4\" : 2,\n",
    "        \"k5\" : 3\n",
    "    }\n",
    "}\n",
    "dict4 = copy.deepcopy(dict1)\n",
    "dict4['k1'] = 5\n",
    "dict4['k3']['k4'] = 6\n",
    "print(dict1)"
   ]
  },
  {
   "cell_type": "code",
   "execution_count": 31,
   "metadata": {},
   "outputs": [
    {
     "name": "stdout",
     "output_type": "stream",
     "text": [
      "[1, 2, 3]\n"
     ]
    }
   ],
   "source": [
    "##副函式使用一般變數\n",
    "a = [1, 2, 3]   ## 建立[1, 2, 3]結構,並把a指向它\n",
    "def test(a):    ## 在函數內的a*與主程式的a並不是同樣的變數(位址) \n",
    "    a=4         ## 把a*指向 4 \n",
    "test(a[2])      ## 呼叫test() 並且 把a*指向 a[2]的值(非位址)\n",
    "print(a)        ## a[2] 指向的值沒有被改變"
   ]
  },
  {
   "cell_type": "code",
   "execution_count": 32,
   "metadata": {},
   "outputs": [
    {
     "name": "stdout",
     "output_type": "stream",
     "text": [
      "4\n"
     ]
    }
   ],
   "source": [
    "##副函式使用全域變數\n",
    "a = [1, 2, 3]   ## 建立[1, 2, 3]結構,並把a指向它\n",
    "def test():    \n",
    "    global a    ## 宣告 a 為全域變數，即為主程式的a(同位址)\n",
    "    a=4         ## 把a指向 4 \n",
    "test()          ## 呼叫test()\n",
    "print(a)        ## a位址的值在副函式內被改為4"
   ]
  },
  {
   "cell_type": "code",
   "execution_count": 33,
   "metadata": {},
   "outputs": [
    {
     "name": "stdout",
     "output_type": "stream",
     "text": [
      "5\n"
     ]
    }
   ],
   "source": [
    "##副函式使用class\n",
    "a = node()              ##將 a 宣告為一node，在宣告時執行__init__  因此 a->x = 3\n",
    "def test(a):            ##class使用引入的是a的位址\n",
    "    a.x = 5             ##將 a 位址指向的 x 位址指向 5 a->x = 5\n",
    "\n",
    "test(a)                 ##呼叫 test() 並將主程式a的位址傳入test\n",
    "print(a.x)              ##a.x在函數內被更改\n"
   ]
  },
  {
   "cell_type": "code",
   "execution_count": 34,
   "metadata": {},
   "outputs": [
    {
     "name": "stdout",
     "output_type": "stream",
     "text": [
      "In function, a is sadadasd\n",
      "In Main, a is <__main__.Node object at 0x0000025FFD421940>\n",
      "3\n",
      "In function, b is <__main__.Node2 object at 0x0000025FFD421D68>\n",
      "In Main, b is <__main__.Node object at 0x0000025FFD4205C0>\n",
      "3\n"
     ]
    }
   ],
   "source": [
    "##途中更改class架構\n",
    "\n",
    "class Node:                 ##如上述\n",
    "    def __init__(self):\n",
    "        self.x=3\n",
    "\n",
    "class Node2:\n",
    "    def __init__(self):\n",
    "        self.x='222'\n",
    "\n",
    "def fun3(x):               \n",
    "    x='sadadasd'\n",
    "    print(\"In function, a is {}\".format(x))\n",
    "\n",
    "def fun4(x):\n",
    "    x=Node2()\n",
    "    print(\"In function, b is {}\".format(x))\n",
    "\n",
    "a = Node()\n",
    "fun3(a)\n",
    "print(\"In Main, a is {}\".format(a))           \n",
    "print(a.x)\n",
    "b = Node()\n",
    "fun4(b)\n",
    "print(\"In Main, b is {}\".format(b))  \n",
    "print(b.x)\n",
    "##結論 副函式內更改class架構會造成該class在副函式內失去控制"
   ]
  },
  {
   "cell_type": "code",
   "execution_count": null,
   "metadata": {},
   "outputs": [],
   "source": []
  }
 ],
 "metadata": {
  "kernelspec": {
   "display_name": "Python 3",
   "language": "python",
   "name": "python3"
  },
  "language_info": {
   "codemirror_mode": {
    "name": "ipython",
    "version": 3
   },
   "file_extension": ".py",
   "mimetype": "text/x-python",
   "name": "python",
   "nbconvert_exporter": "python",
   "pygments_lexer": "ipython3",
   "version": "3.6.8"
  }
 },
 "nbformat": 4,
 "nbformat_minor": 2
}
