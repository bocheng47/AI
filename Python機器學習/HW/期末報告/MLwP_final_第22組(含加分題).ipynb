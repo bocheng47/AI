{
 "cells": [
  {
   "cell_type": "markdown",
   "metadata": {},
   "source": [
    "# MLwP_final_第22組.ipynb"
   ]
  },
  {
   "cell_type": "raw",
   "metadata": {},
   "source": [
    "資管三B 施柏丞 105403048 \n",
    "資管三A 蘇智群 105403025\n",
    "資管三B 蘇友辰 105403050"
   ]
  },
  {
   "cell_type": "markdown",
   "metadata": {},
   "source": [
    "# [ 期末報告問題 ]"
   ]
  },
  {
   "cell_type": "markdown",
   "metadata": {},
   "source": [
    "### import 所需套件"
   ]
  },
  {
   "cell_type": "code",
   "execution_count": 1,
   "metadata": {},
   "outputs": [],
   "source": [
    "import pandas as pd\n",
    "import numpy as np\n",
    "from sklearn import preprocessing\n",
    "from sklearn.model_selection import cross_val_score\n",
    "from sklearn.model_selection import LeaveOneOut\n",
    "from sklearn.metrics import accuracy_score\n",
    "from sklearn.metrics import confusion_matrix\n",
    "from sklearn.metrics import classification_report\n",
    "%matplotlib inline\n",
    "import matplotlib\n",
    "import matplotlib.pyplot as plt\n",
    "import seaborn as sns; sns.set()"
   ]
  },
  {
   "cell_type": "markdown",
   "metadata": {},
   "source": [
    "### 匯入資料集，並切分feature和target"
   ]
  },
  {
   "cell_type": "code",
   "execution_count": 2,
   "metadata": {},
   "outputs": [],
   "source": [
    "#讀取CSV檔案\n",
    "data = pd.read_csv('wisc_bc_data.csv')\n",
    "\n",
    "feature = data.loc[:,'radius_mean':'fractal_dimension_worst']\n",
    "normal_feature = preprocessing.StandardScaler().fit_transform(feature)\n",
    "\n",
    "#轉換屬性型態\n",
    "#將屬性轉為數字label\n",
    "le = preprocessing.LabelEncoder()\n",
    "target = le.fit_transform(data['diagnosis'])\n",
    "\n",
    "# 切分訓練與測試資料\n",
    "from sklearn.model_selection import train_test_split\n",
    "X_train, X_test, y_train, y_test = train_test_split(normal_feature, target, test_size = 0.2, random_state=1)\n",
    "\n",
    "# 定義 target_name 用於顯示圖表使用\n",
    "target_names = ['B', 'M']\n"
   ]
  },
  {
   "cell_type": "markdown",
   "metadata": {},
   "source": [
    "### (1) Nearest Neighbors [kNN, k = sqrt(number of training data)]"
   ]
  },
  {
   "cell_type": "code",
   "execution_count": 20,
   "metadata": {},
   "outputs": [
    {
     "name": "stdout",
     "output_type": "stream",
     "text": [
      "訓練集準確度為： 0.9340659340659341\n",
      "測試集準確度為： 0.9473684210526315\n",
      "使用 Cross-Validation 準確度為： 0.9526741054251634\n",
      "使用 Leave-One-Out cross-validation 準確度為 0.9560632688927944\n",
      "\n",
      "classification_report:\n",
      "               precision    recall  f1-score   support\n",
      "\n",
      "           B       0.95      0.97      0.96        72\n",
      "           M       0.95      0.90      0.93        42\n",
      "\n",
      "    accuracy                           0.95       114\n",
      "   macro avg       0.95      0.94      0.94       114\n",
      "weighted avg       0.95      0.95      0.95       114\n",
      "\n"
     ]
    },
    {
     "data": {
      "image/png": "[encoded data removed]",
      "text/plain": [
       "<Figure size 432x288 with 2 Axes>"
      ]
     },
     "metadata": {
      "needs_background": "light"
     },
     "output_type": "display_data"
    }
   ],
   "source": [
    "from sklearn.neighbors import KNeighborsClassifier\n",
    "\n",
    "# 建立 kNN 模型\n",
    "k = round(len(X_train)**0.5)\n",
    "knn = KNeighborsClassifier(n_neighbors= k)\n",
    "\n",
    "datanew_knn = knn.fit(X_train, y_train)\n",
    "\n",
    "# 進行 Ensemble learning\n",
    "cv_scores = cross_val_score(estimator = knn, X = normal_feature, y = target, cv = 5)\n",
    "\n",
    "# Leave-One-Out cross-validation\n",
    "loocv = LeaveOneOut()\n",
    "loocv_results = cross_val_score(knn, normal_feature, target, cv=loocv)\n",
    "\n",
    "# 預測\n",
    "y_test_pred = datanew_nb.predict(X_test)\n",
    "y_train_pred = datanew_nb.predict(X_train)\n",
    "# 績效\n",
    "test_accuracy = accuracy_score(y_test ,y_test_pred)\n",
    "train_accuracy = accuracy_score(y_train ,y_train_pred)\n",
    "\n",
    "cm_train = confusion_matrix(y_train, y_train_pred)\n",
    "cm_test = confusion_matrix(y_test, y_test_pred)\n",
    "\n",
    "print('訓練集準確度為：', train_accuracy)\n",
    "print('測試集準確度為：', test_accuracy)\n",
    "print('使用 Cross-Validation 準確度為：', cv_scores.mean())\n",
    "print('使用 Leave-One-Out cross-validation 準確度為', loocv_results.mean())\n",
    "print('\\nclassification_report:\\n', classification_report(y_test, y_test_pred, target_names=target_names))\n",
    "\n",
    "mat = confusion_matrix(y_test, y_test_pred)\n",
    "sns.heatmap(mat.T, square=True, annot=True, fmt='d',\n",
    "            xticklabels=target_names, yticklabels=target_names)\n",
    "plt.xlabel('true label')\n",
    "plt.ylabel('predicted label');"
   ]
  },
  {
   "cell_type": "markdown",
   "metadata": {},
   "source": [
    "### (2) Naive Bayes [GaussianNB]"
   ]
  },
  {
   "cell_type": "code",
   "execution_count": 11,
   "metadata": {},
   "outputs": [
    {
     "name": "stdout",
     "output_type": "stream",
     "text": [
      "訓練集準確度為： 0.9340659340659341\n",
      "測試集準確度為： 0.9473684210526315\n",
      "使用 Cross-Validation 準確度為： 0.9280800307810695\n",
      "使用 Leave-One-Out cross-validation 準確度為 0.9332161687170475\n",
      "\n",
      "classification_report:\n",
      "               precision    recall  f1-score   support\n",
      "\n",
      "           B       0.95      0.97      0.96        72\n",
      "           M       0.95      0.90      0.93        42\n",
      "\n",
      "    accuracy                           0.95       114\n",
      "   macro avg       0.95      0.94      0.94       114\n",
      "weighted avg       0.95      0.95      0.95       114\n",
      "\n"
     ]
    },
    {
     "data": {
      "image/png": "[encoded data removed]",
      "text/plain": [
       "<Figure size 432x288 with 2 Axes>"
      ]
     },
     "metadata": {
      "needs_background": "light"
     },
     "output_type": "display_data"
    }
   ],
   "source": [
    "from sklearn.naive_bayes import GaussianNB\n",
    "\n",
    "# 建立 Naive Bayes 模型\n",
    "nb = GaussianNB()\n",
    "\n",
    "datanew_nb = nb.fit(X_train, y_train)\n",
    "\n",
    "# 進行 Ensemble learning\n",
    "cv_scores = cross_val_score(estimator = nb, X = normal_feature, y = target, cv=5)\n",
    "\n",
    "# Leave-One-Out cross-validation\n",
    "loocv = LeaveOneOut()\n",
    "loocv_results = cross_val_score(nb, normal_feature, target, cv = loocv)\n",
    "\n",
    "# 預測\n",
    "y_test_pred = datanew_nb.predict(X_test)\n",
    "y_train_pred = datanew_nb.predict(X_train)\n",
    "# 績效\n",
    "test_accuracy = accuracy_score(y_test ,y_test_pred)\n",
    "train_accuracy = accuracy_score(y_train ,y_train_pred)\n",
    "\n",
    "cm_train = confusion_matrix(y_train, y_train_pred)\n",
    "cm_test = confusion_matrix(y_test, y_test_pred)\n",
    "\n",
    "print('訓練集準確度為：', train_accuracy)\n",
    "print('測試集準確度為：', test_accuracy)\n",
    "print('使用 Cross-Validation 準確度為：', cv_scores.mean())\n",
    "print('使用 Leave-One-Out cross-validation 準確度為', loocv_results.mean())\n",
    "print('\\nclassification_report:\\n', classification_report(y_test, y_test_pred, target_names=target_names))\n",
    "\n",
    "mat = confusion_matrix(y_test, y_test_pred)\n",
    "sns.heatmap(mat.T, square=True, annot=True, fmt='d',\n",
    "            xticklabels=target_names, yticklabels=target_names)\n",
    "plt.xlabel('true label')\n",
    "plt.ylabel('predicted label');"
   ]
  },
  {
   "cell_type": "markdown",
   "metadata": {},
   "source": [
    "### (3) SVM"
   ]
  },
  {
   "cell_type": "code",
   "execution_count": 12,
   "metadata": {},
   "outputs": [
    {
     "name": "stdout",
     "output_type": "stream",
     "text": [
      "訓練集準確度為： 0.9340659340659341\n",
      "測試集準確度為： 0.9473684210526315\n",
      "使用 Cross-Validation 準確度為： 0.9683878414774914\n",
      "使用 Leave-One-Out cross-validation 準確度為 0.9789103690685413\n",
      "\n",
      "classification_report:\n",
      "               precision    recall  f1-score   support\n",
      "\n",
      "           B       0.95      0.97      0.96        72\n",
      "           M       0.95      0.90      0.93        42\n",
      "\n",
      "    accuracy                           0.95       114\n",
      "   macro avg       0.95      0.94      0.94       114\n",
      "weighted avg       0.95      0.95      0.95       114\n",
      "\n"
     ]
    },
    {
     "data": {
      "image/png": "[encoded data removed]",
      "text/plain": [
       "<Figure size 432x288 with 2 Axes>"
      ]
     },
     "metadata": {
      "needs_background": "light"
     },
     "output_type": "display_data"
    }
   ],
   "source": [
    "from sklearn.svm import SVC\n",
    "\n",
    "# 建立 SVM 模型\n",
    "svc = SVC(gamma = 0.01, C=1.0)\n",
    "\n",
    "datanew_svc = svc.fit(X_train, y_train)\n",
    "\n",
    "# 進行 Ensemble learning\n",
    "cv_scores = cross_val_score(estimator = svc, X = normal_feature, y = target, cv=5)\n",
    "\n",
    "# Leave-One-Out cross-validation\n",
    "loocv = LeaveOneOut()\n",
    "loocv_results = cross_val_score(svc, normal_feature, target, cv = loocv)\n",
    "\n",
    "# 預測\n",
    "y_test_pred = datanew_nb.predict(X_test)\n",
    "y_train_pred = datanew_nb.predict(X_train)\n",
    "# 績效\n",
    "test_accuracy = accuracy_score(y_test ,y_test_pred)\n",
    "train_accuracy = accuracy_score(y_train ,y_train_pred)\n",
    "\n",
    "cm_train = confusion_matrix(y_train, y_train_pred)\n",
    "cm_test = confusion_matrix(y_test, y_test_pred)\n",
    "\n",
    "print('訓練集準確度為：', train_accuracy)\n",
    "print('測試集準確度為：', test_accuracy)\n",
    "print('使用 Cross-Validation 準確度為：', cv_scores.mean())\n",
    "print('使用 Leave-One-Out cross-validation 準確度為', loocv_results.mean())\n",
    "print('\\nclassification_report:\\n', classification_report(y_test, y_test_pred, target_names=target_names))\n",
    "\n",
    "mat = confusion_matrix(y_test, y_test_pred)\n",
    "sns.heatmap(mat.T, square=True, annot=True, fmt='d',\n",
    "            xticklabels=target_names, yticklabels=target_names)\n",
    "plt.xlabel('true label')\n",
    "plt.ylabel('predicted label');"
   ]
  },
  {
   "cell_type": "markdown",
   "metadata": {},
   "source": [
    "### (4) Logistic Regression"
   ]
  },
  {
   "cell_type": "code",
   "execution_count": 13,
   "metadata": {},
   "outputs": [
    {
     "name": "stdout",
     "output_type": "stream",
     "text": [
      "訓練集準確度為： 0.9340659340659341\n",
      "測試集準確度為： 0.9473684210526315\n",
      "使用 Cross-Validation 準確度為： 0.9789149672951135\n",
      "使用 Leave-One-Out cross-validation 準確度為 0.9789103690685413\n",
      "\n",
      "classification_report:\n",
      "               precision    recall  f1-score   support\n",
      "\n",
      "           B       0.95      0.97      0.96        72\n",
      "           M       0.95      0.90      0.93        42\n",
      "\n",
      "    accuracy                           0.95       114\n",
      "   macro avg       0.95      0.94      0.94       114\n",
      "weighted avg       0.95      0.95      0.95       114\n",
      "\n"
     ]
    },
    {
     "data": {
      "image/png": "[encoded data removed]",
      "text/plain": [
       "<Figure size 432x288 with 2 Axes>"
      ]
     },
     "metadata": {
      "needs_background": "light"
     },
     "output_type": "display_data"
    }
   ],
   "source": [
    "from sklearn.linear_model import LogisticRegression\n",
    "\n",
    "# 建立 LinearRegression 模型\n",
    "lr = LogisticRegression(solver='liblinear')\n",
    "\n",
    "datanew_lr = lr.fit(X_train, y_train)\n",
    "\n",
    "# 進行 Ensemble learning\n",
    "cv_scores = cross_val_score(estimator = lr, X = normal_feature, y = target, cv=5)\n",
    "\n",
    "# Leave-One-Out cross-validation\n",
    "loocv = LeaveOneOut()\n",
    "loocv_results = cross_val_score(lr, normal_feature, target, cv = loocv)\n",
    "\n",
    "# 預測\n",
    "y_test_pred = datanew_nb.predict(X_test)\n",
    "y_train_pred = datanew_nb.predict(X_train)\n",
    "# 績效\n",
    "test_accuracy = accuracy_score(y_test ,y_test_pred)\n",
    "train_accuracy = accuracy_score(y_train ,y_train_pred)\n",
    "\n",
    "cm_train = confusion_matrix(y_train, y_train_pred)\n",
    "cm_test = confusion_matrix(y_test, y_test_pred)\n",
    "\n",
    "print('訓練集準確度為：', train_accuracy)\n",
    "print('測試集準確度為：', test_accuracy)\n",
    "print('使用 Cross-Validation 準確度為：', cv_scores.mean())\n",
    "print('使用 Leave-One-Out cross-validation 準確度為', loocv_results.mean())\n",
    "print('\\nclassification_report:\\n', classification_report(y_test, y_test_pred, target_names=target_names))\n",
    "\n",
    "mat = confusion_matrix(y_test, y_test_pred)\n",
    "sns.heatmap(mat.T, square=True, annot=True, fmt='d',\n",
    "            xticklabels=target_names, yticklabels=target_names)\n",
    "plt.xlabel('true label')\n",
    "plt.ylabel('predicted label');"
   ]
  },
  {
   "cell_type": "markdown",
   "metadata": {},
   "source": [
    "### (5) Random Forests "
   ]
  },
  {
   "cell_type": "code",
   "execution_count": 14,
   "metadata": {},
   "outputs": [
    {
     "name": "stdout",
     "output_type": "stream",
     "text": [
      "訓練集準確度為： 0.9340659340659341\n",
      "測試集準確度為： 0.9473684210526315\n",
      "使用 Cross-Validation 準確度為： 0.9492574066948827\n",
      "使用 Leave-One-Out cross-validation 準確度為 0.9525483304042179\n",
      "\n",
      "classification_report:\n",
      "               precision    recall  f1-score   support\n",
      "\n",
      "           B       0.95      0.97      0.96        72\n",
      "           M       0.95      0.90      0.93        42\n",
      "\n",
      "    accuracy                           0.95       114\n",
      "   macro avg       0.95      0.94      0.94       114\n",
      "weighted avg       0.95      0.95      0.95       114\n",
      "\n"
     ]
    },
    {
     "data": {
      "image/png": "[encoded data removed]",
      "text/plain": [
       "<Figure size 432x288 with 2 Axes>"
      ]
     },
     "metadata": {
      "needs_background": "light"
     },
     "output_type": "display_data"
    }
   ],
   "source": [
    "from sklearn.ensemble import RandomForestClassifier\n",
    "\n",
    "# 建立 Random Forests 模型\n",
    "rf = RandomForestClassifier(n_estimators=5)\n",
    "\n",
    "datanew_rf = rf.fit(X_train, y_train)\n",
    "\n",
    "# 進行 Ensemble learning\n",
    "cv_scores = cross_val_score(estimator = rf, X = normal_feature, y = target, cv=5)\n",
    "\n",
    "# Leave-One-Out cross-validation\n",
    "loocv = LeaveOneOut()\n",
    "loocv_results = cross_val_score(rf, normal_feature, target, cv = loocv)\n",
    "\n",
    "# 預測\n",
    "y_test_pred = datanew_nb.predict(X_test)\n",
    "y_train_pred = datanew_nb.predict(X_train)\n",
    "# 績效\n",
    "test_accuracy = accuracy_score(y_test ,y_test_pred)\n",
    "train_accuracy = accuracy_score(y_train ,y_train_pred)\n",
    "\n",
    "cm_train = confusion_matrix(y_train, y_train_pred)\n",
    "cm_test = confusion_matrix(y_test, y_test_pred)\n",
    "\n",
    "print('訓練集準確度為：', train_accuracy)\n",
    "print('測試集準確度為：', test_accuracy)\n",
    "print('使用 Cross-Validation 準確度為：', cv_scores.mean())\n",
    "print('使用 Leave-One-Out cross-validation 準確度為', loocv_results.mean())\n",
    "print('\\nclassification_report:\\n', classification_report(y_test, y_test_pred, target_names=target_names))\n",
    "\n",
    "mat = confusion_matrix(y_test, y_test_pred)\n",
    "sns.heatmap(mat.T, square=True, annot=True, fmt='d',\n",
    "            xticklabels=target_names, yticklabels=target_names)\n",
    "plt.xlabel('true label')\n",
    "plt.ylabel('predicted label');"
   ]
  },
  {
   "cell_type": "markdown",
   "metadata": {},
   "source": [
    "### (6) Neural Networks [MLPClassifier]"
   ]
  },
  {
   "cell_type": "code",
   "execution_count": 7,
   "metadata": {},
   "outputs": [
    {
     "name": "stderr",
     "output_type": "stream",
     "text": [
      "C:\\Users\\BoCheng\\Anaconda3\\envs\\tensorflow-gpu\\lib\\site-packages\\sklearn\\neural_network\\multilayer_perceptron.py:566: ConvergenceWarning: Stochastic Optimizer: Maximum iterations (1000) reached and the optimization hasn't converged yet.\n",
      "  % self.max_iter, ConvergenceWarning)\n",
      "C:\\Users\\BoCheng\\Anaconda3\\envs\\tensorflow-gpu\\lib\\site-packages\\sklearn\\neural_network\\multilayer_perceptron.py:566: ConvergenceWarning: Stochastic Optimizer: Maximum iterations (1000) reached and the optimization hasn't converged yet.\n",
      "  % self.max_iter, ConvergenceWarning)\n",
      "C:\\Users\\BoCheng\\Anaconda3\\envs\\tensorflow-gpu\\lib\\site-packages\\sklearn\\neural_network\\multilayer_perceptron.py:566: ConvergenceWarning: Stochastic Optimizer: Maximum iterations (1000) reached and the optimization hasn't converged yet.\n",
      "  % self.max_iter, ConvergenceWarning)\n",
      "C:\\Users\\BoCheng\\Anaconda3\\envs\\tensorflow-gpu\\lib\\site-packages\\sklearn\\neural_network\\multilayer_perceptron.py:566: ConvergenceWarning: Stochastic Optimizer: Maximum iterations (1000) reached and the optimization hasn't converged yet.\n",
      "  % self.max_iter, ConvergenceWarning)\n"
     ]
    },
    {
     "name": "stdout",
     "output_type": "stream",
     "text": [
      "訓練集準確度為： 0.9340659340659341\n",
      "測試集準確度為： 0.9473684210526315\n",
      "使用 Cross-Validation 準確度為： 0.9684186225471336\n",
      "使用 Leave-One-Out cross-validation 準確度為 0.9666080843585237\n",
      "\n",
      "classification_report:\n",
      "               precision    recall  f1-score   support\n",
      "\n",
      "           B       0.95      0.97      0.96        72\n",
      "           M       0.95      0.90      0.93        42\n",
      "\n",
      "    accuracy                           0.95       114\n",
      "   macro avg       0.95      0.94      0.94       114\n",
      "weighted avg       0.95      0.95      0.95       114\n",
      "\n"
     ]
    },
    {
     "data": {
      "image/png": "[encoded data removed]",
      "text/plain": [
       "<Figure size 432x288 with 2 Axes>"
      ]
     },
     "metadata": {
      "needs_background": "light"
     },
     "output_type": "display_data"
    }
   ],
   "source": [
    "from sklearn.neural_network import MLPClassifier\n",
    "\n",
    "# 建立 LinearRegression 模型\n",
    "mlp = MLPClassifier(hidden_layer_sizes=[3],activation='relu',solver ='sgd',max_iter=1000)\n",
    "\n",
    "datanew_mlp = mlp.fit(X_train, y_train)\n",
    "\n",
    "# 進行 Ensemble learning\n",
    "cv_scores = cross_val_score(estimator = mlp, X = normal_feature, y = target, cv=5)\n",
    "\n",
    "# Leave-One-Out cross-validation\n",
    "loocv = LeaveOneOut()\n",
    "loocv_results = cross_val_score(mlp, normal_feature, target, cv = loocv)\n",
    "\n",
    "# 預測\n",
    "y_test_pred = datanew_nb.predict(X_test)\n",
    "y_train_pred = datanew_nb.predict(X_train)\n",
    "# 績效\n",
    "test_accuracy = accuracy_score(y_test ,y_test_pred)\n",
    "train_accuracy = accuracy_score(y_train ,y_train_pred)\n",
    "\n",
    "cm_train = confusion_matrix(y_train, y_train_pred)\n",
    "cm_test = confusion_matrix(y_test, y_test_pred)\n",
    "\n",
    "print('訓練集準確度為：', train_accuracy)\n",
    "print('測試集準確度為：', test_accuracy)\n",
    "print('使用 Cross-Validation 準確度為：', cv_scores.mean())\n",
    "print('使用 Leave-One-Out cross-validation 準確度為', loocv_results.mean())\n",
    "print('\\nclassification_report:\\n', classification_report(y_test, y_test_pred, target_names=target_names))\n",
    "\n",
    "mat = confusion_matrix(y_test, y_test_pred)\n",
    "sns.heatmap(mat.T, square=True, annot=True, fmt='d',\n",
    "            xticklabels=target_names, yticklabels=target_names)\n",
    "plt.xlabel('true label')\n",
    "plt.ylabel('predicted label');"
   ]
  },
  {
   "cell_type": "markdown",
   "metadata": {},
   "source": [
    "# [ 加分題 ] : (Optional)"
   ]
  },
  {
   "cell_type": "code",
   "execution_count": 18,
   "metadata": {},
   "outputs": [],
   "source": [
    "# 將特徵資料部份進行 z-score 標準化 (standardization)\n",
    "standard_feature = (feature-feature.mean())/feature.std()\n",
    "\n",
    "# 切分訓練與測試資料\n",
    "from sklearn.model_selection import train_test_split\n",
    "X_train, X_test, y_train, y_test = train_test_split(standard_feature, target, test_size = 0.2, random_state=1)"
   ]
  },
  {
   "cell_type": "markdown",
   "metadata": {},
   "source": [
    "### (1) Nearest Neighbors [kNN, k = sqrt(number of training data)]"
   ]
  },
  {
   "cell_type": "code",
   "execution_count": 25,
   "metadata": {},
   "outputs": [
    {
     "name": "stdout",
     "output_type": "stream",
     "text": [
      "訓練集準確度為： 0.9340659340659341\n",
      "測試集準確度為： 0.9473684210526315\n",
      "使用 Cross-Validation 準確度為： 0.9526741054251634\n",
      "使用 Leave-One-Out cross-validation 準確度為 0.9560632688927944\n",
      "\n",
      "classification_report:\n",
      "               precision    recall  f1-score   support\n",
      "\n",
      "           B       0.95      0.97      0.96        72\n",
      "           M       0.95      0.90      0.93        42\n",
      "\n",
      "    accuracy                           0.95       114\n",
      "   macro avg       0.95      0.94      0.94       114\n",
      "weighted avg       0.95      0.95      0.95       114\n",
      "\n"
     ]
    },
    {
     "data": {
      "image/png": "[encoded data removed]",
      "text/plain": [
       "<Figure size 432x288 with 2 Axes>"
      ]
     },
     "metadata": {
      "needs_background": "light"
     },
     "output_type": "display_data"
    }
   ],
   "source": [
    "from sklearn.neighbors import KNeighborsClassifier\n",
    "\n",
    "# 建立 kNN 模型\n",
    "k = round(len(X_train)**0.5)\n",
    "knn = KNeighborsClassifier(n_neighbors= k)\n",
    "\n",
    "datanew_knn = knn.fit(X_train, y_train)\n",
    "\n",
    "# 進行 Ensemble learning\n",
    "cv_scores = cross_val_score(estimator = knn, X = standard_feature, y = target, cv=5)\n",
    "\n",
    "# Leave-One-Out cross-validation\n",
    "loocv = LeaveOneOut()\n",
    "loocv_results = cross_val_score(knn, standard_feature, target, cv = loocv)\n",
    "\n",
    "# 預測\n",
    "y_test_pred = datanew_nb.predict(X_test)\n",
    "y_train_pred = datanew_nb.predict(X_train)\n",
    "# 績效\n",
    "test_accuracy = accuracy_score(y_test ,y_test_pred)\n",
    "train_accuracy = accuracy_score(y_train ,y_train_pred)\n",
    "\n",
    "cm_train = confusion_matrix(y_train, y_train_pred)\n",
    "cm_test = confusion_matrix(y_test, y_test_pred)\n",
    "\n",
    "print('訓練集準確度為：', train_accuracy)\n",
    "print('測試集準確度為：', test_accuracy)\n",
    "print('使用 Cross-Validation 準確度為：', cv_scores.mean())\n",
    "print('使用 Leave-One-Out cross-validation 準確度為', loocv_results.mean())\n",
    "print('\\nclassification_report:\\n', classification_report(y_test, y_test_pred, target_names=target_names))\n",
    "\n",
    "mat = confusion_matrix(y_test, y_test_pred)\n",
    "sns.heatmap(mat.T, square=True, annot=True, fmt='d',\n",
    "            xticklabels=target_names, yticklabels=target_names)\n",
    "plt.xlabel('true label')\n",
    "plt.ylabel('predicted label');"
   ]
  },
  {
   "cell_type": "markdown",
   "metadata": {},
   "source": [
    "### (2) Naive Bayes [GaussianNB]"
   ]
  },
  {
   "cell_type": "code",
   "execution_count": 24,
   "metadata": {},
   "outputs": [
    {
     "name": "stdout",
     "output_type": "stream",
     "text": [
      "訓練集準確度為： 0.9340659340659341\n",
      "測試集準確度為： 0.9473684210526315\n",
      "使用 Cross-Validation 準確度為： 0.9280800307810695\n",
      "使用 Leave-One-Out cross-validation 準確度為 0.9332161687170475\n",
      "\n",
      "classification_report:\n",
      "               precision    recall  f1-score   support\n",
      "\n",
      "           B       0.95      0.97      0.96        72\n",
      "           M       0.95      0.90      0.93        42\n",
      "\n",
      "    accuracy                           0.95       114\n",
      "   macro avg       0.95      0.94      0.94       114\n",
      "weighted avg       0.95      0.95      0.95       114\n",
      "\n"
     ]
    },
    {
     "data": {
      "image/png": "[encoded data removed]",
      "text/plain": [
       "<Figure size 432x288 with 2 Axes>"
      ]
     },
     "metadata": {
      "needs_background": "light"
     },
     "output_type": "display_data"
    }
   ],
   "source": [
    "from sklearn.naive_bayes import GaussianNB\n",
    "\n",
    "# 建立 Naive Bayes 模型\n",
    "nb = GaussianNB()\n",
    "\n",
    "datanew_nb = nb.fit(X_train, y_train)\n",
    "\n",
    "# 進行 Ensemble learning\n",
    "cv_scores = cross_val_score(estimator = nb, X = standard_feature, y = target, cv=5)\n",
    "\n",
    "# Leave-One-Out cross-validation\n",
    "loocv = LeaveOneOut()\n",
    "loocv_results = cross_val_score(nb, standard_feature, target, cv = loocv)\n",
    "\n",
    "# 預測\n",
    "y_test_pred = datanew_nb.predict(X_test)\n",
    "y_train_pred = datanew_nb.predict(X_train)\n",
    "# 績效\n",
    "test_accuracy = accuracy_score(y_test ,y_test_pred)\n",
    "train_accuracy = accuracy_score(y_train ,y_train_pred)\n",
    "\n",
    "cm_train = confusion_matrix(y_train, y_train_pred)\n",
    "cm_test = confusion_matrix(y_test, y_test_pred)\n",
    "\n",
    "print('訓練集準確度為：', train_accuracy)\n",
    "print('測試集準確度為：', test_accuracy)\n",
    "print('使用 Cross-Validation 準確度為：', cv_scores.mean())\n",
    "print('使用 Leave-One-Out cross-validation 準確度為', loocv_results.mean())\n",
    "print('\\nclassification_report:\\n', classification_report(y_test, y_test_pred, target_names=target_names))\n",
    "\n",
    "mat = confusion_matrix(y_test, y_test_pred)\n",
    "sns.heatmap(mat.T, square=True, annot=True, fmt='d',\n",
    "            xticklabels=target_names, yticklabels=target_names)\n",
    "plt.xlabel('true label')\n",
    "plt.ylabel('predicted label');"
   ]
  },
  {
   "cell_type": "markdown",
   "metadata": {},
   "source": [
    "### (3) SVM"
   ]
  },
  {
   "cell_type": "code",
   "execution_count": 23,
   "metadata": {},
   "outputs": [
    {
     "name": "stdout",
     "output_type": "stream",
     "text": [
      "訓練集準確度為： 0.9340659340659341\n",
      "測試集準確度為： 0.9473684210526315\n",
      "使用 Cross-Validation 準確度為： 0.9683878414774914\n",
      "使用 Leave-One-Out cross-validation 準確度為 0.9789103690685413\n",
      "\n",
      "classification_report:\n",
      "               precision    recall  f1-score   support\n",
      "\n",
      "           B       0.95      0.97      0.96        72\n",
      "           M       0.95      0.90      0.93        42\n",
      "\n",
      "    accuracy                           0.95       114\n",
      "   macro avg       0.95      0.94      0.94       114\n",
      "weighted avg       0.95      0.95      0.95       114\n",
      "\n"
     ]
    },
    {
     "data": {
      "image/png": "[encoded data removed]",
      "text/plain": [
       "<Figure size 432x288 with 2 Axes>"
      ]
     },
     "metadata": {
      "needs_background": "light"
     },
     "output_type": "display_data"
    }
   ],
   "source": [
    "from sklearn.svm import SVC\n",
    "\n",
    "# 建立 SVM 模型\n",
    "svc = SVC(gamma = 0.01, C=1.0)\n",
    "\n",
    "datanew_svc = svc.fit(X_train, y_train)\n",
    "\n",
    "# 進行 Ensemble learning\n",
    "cv_scores = cross_val_score(estimator = svc, X = standard_feature, y = target, cv=5)\n",
    "\n",
    "# Leave-One-Out cross-validation\n",
    "loocv = LeaveOneOut()\n",
    "loocv_results = cross_val_score(svc, standard_feature, target, cv = loocv)\n",
    "\n",
    "# 預測\n",
    "y_test_pred = datanew_nb.predict(X_test)\n",
    "y_train_pred = datanew_nb.predict(X_train)\n",
    "# 績效\n",
    "test_accuracy = accuracy_score(y_test ,y_test_pred)\n",
    "train_accuracy = accuracy_score(y_train ,y_train_pred)\n",
    "\n",
    "cm_train = confusion_matrix(y_train, y_train_pred)\n",
    "cm_test = confusion_matrix(y_test, y_test_pred)\n",
    "\n",
    "print('訓練集準確度為：', train_accuracy)\n",
    "print('測試集準確度為：', test_accuracy)\n",
    "print('使用 Cross-Validation 準確度為：', cv_scores.mean())\n",
    "print('使用 Leave-One-Out cross-validation 準確度為', loocv_results.mean())\n",
    "print('\\nclassification_report:\\n', classification_report(y_test, y_test_pred, target_names=target_names))\n",
    "\n",
    "mat = confusion_matrix(y_test, y_test_pred)\n",
    "sns.heatmap(mat.T, square=True, annot=True, fmt='d',\n",
    "            xticklabels=target_names, yticklabels=target_names)\n",
    "plt.xlabel('true label')\n",
    "plt.ylabel('predicted label');"
   ]
  },
  {
   "cell_type": "markdown",
   "metadata": {},
   "source": [
    "### (4) Logistic Regression"
   ]
  },
  {
   "cell_type": "code",
   "execution_count": 22,
   "metadata": {},
   "outputs": [
    {
     "name": "stdout",
     "output_type": "stream",
     "text": [
      "訓練集準確度為： 0.9340659340659341\n",
      "測試集準確度為： 0.9473684210526315\n",
      "使用 Cross-Validation 準確度為： 0.9789149672951135\n",
      "使用 Leave-One-Out cross-validation 準確度為 0.9789103690685413\n",
      "\n",
      "classification_report:\n",
      "               precision    recall  f1-score   support\n",
      "\n",
      "           B       0.95      0.97      0.96        72\n",
      "           M       0.95      0.90      0.93        42\n",
      "\n",
      "    accuracy                           0.95       114\n",
      "   macro avg       0.95      0.94      0.94       114\n",
      "weighted avg       0.95      0.95      0.95       114\n",
      "\n"
     ]
    },
    {
     "data": {
      "image/png": "[encoded data removed]",
      "text/plain": [
       "<Figure size 432x288 with 2 Axes>"
      ]
     },
     "metadata": {
      "needs_background": "light"
     },
     "output_type": "display_data"
    }
   ],
   "source": [
    "from sklearn.linear_model import LogisticRegression\n",
    "\n",
    "# 建立 LinearRegression 模型\n",
    "lr = LogisticRegression(solver='liblinear')\n",
    "\n",
    "datanew_lr = lr.fit(X_train, y_train)\n",
    "\n",
    "# 進行 Ensemble learning\n",
    "cv_scores = cross_val_score(estimator = lr, X = standard_feature, y = target, cv=5)\n",
    "\n",
    "# Leave-One-Out cross-validation\n",
    "loocv = LeaveOneOut()\n",
    "loocv_results = cross_val_score(lr, standard_feature, target, cv = loocv)\n",
    "\n",
    "# 預測\n",
    "y_test_pred = datanew_nb.predict(X_test)\n",
    "y_train_pred = datanew_nb.predict(X_train)\n",
    "# 績效\n",
    "test_accuracy = accuracy_score(y_test ,y_test_pred)\n",
    "train_accuracy = accuracy_score(y_train ,y_train_pred)\n",
    "\n",
    "cm_train = confusion_matrix(y_train, y_train_pred)\n",
    "cm_test = confusion_matrix(y_test, y_test_pred)\n",
    "\n",
    "print('訓練集準確度為：', train_accuracy)\n",
    "print('測試集準確度為：', test_accuracy)\n",
    "print('使用 Cross-Validation 準確度為：', cv_scores.mean())\n",
    "print('使用 Leave-One-Out cross-validation 準確度為', loocv_results.mean())\n",
    "print('\\nclassification_report:\\n', classification_report(y_test, y_test_pred, target_names=target_names))\n",
    "\n",
    "mat = confusion_matrix(y_test, y_test_pred)\n",
    "sns.heatmap(mat.T, square=True, annot=True, fmt='d',\n",
    "            xticklabels=target_names, yticklabels=target_names)\n",
    "plt.xlabel('true label')\n",
    "plt.ylabel('predicted label');"
   ]
  },
  {
   "cell_type": "markdown",
   "metadata": {},
   "source": [
    "### (5) Random Forests "
   ]
  },
  {
   "cell_type": "code",
   "execution_count": 21,
   "metadata": {},
   "outputs": [
    {
     "name": "stdout",
     "output_type": "stream",
     "text": [
      "訓練集準確度為： 0.9340659340659341\n",
      "測試集準確度為： 0.9473684210526315\n",
      "使用 Cross-Validation 準確度為： 0.9597229703732205\n",
      "使用 Leave-One-Out cross-validation 準確度為 0.9543057996485061\n",
      "\n",
      "classification_report:\n",
      "               precision    recall  f1-score   support\n",
      "\n",
      "           B       0.95      0.97      0.96        72\n",
      "           M       0.95      0.90      0.93        42\n",
      "\n",
      "    accuracy                           0.95       114\n",
      "   macro avg       0.95      0.94      0.94       114\n",
      "weighted avg       0.95      0.95      0.95       114\n",
      "\n"
     ]
    },
    {
     "data": {
      "image/png": "[encoded data removed]",
      "text/plain": [
       "<Figure size 432x288 with 2 Axes>"
      ]
     },
     "metadata": {
      "needs_background": "light"
     },
     "output_type": "display_data"
    }
   ],
   "source": [
    "from sklearn.ensemble import RandomForestClassifier\n",
    "\n",
    "# 建立 Random Forests 模型\n",
    "rf = RandomForestClassifier(n_estimators=5)\n",
    "\n",
    "datanew_rf = rf.fit(X_train, y_train)\n",
    "\n",
    "# 進行 Ensemble learning\n",
    "cv_scores = cross_val_score(estimator = rf, X = standard_feature, y = target, cv=5)\n",
    "\n",
    "# Leave-One-Out cross-validation\n",
    "loocv = LeaveOneOut()\n",
    "loocv_results = cross_val_score(rf, standard_feature, target, cv = loocv)\n",
    "\n",
    "# 預測\n",
    "y_test_pred = datanew_nb.predict(X_test)\n",
    "y_train_pred = datanew_nb.predict(X_train)\n",
    "# 績效\n",
    "test_accuracy = accuracy_score(y_test ,y_test_pred)\n",
    "train_accuracy = accuracy_score(y_train ,y_train_pred)\n",
    "\n",
    "cm_train = confusion_matrix(y_train, y_train_pred)\n",
    "cm_test = confusion_matrix(y_test, y_test_pred)\n",
    "\n",
    "print('訓練集準確度為：', train_accuracy)\n",
    "print('測試集準確度為：', test_accuracy)\n",
    "print('使用 Cross-Validation 準確度為：', cv_scores.mean())\n",
    "print('使用 Leave-One-Out cross-validation 準確度為', loocv_results.mean())\n",
    "print('\\nclassification_report:\\n', classification_report(y_test, y_test_pred, target_names=target_names))\n",
    "\n",
    "mat = confusion_matrix(y_test, y_test_pred)\n",
    "sns.heatmap(mat.T, square=True, annot=True, fmt='d',\n",
    "            xticklabels=target_names, yticklabels=target_names)\n",
    "plt.xlabel('true label')\n",
    "plt.ylabel('predicted label');"
   ]
  },
  {
   "cell_type": "markdown",
   "metadata": {},
   "source": [
    "### (6) Neural Networks [MLPClassifier]"
   ]
  },
  {
   "cell_type": "code",
   "execution_count": 19,
   "metadata": {},
   "outputs": [
    {
     "name": "stderr",
     "output_type": "stream",
     "text": [
      "C:\\Users\\BoCheng\\Anaconda3\\envs\\tensorflow-gpu\\lib\\site-packages\\sklearn\\neural_network\\multilayer_perceptron.py:566: ConvergenceWarning: Stochastic Optimizer: Maximum iterations (1000) reached and the optimization hasn't converged yet.\n",
      "  % self.max_iter, ConvergenceWarning)\n",
      "C:\\Users\\BoCheng\\Anaconda3\\envs\\tensorflow-gpu\\lib\\site-packages\\sklearn\\neural_network\\multilayer_perceptron.py:566: ConvergenceWarning: Stochastic Optimizer: Maximum iterations (1000) reached and the optimization hasn't converged yet.\n",
      "  % self.max_iter, ConvergenceWarning)\n",
      "C:\\Users\\BoCheng\\Anaconda3\\envs\\tensorflow-gpu\\lib\\site-packages\\sklearn\\neural_network\\multilayer_perceptron.py:566: ConvergenceWarning: Stochastic Optimizer: Maximum iterations (1000) reached and the optimization hasn't converged yet.\n",
      "  % self.max_iter, ConvergenceWarning)\n",
      "C:\\Users\\BoCheng\\Anaconda3\\envs\\tensorflow-gpu\\lib\\site-packages\\sklearn\\neural_network\\multilayer_perceptron.py:566: ConvergenceWarning: Stochastic Optimizer: Maximum iterations (1000) reached and the optimization hasn't converged yet.\n",
      "  % self.max_iter, ConvergenceWarning)\n",
      "C:\\Users\\BoCheng\\Anaconda3\\envs\\tensorflow-gpu\\lib\\site-packages\\sklearn\\neural_network\\multilayer_perceptron.py:566: ConvergenceWarning: Stochastic Optimizer: Maximum iterations (1000) reached and the optimization hasn't converged yet.\n",
      "  % self.max_iter, ConvergenceWarning)\n"
     ]
    },
    {
     "name": "stdout",
     "output_type": "stream",
     "text": [
      "訓練集準確度為： 0.9340659340659341\n",
      "測試集準確度為： 0.9473684210526315\n",
      "使用 Cross-Validation 準確度為： 0.970126971912274\n",
      "使用 Leave-One-Out cross-validation 準確度為 0.9648506151142355\n",
      "\n",
      "classification_report:\n",
      "               precision    recall  f1-score   support\n",
      "\n",
      "           B       0.95      0.97      0.96        72\n",
      "           M       0.95      0.90      0.93        42\n",
      "\n",
      "    accuracy                           0.95       114\n",
      "   macro avg       0.95      0.94      0.94       114\n",
      "weighted avg       0.95      0.95      0.95       114\n",
      "\n"
     ]
    },
    {
     "data": {
      "image/png": "[encoded data removed]",
      "text/plain": [
       "<Figure size 432x288 with 2 Axes>"
      ]
     },
     "metadata": {
      "needs_background": "light"
     },
     "output_type": "display_data"
    }
   ],
   "source": [
    "from sklearn.neural_network import MLPClassifier\n",
    "\n",
    "# 建立 LinearRegression 模型\n",
    "mlp = MLPClassifier(hidden_layer_sizes=[3],activation='relu',solver ='sgd',max_iter=1000)\n",
    "\n",
    "datanew_mlp = mlp.fit(X_train, y_train)\n",
    "\n",
    "# 進行 Ensemble learning\n",
    "cv_scores = cross_val_score(estimator = mlp, X = standard_feature, y = target, cv=5)\n",
    "\n",
    "# Leave-One-Out cross-validation\n",
    "loocv = LeaveOneOut()\n",
    "loocv_results = cross_val_score(mlp, standard_feature, target, cv = loocv)\n",
    "\n",
    "# 預測\n",
    "y_test_pred = datanew_nb.predict(X_test)\n",
    "y_train_pred = datanew_nb.predict(X_train)\n",
    "# 績效\n",
    "test_accuracy = accuracy_score(y_test ,y_test_pred)\n",
    "train_accuracy = accuracy_score(y_train ,y_train_pred)\n",
    "\n",
    "cm_train = confusion_matrix(y_train, y_train_pred)\n",
    "cm_test = confusion_matrix(y_test, y_test_pred)\n",
    "\n",
    "print('訓練集準確度為：', train_accuracy)\n",
    "print('測試集準確度為：', test_accuracy)\n",
    "print('使用 Cross-Validation 準確度為：', cv_scores.mean())\n",
    "print('使用 Leave-One-Out cross-validation 準確度為', loocv_results.mean())\n",
    "print('\\nclassification_report:\\n', classification_report(y_test, y_test_pred, target_names=target_names))\n",
    "\n",
    "mat = confusion_matrix(y_test, y_test_pred)\n",
    "sns.heatmap(mat.T, square=True, annot=True, fmt='d',\n",
    "            xticklabels=target_names, yticklabels=target_names)\n",
    "plt.xlabel('true label')\n",
    "plt.ylabel('predicted label');"
   ]
  }
 ],
 "metadata": {
  "kernelspec": {
   "display_name": "Python 3",
   "language": "python",
   "name": "python3"
  },
  "language_info": {
   "codemirror_mode": {
    "name": "ipython",
    "version": 3
   },
   "file_extension": ".py",
   "mimetype": "text/x-python",
   "name": "python",
   "nbconvert_exporter": "python",
   "pygments_lexer": "ipython3",
   "version": "3.7.3"
  }
 },
 "nbformat": 4,
 "nbformat_minor": 2
}
