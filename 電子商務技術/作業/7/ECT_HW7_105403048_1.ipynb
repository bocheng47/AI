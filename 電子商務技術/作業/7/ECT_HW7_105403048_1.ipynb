{
 "cells": [
  {
   "cell_type": "markdown",
   "metadata": {},
   "source": [
    "## (a) 選取以下欄位：（15%）\n",
    "\n",
    "####  Name、Age、Wage、Skill Moves、Work Rate、Height、Weight、Crossing ~ GKReflexes\n",
    "\n",
    "####  總共41個屬性"
   ]
  },
  {
   "cell_type": "code",
   "execution_count": 19,
   "metadata": {},
   "outputs": [],
   "source": [
    "import pandas as pd\n",
    "import numpy as np\n",
    "\n",
    "#讀取CSV檔案\n",
    "data = pd.read_csv('fifa19.csv')\n",
    "df1 = data[['Name','Age','Wage','Skill Moves','Work Rate','Height','Weight']]\n",
    "df2 = data.iloc[:,54:88]\n",
    "data = df1.join(df2)"
   ]
  },
  {
   "cell_type": "markdown",
   "metadata": {},
   "source": [
    "## (b) 修改[Work Rate]該欄的值（15%）\n",
    "\n",
    "####  切開成[High].[Medium].[Low]3欄(有=1，無=0)\n",
    "\n",
    "####  完成後，將原本的[Work Rate]欄位刪除"
   ]
  },
  {
   "cell_type": "code",
   "execution_count": 20,
   "metadata": {},
   "outputs": [],
   "source": [
    "Medium = data['Work Rate'].str.contains('Medium')\n",
    "High = data['Work Rate'].str.contains('High')\n",
    "Low = data['Work Rate'].str.contains('Low')\n",
    "# 新增 Medium, High, Low 欄位\n",
    "data['Medium'], data['High'], data['Low'] = Medium, High, Low\n",
    "# 將 True 轉為 1, False 轉為 0\n",
    "data[[\"Medium\",\"High\", \"Low\"]] *= 1\n",
    "# 刪除 [Work Rate]欄位\n",
    "data = data.drop(columns=\"Work Rate\")"
   ]
  },
  {
   "cell_type": "markdown",
   "metadata": {},
   "source": [
    "## (c) 如[Height].[Weight]欄位中有空值(null)，即刪除整筆資料（15%）"
   ]
  },
  {
   "cell_type": "code",
   "execution_count": 21,
   "metadata": {},
   "outputs": [],
   "source": [
    "data = data.dropna(subset=['Height','Weight'])"
   ]
  },
  {
   "cell_type": "markdown",
   "metadata": {},
   "source": [
    "## (d) 轉換幣值（15%）\n",
    "\n",
    "####  修改[Wage]該欄的值\n",
    "####  歐元：台幣→1:35\n",
    "####  K→1000"
   ]
  },
  {
   "cell_type": "code",
   "execution_count": 22,
   "metadata": {},
   "outputs": [],
   "source": [
    "# 擷取[Wage]欄位的數值\n",
    "data['Wage'] = data['Wage'].str.extract('(\\d+)').astype(int)\n",
    "# 轉換幣值 new_Wage = old_Wage * 35 * 1000\n",
    "data['Wage'] = data['Wage']*35*1000"
   ]
  },
  {
   "cell_type": "markdown",
   "metadata": {},
   "source": [
    "## (e) 轉換身高（15%）\n",
    "\n",
    "####  修改[Height]該欄的值\n",
    "\n",
    "####  將身高單位轉換成公分\n",
    "\n",
    "####  1 feet = 30.48 cm, 1 inch = 2.54 cm\n",
    "\n",
    "####  並把欄位名稱['Height]改成[Height(cm)]"
   ]
  },
  {
   "cell_type": "code",
   "execution_count": 23,
   "metadata": {},
   "outputs": [],
   "source": [
    "### 將 feet 與 inch 分開並轉換成 cm\n",
    "def parse_ht(x):\n",
    "    ht_ = x.split(\"'\")\n",
    "    ft_ = float(ht_[0])\n",
    "    in_ = float(ht_[1])\n",
    "    return (ft_*30.48) + (in_*2.54)\n",
    "\n",
    "#使用函數 parse_ht 轉換單位\n",
    "data[\"Height\"] = data[\"Height\"].apply(lambda x:parse_ht(x))\n",
    "\n",
    "#使用函數 rename 轉換欄位名稱\n",
    "data.rename(columns={'Height':'Height(cm)'}, inplace=True)"
   ]
  },
  {
   "cell_type": "markdown",
   "metadata": {},
   "source": [
    "## (f) 轉換體重（15%）\n",
    "\n",
    "####  修改[weight]該欄的值\n",
    "\n",
    "####  將體重單位轉換成公斤\n",
    "\n",
    "####  1 lbs = 0.4536 kg\n",
    "\n",
    "####  並把欄位名稱['Weight]改成[Weight(kg)]"
   ]
  },
  {
   "cell_type": "code",
   "execution_count": 24,
   "metadata": {},
   "outputs": [],
   "source": [
    "# 擷取[Weight]欄位的數值\n",
    "data['Weight'] = data['Weight'].str.extract('(\\d+)').astype(int)\n",
    "\n",
    "# 轉換幣值 new_Weight = old_Weight * 0.4536\n",
    "data['Weight'] = data['Weight']*0.4536\n",
    "\n",
    "#使用函數 rename 轉換欄位名稱\n",
    "data.rename(columns={'Weight':'Weight(kg)'}, inplace=True)"
   ]
  },
  {
   "cell_type": "markdown",
   "metadata": {},
   "source": [
    "## (g) 匯出CSV（10%）\n",
    "\n",
    "####  檔名為: 學號_data_new.csv"
   ]
  },
  {
   "cell_type": "code",
   "execution_count": 25,
   "metadata": {},
   "outputs": [],
   "source": [
    "data.to_csv('105403048datanew.csv')"
   ]
  },
  {
   "cell_type": "code",
   "execution_count": null,
   "metadata": {},
   "outputs": [],
   "source": []
  }
 ],
 "metadata": {
  "kernelspec": {
   "display_name": "Python 3",
   "language": "python",
   "name": "python3"
  },
  "language_info": {
   "codemirror_mode": {
    "name": "ipython",
    "version": 3
   },
   "file_extension": ".py",
   "mimetype": "text/x-python",
   "name": "python",
   "nbconvert_exporter": "python",
   "pygments_lexer": "ipython3",
   "version": "3.7.1"
  }
 },
 "nbformat": 4,
 "nbformat_minor": 2
}
