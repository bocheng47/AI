{
 "cells": [
  {
   "cell_type": "markdown",
   "metadata": {},
   "source": [
    "### 三、 請用python對BreastCancer.csv對目標diagnosis進行Ensemble learning並與未使用\n",
    "\n",
    "### 的結果進行比較(請列出重要過程及適當說明)："
   ]
  },
  {
   "cell_type": "code",
   "execution_count": 131,
   "metadata": {},
   "outputs": [],
   "source": [
    "import pandas as pd\n",
    "import numpy as np\n",
    "from sklearn.model_selection import train_test_split\n",
    "\n",
    "#讀取CSV檔案\n",
    "data = pd.read_csv('BreastCancer.csv')\n",
    "\n",
    "feature = data.iloc[:,2:32]\n",
    "target = data['diagnosis']\n",
    "\n",
    "# 切分訓練與測試資料\n",
    "train_X, test_X, train_y, test_y = train_test_split(feature, target, test_size = 0.4, random_state=0)\n"
   ]
  },
  {
   "cell_type": "markdown",
   "metadata": {},
   "source": [
    "### (a). 以10 Folds cross-validation進行DecisionTreeClassifier分類(5%)"
   ]
  },
  {
   "cell_type": "code",
   "execution_count": 135,
   "metadata": {},
   "outputs": [
    {
     "name": "stdout",
     "output_type": "stream",
     "text": [
      "使用Ensemble Learning 準確度為： 0.921134733385187\n",
      "未使用Ensemble Learning 準確度為： 0.9035087719298246\n"
     ]
    }
   ],
   "source": [
    "from sklearn.tree import DecisionTreeClassifier\n",
    "from sklearn.model_selection import cross_val_score\n",
    "from sklearn import metrics\n",
    "\n",
    "# 建立 DecisionTree 模型\n",
    "clf = DecisionTreeClassifier()\n",
    "\n",
    "# 進行 Ensemble learning\n",
    "tree_scores = cross_val_score(estimator=clf, X=feature, y=target, cv=10)\n",
    "\n",
    "# 不使用 Ensemble learning\n",
    "BreastCancer_clf = clf.fit(train_X, train_y)\n",
    "# 預測\n",
    "test_y_predicted = BreastCancer_clf.predict(test_X)\n",
    "# 績效\n",
    "accuracy = metrics.accuracy_score(test_y, test_y_predicted)\n",
    "\n",
    "print('使用Ensemble Learning 準確度為：', tree_scores.mean())\n",
    "print('未使用Ensemble Learning 準確度為：', accuracy)"
   ]
  },
  {
   "cell_type": "markdown",
   "metadata": {},
   "source": [
    "### (b). 以10 Folds cross-validation進行BaggingClassifier，n_estimators=10分類(10%)"
   ]
  },
  {
   "cell_type": "code",
   "execution_count": 117,
   "metadata": {},
   "outputs": [
    {
     "name": "stdout",
     "output_type": "stream",
     "text": [
      "使用Ensemble Learning 準確度為： 0.9526877538674272\n",
      "未使用Ensemble Learning 準確度為： 0.9473684210526315\n"
     ]
    }
   ],
   "source": [
    "from sklearn.ensemble import BaggingClassifier\n",
    "\n",
    "# 建立 bagging 模型\n",
    "bag = BaggingClassifier(n_estimators = 10)\n",
    "\n",
    "# 進行 Ensemble learning\n",
    "bag_scores = cross_val_score(estimator=bag, X=feature, y=target, cv=10, n_jobs=4)\n",
    "\n",
    "# 不使用 Ensemble learning\n",
    "BreastCancer_bag = bag.fit(train_X, train_y)\n",
    "# 預測\n",
    "test_y_predicted = BreastCancer_bag.predict(test_X)\n",
    "# 績效\n",
    "accuracy = metrics.accuracy_score(test_y, test_y_predicted)\n",
    "\n",
    "print('使用Ensemble Learning 準確度為：', bag_scores.mean())\n",
    "print('未使用Ensemble Learning 準確度為：', accuracy)"
   ]
  },
  {
   "cell_type": "markdown",
   "metadata": {},
   "source": [
    "### (c). 以10 Folds cross-validation進行RandomForestClassifier分類(10%) "
   ]
  },
  {
   "cell_type": "code",
   "execution_count": 118,
   "metadata": {},
   "outputs": [
    {
     "name": "stdout",
     "output_type": "stream",
     "text": [
      "使用Ensemble Learning 準確度為： 0.9475131795004753\n",
      "未使用Ensemble Learning 準確度為： 0.9342105263157895\n"
     ]
    }
   ],
   "source": [
    "from sklearn.ensemble import RandomForestClassifier\n",
    "\n",
    "# 建立 RandomForest 模型\n",
    "forest = RandomForestClassifier(n_estimators = 10)\n",
    "\n",
    "# 進行 Ensemble learning\n",
    "forest_scores = cross_val_score(estimator=forest, X=feature, y=target, cv=10, n_jobs=4)\n",
    "\n",
    "# 不使用 Ensemble learning\n",
    "BreastCancer_forest = forest.fit(train_X, train_y)\n",
    "# 預測\n",
    "test_y_predicted = BreastCancer_forest.predict(test_X)\n",
    "# 績效\n",
    "accuracy = metrics.accuracy_score(test_y, test_y_predicted)\n",
    "\n",
    "print('使用Ensemble Learning 準確度為：', forest_scores.mean())\n",
    "print('未使用Ensemble Learning 準確度為：', accuracy)"
   ]
  },
  {
   "cell_type": "markdown",
   "metadata": {},
   "source": [
    "### (d). 以10 Folds cross-validation進行AdaBoost,n_estimators=10分類(10%) "
   ]
  },
  {
   "cell_type": "code",
   "execution_count": 119,
   "metadata": {},
   "outputs": [
    {
     "name": "stdout",
     "output_type": "stream",
     "text": [
      "使用Ensemble Learning 準確度為： 0.9578893354074841\n",
      "未使用Ensemble Learning 準確度為： 0.956140350877193\n"
     ]
    }
   ],
   "source": [
    "from sklearn.ensemble import AdaBoostClassifier\n",
    "\n",
    "# 建立 AdaBoost 模型\n",
    "boost = AdaBoostClassifier(n_estimators = 10)\n",
    "\n",
    "# 進行 Ensemble learning\n",
    "boost_scores = cross_val_score(estimator=forest, X=feature, y=target, cv=10, n_jobs=4)\n",
    "\n",
    "# 不使用 Ensemble learning\n",
    "BreastCancer_boost = boost.fit(train_X, train_y)\n",
    "# 預測\n",
    "test_y_predicted = BreastCancer_boost.predict(test_X)\n",
    "# 績效\n",
    "accuracy = metrics.accuracy_score(test_y, test_y_predicted)\n",
    "\n",
    "print('使用Ensemble Learning 準確度為：', boost_scores.mean())\n",
    "print('未使用Ensemble Learning 準確度為：', accuracy)"
   ]
  },
  {
   "cell_type": "code",
   "execution_count": null,
   "metadata": {},
   "outputs": [],
   "source": []
  }
 ],
 "metadata": {
  "kernelspec": {
   "display_name": "Python 3",
   "language": "python",
   "name": "python3"
  },
  "language_info": {
   "codemirror_mode": {
    "name": "ipython",
    "version": 3
   },
   "file_extension": ".py",
   "mimetype": "text/x-python",
   "name": "python",
   "nbconvert_exporter": "python",
   "pygments_lexer": "ipython3",
   "version": "3.7.1"
  }
 },
 "nbformat": 4,
 "nbformat_minor": 2
}
