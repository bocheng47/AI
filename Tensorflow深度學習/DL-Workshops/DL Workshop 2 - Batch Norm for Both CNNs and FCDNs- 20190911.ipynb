{
 "cells": [
  {
   "cell_type": "markdown",
   "metadata": {},
   "source": [
    "## Deep Learning Workshop 2 - Batch Normalization for Both CNNs & FCDNs\n",
    "2019/09/11\n",
    "\n",
    "[ Reference ]\n",
    "+ Rui Shu, \"**TENSORFLOW GUIDE: BATCH NORMALIZATION**\", 2016/12/26. http://ruishu.io/2016/12/27/batchnorm/\n",
    "    + Github code: https://github.com/RuiShu/micro-projects/blob/master/tf-batchnorm/batchnorm_guide.ipynb\n",
    "+ Antoine Labatie, \"**It’s Necessary to Combine Batch Norm and Skip Connections**\", Towards Data Science, 2019/09/01. https://towardsdatascience.com/its-necessary-to-combine-batch-norm-and-skip-connections-e92210ca04da\n",
    "+ Federico Peccia, \"**Batch normalization: theory and how to use it with Tensorflow**\", , Towards Data Science, 2018/09/16. https://towardsdatascience.com/batch-normalization-theory-and-how-to-use-it-with-tensorflow-1892ca0173ad"
   ]
  },
  {
   "cell_type": "markdown",
   "metadata": {},
   "source": [
    "-------------------------------\n",
    "## [ CNNs ]: \n",
    "> 1. Please modify the TensorFlow code abovein **Case 1** for **CNNs**, and add \"Convolution Layers\" & \"MaxPooling Layers\", as following:\n",
    "    + **Conv Layer 1**\n",
    "    + **MaxPool Layer 1**\n",
    "    + **Conv Layer 2**\n",
    "    + **MaxPool Layer 2**\n",
    "    + **Hidden Layer** \n",
    "    + **Hidden Layer** \n",
    "    + **Output Layer**\n",
    "    \n",
    "> 2. Using Batch Normalization by applying `tf.contrib.layers.batch_norm()` to `tf.contrib.layers.conv2d()`. \n",
    "\n",
    "> 3. And then, compare the results with those in **Case 1**."
   ]
  },
  {
   "cell_type": "markdown",
   "metadata": {},
   "source": [
    "[ REFERENCE ] :\n",
    "+ dhwajraj, \"How I can apply batch normalization?\", 2016/12/07. https://github.com/dennybritz/cnn-text-classification-tf/issues/29\n",
    "+ **`tf.contrib.layers.conv2d`**:https://www.tensorflow.org/api_docs/python/tf/contrib/layers/conv2d\n",
    "\n",
    "> conv1 = `tf.contrib.layers.conv2d(...,\n",
    "                                  normalizer_fn = tf.contrib.layers.batch_norm, \n",
    "                                  ...)`\n",
    "\n",
    "> conv_out = `tf.nn.relu(conv1)`"
   ]
  },
  {
   "cell_type": "markdown",
   "metadata": {},
   "source": [
    "\n",
    "+  **`tf.contrib.layers.batch_norm()`** :　https://www.tensorflow.org/api_docs/python/tf/contrib/layers/batch_norm\n",
    "\n",
    ">+ It can be used as a **normalizer function** for `tf.contrib.layers.conv2d` and `tf.contrib.layers.fully_connected`. \n",
    "+ The normalization is over all but the last dimension if `data_format` is **NHWC** and all but the second dimension if `data_format` is **NCHW**. \n",
    "    + **NHWC** : (Samples, Height, Width, Channels)\n",
    "    + **NCHW** : (Samples, Channels, Height, Width)\n",
    "> + In case of a 2D tensor this corresponds to the batch dimension, while in case of a 4D tensor this corresponds to the batch and space dimensions.\n",
    "------------------------"
   ]
  },
  {
   "cell_type": "markdown",
   "metadata": {},
   "source": [
    "- [< Case Study > : Batch_Norm for Both CNNs & FCDNs](#BNforBoth)\n",
    "- [< Exercise > : Batch_Norm for CIFAR-10 Dataset](#BNforCIFAR10)"
   ]
  },
  {
   "cell_type": "code",
   "execution_count": 1,
   "metadata": {},
   "outputs": [
    {
     "name": "stderr",
     "output_type": "stream",
     "text": [
      "C:\\Users\\USER\\Anaconda3\\lib\\site-packages\\h5py\\__init__.py:36: FutureWarning: Conversion of the second argument of issubdtype from `float` to `np.floating` is deprecated. In future, it will be treated as `np.float64 == np.dtype(float).type`.\n",
      "  from ._conv import register_converters as _register_converters\n"
     ]
    },
    {
     "name": "stdout",
     "output_type": "stream",
     "text": [
      "1.12.0\n"
     ]
    }
   ],
   "source": [
    "import numpy as np\n",
    "import tensorflow as tf\n",
    "print(tf.__version__)\n",
    "# for the old-version usage of TensorFlow, such as tensorflow.examples.tutorials.mnist\n",
    "old_v = tf.logging.get_verbosity()          \n",
    "tf.logging.set_verbosity(tf.logging.ERROR) "
   ]
  },
  {
   "cell_type": "markdown",
   "metadata": {},
   "source": [
    "### Input MNIST dataset "
   ]
  },
  {
   "cell_type": "code",
   "execution_count": 2,
   "metadata": {},
   "outputs": [
    {
     "name": "stdout",
     "output_type": "stream",
     "text": [
      "Extracting MNIST_data/train-images-idx3-ubyte.gz\n",
      "Extracting MNIST_data/train-labels-idx1-ubyte.gz\n",
      "Extracting MNIST_data/t10k-images-idx3-ubyte.gz\n",
      "Extracting MNIST_data/t10k-labels-idx1-ubyte.gz\n"
     ]
    }
   ],
   "source": [
    "from tensorflow.examples.tutorials.mnist import input_data\n",
    "\n",
    "mnist = input_data.read_data_sets(\"MNIST_data/\", one_hot=True)"
   ]
  },
  {
   "cell_type": "code",
   "execution_count": 3,
   "metadata": {},
   "outputs": [
    {
     "name": "stdout",
     "output_type": "stream",
     "text": [
      " mnist.train.images.shape :\t  (55000, 784)\n",
      " mnist.train.labels.shape :\t  (55000, 10)\n",
      " mnist.validation.images.shape :  (5000, 784)\n",
      " mnist.validation.labels.shape :  (5000, 10)\n",
      " mnist.test.images.shape :\t  (10000, 784)\n",
      " mnist.test.labels.shape :\t  (10000, 10)\n"
     ]
    },
    {
     "data": {
      "text/plain": [
       "array([0., 0., 0., 0., 0., 0., 0., 1., 0., 0.])"
      ]
     },
     "execution_count": 3,
     "metadata": {},
     "output_type": "execute_result"
    }
   ],
   "source": [
    "print(\" mnist.train.images.shape :\\t \", mnist.train.images.shape)\n",
    "print(\" mnist.train.labels.shape :\\t \", mnist.train.labels.shape)\n",
    "print(\" mnist.validation.images.shape : \", mnist.validation.images.shape)\n",
    "print(\" mnist.validation.labels.shape : \", mnist.validation.labels.shape)\n",
    "print(\" mnist.test.images.shape :\\t \", mnist.test.images.shape)\n",
    "print(\" mnist.test.labels.shape :\\t \", mnist.test.labels.shape)\n",
    "\n",
    "mnist.test.labels[0]"
   ]
  },
  {
   "cell_type": "code",
   "execution_count": 4,
   "metadata": {},
   "outputs": [],
   "source": [
    "images_data = mnist.train.images.reshape(55000, 28, 28, 1)\n",
    "# images_data[0]"
   ]
  },
  {
   "cell_type": "markdown",
   "metadata": {},
   "source": [
    "--------------------------------------\n",
    "<a id='BNforBoth'></a>\n",
    "## < Case Study > : Batch_Norm for Both CNNs & FCDNs\n"
   ]
  },
  {
   "cell_type": "markdown",
   "metadata": {},
   "source": [
    "> + **[NOTE]: the `phase` term. **\n",
    "    + useed as a **placeholder for a boolean** which we will insert into ``feed_dict`. \n",
    "    + It will serve as a binary indicator for whether we are in **training phase=True** or **testing phase=False** mode. "
   ]
  },
  {
   "cell_type": "code",
   "execution_count": 5,
   "metadata": {},
   "outputs": [],
   "source": [
    "def train_test():\n",
    "    update_ops = tf.get_collection(tf.GraphKeys.UPDATE_OPS)\n",
    "    with tf.control_dependencies(update_ops):\n",
    "        train_step = tf.train.GradientDescentOptimizer(0.01).minimize(loss)\n",
    "    \n",
    "    # --------------------------------------\n",
    "    # Launch the computation graph...\n",
    "    # --------------------------------------\n",
    "    sess = tf.Session()\n",
    "    sess.run(tf.global_variables_initializer())\n",
    "    \n",
    "    history = []\n",
    "    batch_size = 100\n",
    "    iterep = 550\n",
    "    epochs = 30\n",
    "    \n",
    "    ##  mnist.test.validation.shape : (5000, 784)\n",
    "    X_val = mnist.validation.images.reshape(5, 1000, 28, 28, 1)\n",
    "    ##  mnist.test.validation.shape : (5000, 10)\n",
    "    Y_val = mnist.validation.labels.reshape(5, 1000, 10)   \n",
    "\n",
    "    for i in range(iterep * epochs):\n",
    "        x_train, y_train = mnist.train.next_batch(batch_size)\n",
    "        \n",
    "        x_train = x_train.reshape(batch_size, 28, 28, 1)\n",
    "        \n",
    "        sess.run(train_step,\n",
    "                 feed_dict={'x:0': x_train, \n",
    "                            'y:0': y_train, \n",
    "                            'phase:0': 1})\n",
    "        if (i + 1) %  iterep == 0:\n",
    "            epoch = (i + 1)/iterep\n",
    "            tr = sess.run([loss, accuracy], \n",
    "                          feed_dict={'x:0': x_train,\n",
    "                                     'y:0': y_train,\n",
    "                                     'phase:0': 1})\n",
    "\n",
    "            t_loss = np.mean([sess.run(loss,\n",
    "                                  feed_dict={'x:0': X_val[i], \n",
    "                                             'y:0': Y_val[i], \n",
    "                                             'phase:0': 0}) \n",
    "                                  for i in range(5)])\n",
    "            t_accu = np.mean([sess.run(accuracy,\n",
    "                                  feed_dict={'x:0': X_val[i], \n",
    "                                             'y:0': Y_val[i], \n",
    "                                             'phase:0': 0}) \n",
    "                                  for i in range(5)])\n",
    "            t = [t_loss, t_accu]\n",
    "\n",
    "            history += [[epoch] + tr + t]\n",
    "            print(history[-1])\n",
    "            \n",
    "    print(\"\\n Computing the test accuracy ... \", end = \" \")\n",
    "    \n",
    "    ##  ------------------------------------------------------------------\n",
    "    ##  Test datasets...\n",
    "    ##\n",
    "    ##  Split the test procedure into 10 blocks of 1,000 images each. \n",
    "    ##  Doing this is important mostly for much larger datasets.\n",
    "    ##  ------------------------------------------------------------------\n",
    "    ##  mnist.test.images.shape : (10000, 784)\n",
    "    X_test = mnist.test.images.reshape(10, 1000, 28, 28, 1) \n",
    "    ##  mnist.test.labels.shape : (10000, 10)\n",
    "    Y_test = mnist.test.labels.reshape(10, 1000, 10)   \n",
    "    \n",
    "    test_loss = np.mean([sess.run(loss,\n",
    "                                  feed_dict={'x:0': X_test[i], \n",
    "                                             'y:0': Y_test[i], \n",
    "                                             'phase:0': 0}) \n",
    "                                  for i in range(10)])\n",
    "    test_accu = np.mean([sess.run(accuracy,\n",
    "                                  feed_dict={'x:0': X_test[i], \n",
    "                                             'y:0': Y_test[i], \n",
    "                                             'phase:0': 0}) \n",
    "                                  for i in range(10)])\n",
    "    print(\" Done !!! \")\n",
    "    \n",
    "    return history, test_accu, test_loss"
   ]
  },
  {
   "cell_type": "markdown",
   "metadata": {},
   "source": [
    "## < Case 1 > : No batch normalization for Both CNNs & FCDNs"
   ]
  },
  {
   "cell_type": "code",
   "execution_count": 6,
   "metadata": {},
   "outputs": [],
   "source": [
    "def dense(x, size, scope):\n",
    "    return tf.contrib.layers.fully_connected(x, size, \n",
    "                                             activation_fn=None,\n",
    "                                             scope=scope)\n",
    "\n",
    "def dense_relu(x, size, scope):\n",
    "    with tf.variable_scope(scope):\n",
    "        h1 = dense(x, size, 'dense')\n",
    "        return tf.nn.relu(h1, 'relu')"
   ]
  },
  {
   "cell_type": "code",
   "execution_count": 7,
   "metadata": {},
   "outputs": [],
   "source": [
    "def weight_variable(shape):\n",
    "    initial = tf.truncated_normal(shape, stddev=0.1)\n",
    "    return tf.Variable(initial)\n",
    "\n",
    "def bias_variable(shape):\n",
    "    initial = tf.constant(0.1, shape=shape)\n",
    "    return tf.Variable(initial)\n",
    "\n",
    "def conv2d(x, W):\n",
    "    return tf.nn.conv2d(x, W, strides=[1, 1, 1, 1], padding='SAME')\n",
    "\n",
    "def max_pool_2x2(x):\n",
    "    return tf.nn.max_pool(x, ksize=[1, 2, 2, 1],\n",
    "                          strides=[1, 2, 2, 1], padding='SAME')\n",
    "\n",
    "def conv_layer(input, shape):\n",
    "    W = weight_variable(shape)\n",
    "    b = bias_variable([shape[3]])\n",
    "    return tf.nn.relu(conv2d(input, W) + b)"
   ]
  },
  {
   "cell_type": "code",
   "execution_count": 8,
   "metadata": {},
   "outputs": [],
   "source": [
    "# Reset the default graph...\n",
    "tf.reset_default_graph()\n",
    "\n",
    "# -------------------------------\n",
    "# Build a computation graph...\n",
    "# -------------------------------\n",
    "x = tf.placeholder('float32', (None, 28, 28, 1), name='x')\n",
    "y = tf.placeholder('float32', (None, 10), name='y')\n",
    "phase = tf.placeholder(tf.bool, name='phase')\n",
    "\n",
    "# Conv layers with MaxPooling_2x2 layers\n",
    "conv1 = conv_layer(x, shape=[3, 3, 1, 32])\n",
    "conv1_pool = max_pool_2x2(conv1)\n",
    "\n",
    "conv2 = conv_layer(conv1_pool, shape=[3, 3, 32, 64])\n",
    "conv2_pool = max_pool_2x2(conv2)\n",
    "conv2_flat = tf.reshape(conv2_pool, [-1, 7 * 7 * 64])\n",
    "\n",
    "# FCDNetwork with 2 hidden layers...\n",
    "h1 = dense_relu(conv2_flat, 100, 'layer1')\n",
    "h2 = dense_relu(h1, 100, 'layer2')\n",
    "logits = dense(h2, 10, scope='logits')\n",
    "\n",
    "with tf.name_scope('accuracy'):\n",
    "    accuracy = tf.reduce_mean(tf.cast(\n",
    "            tf.equal(tf.argmax(y, 1), tf.argmax(logits, 1)), \n",
    "            'float32'))\n",
    "\n",
    "with tf.name_scope('loss'):\n",
    "    loss = tf.reduce_mean(\n",
    "        tf.nn.softmax_cross_entropy_with_logits(labels=y, logits=logits))"
   ]
  },
  {
   "cell_type": "code",
   "execution_count": 9,
   "metadata": {
    "scrolled": true
   },
   "outputs": [
    {
     "name": "stdout",
     "output_type": "stream",
     "text": [
      "[1.0, 0.34713078, 0.91, 0.3140219, 0.9044]\n",
      "[2.0, 0.2725409, 0.92, 0.2226055, 0.93640006]\n",
      "[3.0, 0.18453674, 0.95, 0.17173943, 0.9492]\n",
      "[4.0, 0.09079796, 0.98, 0.14004815, 0.95980006]\n",
      "[5.0, 0.15190345, 0.97, 0.120149255, 0.96500003]\n",
      "[6.0, 0.046016593, 1.0, 0.09323557, 0.9732]\n",
      "[7.0, 0.09513757, 0.99, 0.10268358, 0.9698]\n",
      "[8.0, 0.042703696, 1.0, 0.08064942, 0.97580004]\n",
      "[9.0, 0.12614034, 0.98, 0.07158618, 0.9782001]\n",
      "[10.0, 0.025924297, 0.99, 0.075008795, 0.9764]\n",
      "[11.0, 0.021404017, 1.0, 0.07739143, 0.9771999]\n",
      "[12.0, 0.06941884, 0.96, 0.06822805, 0.9802]\n",
      "[13.0, 0.034581054, 1.0, 0.060264986, 0.98340005]\n",
      "[14.0, 0.031103438, 0.99, 0.05829494, 0.9834]\n",
      "[15.0, 0.015991235, 1.0, 0.05558773, 0.98379993]\n",
      "[16.0, 0.04551036, 0.99, 0.05375264, 0.98359996]\n",
      "[17.0, 0.006980322, 1.0, 0.04996904, 0.98600006]\n",
      "[18.0, 0.0057363473, 1.0, 0.048630644, 0.9854]\n",
      "[19.0, 0.015285438, 1.0, 0.046932083, 0.9864]\n",
      "[20.0, 0.078176275, 0.99, 0.04724298, 0.98599994]\n",
      "[21.0, 0.0143761635, 1.0, 0.04885137, 0.98620003]\n",
      "[22.0, 0.017487278, 1.0, 0.047014926, 0.98599994]\n",
      "[23.0, 0.0065888083, 1.0, 0.048118092, 0.98459995]\n",
      "[24.0, 0.008494619, 1.0, 0.04447297, 0.98740005]\n",
      "[25.0, 0.00954659, 1.0, 0.04618803, 0.9856]\n",
      "[26.0, 0.014807796, 1.0, 0.0465967, 0.9858001]\n",
      "[27.0, 0.0125147775, 1.0, 0.05263905, 0.984]\n",
      "[28.0, 0.006367879, 1.0, 0.043284547, 0.9864]\n",
      "[29.0, 0.0024895864, 1.0, 0.04253006, 0.98620003]\n",
      "[30.0, 0.0028752557, 1.0, 0.041378472, 0.98740005]\n",
      "\n",
      " Computing the test accuracy ...   Done !!! \n"
     ]
    }
   ],
   "source": [
    "history, test_accu, test_loss = train_test()"
   ]
  },
  {
   "cell_type": "code",
   "execution_count": 10,
   "metadata": {},
   "outputs": [
    {
     "name": "stdout",
     "output_type": "stream",
     "text": [
      " [ Test  Accuracy ] : 0.9874000549316406\n",
      " [ Test Loss Score ] : 0.03655169531702995\n"
     ]
    }
   ],
   "source": [
    "print(\" [ Test  Accuracy ] : {}\".format(test_accu) +\n",
    "      \"\\n [ Test Loss Score ] : {}\".format(test_loss))"
   ]
  },
  {
   "cell_type": "code",
   "execution_count": 11,
   "metadata": {},
   "outputs": [
    {
     "data": {
      "image/png": "[encoded data removed]",
      "text/plain": [
       "<Figure size 432x288 with 1 Axes>"
      ]
     },
     "metadata": {},
     "output_type": "display_data"
    }
   ],
   "source": [
    "import matplotlib.pyplot as plt\n",
    "%matplotlib inline\n",
    "\n",
    "steps = np.arange(1, len(history) + 1)\n",
    "\n",
    "# \"bo\" is for \"blue dot\"\n",
    "plt.plot(steps, [history[i][1] for i in range(len(history))], \n",
    "         'bo', label='Training loss')\n",
    "# b is for \"solid blue line\"\n",
    "plt.plot(steps, [history[i][3] for i in range(len(history))], \n",
    "         'b', label='Validation loss')\n",
    "plt.title('Training and validation loss')\n",
    "plt.xlabel('Steps')\n",
    "plt.ylabel('Loss')\n",
    "step_5 = np.arange(0, len(history) + 1, step=5)\n",
    "plt.xticks(step_5)\n",
    "plt.grid(color='grey', linestyle='--', linewidth=0.5)\n",
    "plt.legend()\n",
    "\n",
    "plt.show()"
   ]
  },
  {
   "cell_type": "code",
   "execution_count": 12,
   "metadata": {},
   "outputs": [
    {
     "data": {
      "image/png": "[encoded data removed]",
      "text/plain": [
       "<Figure size 432x288 with 1 Axes>"
      ]
     },
     "metadata": {},
     "output_type": "display_data"
    }
   ],
   "source": [
    "plt.clf()   # clear figure\n",
    "\n",
    "plt.plot(steps, [history[i][2] for i in range(len(history))], \n",
    "         'bo', label='Training acc')\n",
    "plt.plot(steps, [history[i][4] for i in range(len(history))], \n",
    "         'b', label='Validation acc')\n",
    "plt.title('Training and validation accuracy')\n",
    "plt.xlabel('Steps')\n",
    "plt.ylabel('Accuracy')\n",
    "step_5 = np.arange(0, len(history) + 1, step=5)\n",
    "plt.xticks(step_5)\n",
    "plt.grid(color='grey', linestyle='--', linewidth=0.5)\n",
    "plt.legend()\n",
    "\n",
    "plt.show()"
   ]
  },
  {
   "cell_type": "markdown",
   "metadata": {},
   "source": [
    "## < Case 2 > : Standard batch normalization for Both CNNS & FCDNs\n",
    "+ Batch normalization would be to simply use the `tf.contrib.layers.batch_norm layer`.\n",
    "+ One thing that might stand out is the `phase` term. \n",
    "    + We are going to use as a **placeholder for a boolean** which we will insert into feed_dict. \n",
    "    + It will serve as a binary indicator for whether we are in **training phase=True** or **testing phase=False** mode. \n",
    "    \n",
    "    \n",
    "+ Recall that batch normalization has distinct behaviors during training verus test time:\n",
    "> + Training\n",
    "    1. Normalize layer activations according to mini-batch statistics.\n",
    "    2. During the training step, update population statistics approximation via moving average of mini-batch statistics.\n",
    " + Testing\n",
    "    1. Normalize layer activations according to estimated population statistics.\n",
    "    2. Do not update population statistics according to mini-batch statistcs from test data."
   ]
  },
  {
   "cell_type": "code",
   "execution_count": 13,
   "metadata": {},
   "outputs": [],
   "source": [
    "def dense_batch_relu(x, phase, scope):\n",
    "    with tf.variable_scope(scope):\n",
    "        h1 = tf.contrib.layers.fully_connected(x, 100, activation_fn=None, scope='dense')\n",
    "        \n",
    "        # Batch normalization would be to simply use the tf.contrib.layers.batch_norm layer.\n",
    "        h2 = tf.contrib.layers.batch_norm(h1, \n",
    "                                          center=True, scale=True, \n",
    "                                          is_training = phase,\n",
    "                                          scope='bn')\n",
    "        return tf.nn.relu(h2, 'relu')"
   ]
  },
  {
   "cell_type": "code",
   "execution_count": 14,
   "metadata": {},
   "outputs": [],
   "source": [
    "def conv2d_bn(x, W, shape):\n",
    "    # return tf.nn.conv2d(x, W, strides=[1, 1, 1, 1], padding='SAME')\n",
    "    return tf.contrib.layers.convolution2d(x, shape[3],\n",
    "                [shape[0],shape[1]], padding='SAME', \n",
    "                normalizer_fn=tf.contrib.layers.batch_norm)\n",
    "\n",
    "def conv_layer_bn(input, shape):\n",
    "    W = weight_variable(shape)\n",
    "    b = bias_variable([shape[3]])\n",
    "    return tf.nn.relu(conv2d_bn(input, W, shape) + b)"
   ]
  },
  {
   "cell_type": "code",
   "execution_count": 15,
   "metadata": {},
   "outputs": [],
   "source": [
    "# Reset the default graph...\n",
    "tf.reset_default_graph()\n",
    "\n",
    "# -------------------------------\n",
    "# Build a computation graph...\n",
    "# -------------------------------\n",
    "x = tf.placeholder('float32', (None, 28, 28, 1), name='x')\n",
    "y = tf.placeholder('float32', (None, 10), name='y')\n",
    "phase = tf.placeholder(tf.bool, name='phase')\n",
    "\n",
    "# Conv layers with MaxPooling_2x2 layers\n",
    "conv1 = conv_layer_bn(x, shape=[3, 3, 1, 32])\n",
    "conv1_pool = max_pool_2x2(conv1)\n",
    "\n",
    "conv2 = conv_layer_bn(conv1_pool, shape=[3, 3, 32, 64])\n",
    "conv2_pool = max_pool_2x2(conv2)\n",
    "conv2_flat = tf.reshape(conv2_pool, [-1, 7 * 7 * 64])\n",
    "\n",
    "# FCDNetwork with 2 hidden layers...\n",
    "h1 = dense_batch_relu(conv2_flat, 100, 'layer1')\n",
    "h2 = dense_batch_relu(h1, 100, 'layer2')\n",
    "logits = dense(h2, 10, scope='logits')\n",
    "\n",
    "with tf.name_scope('accuracy'):\n",
    "    accuracy = tf.reduce_mean(tf.cast(\n",
    "            tf.equal(tf.argmax(y, 1), tf.argmax(logits, 1)), \n",
    "            'float32'))\n",
    "\n",
    "with tf.name_scope('loss'):\n",
    "    loss = tf.reduce_mean(\n",
    "        tf.nn.softmax_cross_entropy_with_logits(labels=y, logits=logits))"
   ]
  },
  {
   "cell_type": "code",
   "execution_count": 16,
   "metadata": {},
   "outputs": [
    {
     "name": "stdout",
     "output_type": "stream",
     "text": [
      "[1.0, 0.22819969, 0.94, 0.13482675, 0.97300005]\n",
      "[2.0, 0.08690508, 0.97, 0.08695179, 0.97959995]\n",
      "[3.0, 0.06347962, 0.99, 0.06824646, 0.98460007]\n",
      "[4.0, 0.05149172, 1.0, 0.05769225, 0.98599994]\n",
      "[5.0, 0.03236327, 1.0, 0.05209251, 0.987]\n",
      "[6.0, 0.040290736, 1.0, 0.048348673, 0.9879999]\n",
      "[7.0, 0.069080345, 0.98, 0.04474481, 0.98859996]\n",
      "[8.0, 0.0363179, 0.99, 0.042220667, 0.98859996]\n",
      "[9.0, 0.011895503, 1.0, 0.0404024, 0.98859996]\n",
      "[10.0, 0.010452276, 1.0, 0.03892777, 0.9892]\n",
      "[11.0, 0.026083268, 0.99, 0.037725653, 0.9892]\n",
      "[12.0, 0.013770802, 1.0, 0.036054373, 0.9906]\n",
      "[13.0, 0.01164564, 1.0, 0.035631113, 0.9898]\n",
      "[14.0, 0.019283708, 1.0, 0.034873746, 0.99179995]\n",
      "[15.0, 0.007813569, 1.0, 0.034028195, 0.99160004]\n",
      "[16.0, 0.029040044, 0.99, 0.034023628, 0.99179995]\n",
      "[17.0, 0.01403545, 1.0, 0.03350904, 0.99059993]\n",
      "[18.0, 0.005218025, 1.0, 0.03221042, 0.9915999]\n",
      "[19.0, 0.010956578, 1.0, 0.031602412, 0.991]\n",
      "[20.0, 0.008619553, 1.0, 0.030878847, 0.99179995]\n",
      "[21.0, 0.008404718, 1.0, 0.03098824, 0.9926001]\n",
      "[22.0, 0.0052010063, 1.0, 0.031212235, 0.99139994]\n",
      "[23.0, 0.0021644493, 1.0, 0.03029791, 0.99279994]\n",
      "[24.0, 0.011195336, 1.0, 0.030815924, 0.9922]\n",
      "[25.0, 0.0027905891, 1.0, 0.029955987, 0.9926001]\n",
      "[26.0, 0.0033810916, 1.0, 0.03080726, 0.99279994]\n",
      "[27.0, 0.004775383, 1.0, 0.029964468, 0.99259996]\n",
      "[28.0, 0.0037602577, 1.0, 0.030335749, 0.99300003]\n",
      "[29.0, 0.003456529, 1.0, 0.029896742, 0.9924]\n",
      "[30.0, 0.0050243856, 1.0, 0.029884119, 0.9922]\n",
      "\n",
      " Computing the test accuracy ...   Done !!! \n"
     ]
    }
   ],
   "source": [
    "history_bn, test_accu_bn, test_loss_bn = train_test()"
   ]
  },
  {
   "cell_type": "code",
   "execution_count": 17,
   "metadata": {},
   "outputs": [
    {
     "name": "stdout",
     "output_type": "stream",
     "text": [
      " << With Batch Normalization >> :\n",
      " [ Test  Accuracy ] : 0.9902999997138977\n",
      " [ Test Loss Score ] : 0.029896069318056107\n",
      "\n",
      " < Without Batch Normalization > :\n",
      " [ Test  Accuracy ] : 0.9874000549316406\n",
      " [ Test Loss Score ] : 0.03655169531702995\n"
     ]
    }
   ],
   "source": [
    "print(\" << With Batch Normalization >> :\")\n",
    "print(\" [ Test  Accuracy ] : {}\".format(test_accu_bn) +\n",
    "      \"\\n [ Test Loss Score ] : {}\".format(test_loss_bn))\n",
    "\n",
    "print(\"\\n < Without Batch Normalization > :\")\n",
    "print(\" [ Test  Accuracy ] : {}\".format(test_accu) +\n",
    "      \"\\n [ Test Loss Score ] : {}\".format(test_loss))"
   ]
  },
  {
   "cell_type": "code",
   "execution_count": 18,
   "metadata": {},
   "outputs": [
    {
     "data": {
      "image/png": "[encoded data removed]",
      "text/plain": [
       "<Figure size 432x288 with 1 Axes>"
      ]
     },
     "metadata": {},
     "output_type": "display_data"
    }
   ],
   "source": [
    "plt.clf()   # clear figure\n",
    "\n",
    "steps = np.arange(1, len(history) + 1)\n",
    "\n",
    "# \"bo\" is for \"blue dot\"\n",
    "plt.plot(steps, [history_bn[i][1] for i in range(len(history))], \n",
    "         'bo', label='Training loss')\n",
    "# b is for \"solid blue line\"\n",
    "plt.plot(steps, [history_bn[i][3] for i in range(len(history))], \n",
    "         'b', label='Validation loss')\n",
    "plt.title('Training and validation loss')\n",
    "plt.xlabel('Steps')\n",
    "plt.ylabel('Loss')\n",
    "step_5 = np.arange(0, len(history) + 1, step=5)\n",
    "plt.xticks(step_5)\n",
    "plt.grid(color='grey', linestyle='--', linewidth=0.5)\n",
    "plt.legend()\n",
    "\n",
    "plt.show()"
   ]
  },
  {
   "cell_type": "code",
   "execution_count": 19,
   "metadata": {},
   "outputs": [
    {
     "data": {
      "image/png": "[encoded data removed]",
      "text/plain": [
       "<Figure size 432x288 with 1 Axes>"
      ]
     },
     "metadata": {},
     "output_type": "display_data"
    }
   ],
   "source": [
    "plt.clf()   # clear figure\n",
    "\n",
    "plt.plot(steps, [history_bn[i][2] for i in range(len(history))], \n",
    "         'bo', label='Training acc')\n",
    "plt.plot(steps, [history_bn[i][4] for i in range(len(history))], \n",
    "         'b', label='Validation acc')\n",
    "plt.title('Training and validation accuracy')\n",
    "plt.xlabel('Steps')\n",
    "plt.ylabel('Accuracy')\n",
    "step_5 = np.arange(0, len(history) + 1, step=5)\n",
    "plt.xticks(step_5)\n",
    "plt.grid(color='grey', linestyle='--', linewidth=0.5)\n",
    "plt.legend()\n",
    "\n",
    "plt.show()"
   ]
  },
  {
   "cell_type": "markdown",
   "metadata": {},
   "source": [
    "## < Case 3 > : Post-activation batch normalization"
   ]
  },
  {
   "cell_type": "code",
   "execution_count": 20,
   "metadata": {},
   "outputs": [],
   "source": [
    "def dense_relu_batch(x, phase, scope):\n",
    "    with tf.variable_scope(scope):\n",
    "        h1 = dense_relu(x, 100, scope='dense_relu')\n",
    "        \n",
    "        ##  Post-activation batch normalization...\n",
    "        bn = tf.contrib.layers.batch_norm(h1, \n",
    "                                          center=True, scale=True, \n",
    "                                          is_training=phase,\n",
    "                                          scope='bn')\n",
    "        return bn"
   ]
  },
  {
   "cell_type": "code",
   "execution_count": 21,
   "metadata": {},
   "outputs": [],
   "source": [
    "def conv_layer_relu_bn(input, shape):\n",
    "    W = weight_variable(shape)\n",
    "    b = bias_variable([shape[3]])\n",
    "    relu_bn = tf.nn.relu(conv2d(input, W) + b)\n",
    "    return tf.contrib.layers.convolution2d(relu_bn, shape[3],\n",
    "                                        [shape[0],shape[1]], padding='SAME', \n",
    "                                        normalizer_fn=tf.contrib.layers.batch_norm)"
   ]
  },
  {
   "cell_type": "code",
   "execution_count": 22,
   "metadata": {},
   "outputs": [],
   "source": [
    "# Reset the default graph...\n",
    "tf.reset_default_graph()\n",
    "\n",
    "# -------------------------------\n",
    "# Build a computation graph...\n",
    "# -------------------------------\n",
    "x = tf.placeholder('float32', (None, 28, 28, 1), name='x')\n",
    "y = tf.placeholder('float32', (None, 10), name='y')\n",
    "phase = tf.placeholder(tf.bool, name='phase')\n",
    "\n",
    "# Conv layers with MaxPooling_2x2 layers\n",
    "conv1 = conv_layer_relu_bn(x, shape=[3, 3, 1, 32])\n",
    "conv1_pool = max_pool_2x2(conv1)\n",
    "\n",
    "conv2 = conv_layer_relu_bn(conv1_pool, shape=[3, 3, 32, 64])\n",
    "conv2_pool = max_pool_2x2(conv2)\n",
    "conv2_flat = tf.reshape(conv2_pool, [-1, 7 * 7 * 64])\n",
    "\n",
    "# FCDNetwork with 2 hidden layers...\n",
    "h1 = dense_relu_batch(conv2_flat, 100, 'layer1')\n",
    "h2 = dense_relu_batch(h1, 100, 'layer2')\n",
    "logits = dense(h2, 10, scope='logits')\n",
    "\n",
    "with tf.name_scope('accuracy'):\n",
    "    accuracy = tf.reduce_mean(tf.cast(\n",
    "            tf.equal(tf.argmax(y, 1), tf.argmax(logits, 1)), \n",
    "            'float32'))\n",
    "\n",
    "with tf.name_scope('loss'):\n",
    "    loss = tf.reduce_mean(\n",
    "        tf.nn.softmax_cross_entropy_with_logits(labels=y, logits=logits))"
   ]
  },
  {
   "cell_type": "code",
   "execution_count": 23,
   "metadata": {},
   "outputs": [
    {
     "name": "stdout",
     "output_type": "stream",
     "text": [
      "[1.0, 0.045322508, 1.0, 0.08017796, 0.9786]\n",
      "[2.0, 0.032303844, 1.0, 0.056613702, 0.984]\n",
      "[3.0, 0.034607735, 1.0, 0.04769642, 0.98599994]\n",
      "[4.0, 0.01276288, 1.0, 0.045484014, 0.9878]\n",
      "[5.0, 0.016088096, 1.0, 0.03954638, 0.98759997]\n",
      "[6.0, 0.01239854, 1.0, 0.03746583, 0.9882]\n",
      "[7.0, 0.006392347, 1.0, 0.03467653, 0.9892]\n",
      "[8.0, 0.0110421525, 0.99, 0.036715463, 0.98719996]\n",
      "[9.0, 0.007426095, 1.0, 0.034923926, 0.9896]\n",
      "[10.0, 0.0053263623, 1.0, 0.03406713, 0.9894]\n",
      "[11.0, 0.0038638455, 1.0, 0.033111595, 0.9894]\n",
      "[12.0, 0.007110402, 1.0, 0.032611452, 0.98999995]\n",
      "[13.0, 0.00859357, 1.0, 0.03281461, 0.9901999]\n",
      "[14.0, 0.001952576, 1.0, 0.031936664, 0.9904]\n",
      "[15.0, 0.0052928654, 1.0, 0.031189319, 0.991]\n",
      "[16.0, 0.0050876033, 1.0, 0.032944076, 0.9896]\n",
      "[17.0, 0.0028861982, 1.0, 0.03214668, 0.99039996]\n",
      "[18.0, 0.0047184485, 1.0, 0.031180367, 0.9912]\n",
      "[19.0, 0.003622198, 1.0, 0.030650303, 0.99160004]\n",
      "[20.0, 0.001698384, 1.0, 0.031292476, 0.991]\n",
      "[21.0, 0.00075279555, 1.0, 0.029972602, 0.991]\n",
      "[22.0, 0.0025783242, 1.0, 0.0313933, 0.9906]\n",
      "[23.0, 0.0030230752, 1.0, 0.030601475, 0.99039996]\n",
      "[24.0, 0.0030608855, 1.0, 0.030311098, 0.991]\n",
      "[25.0, 0.0033270952, 1.0, 0.031302582, 0.9912001]\n",
      "[26.0, 0.0011871828, 1.0, 0.031083684, 0.9901999]\n",
      "[27.0, 0.00081226224, 1.0, 0.03142003, 0.9908]\n",
      "[28.0, 0.0021098189, 1.0, 0.030311918, 0.99039996]\n",
      "[29.0, 0.0014571331, 1.0, 0.030528199, 0.991]\n",
      "[30.0, 0.0016682192, 1.0, 0.030099735, 0.9908]\n",
      "\n",
      " Computing the test accuracy ...   Done !!! \n"
     ]
    }
   ],
   "source": [
    "history_post_bn, test_accu_post_bn, test_loss_post_bn = train_test()"
   ]
  },
  {
   "cell_type": "code",
   "execution_count": 24,
   "metadata": {},
   "outputs": [
    {
     "name": "stdout",
     "output_type": "stream",
     "text": [
      " <<< Post-activation Batch Normalization >>> :\n",
      " [ Test  Accuracy ] : 0.9919999837875366\n",
      " [ Test Loss Score ] : 0.0247451514005661\n",
      " << With Batch Normalization >> :\n",
      " [ Test  Accuracy ] : 0.9902999997138977\n",
      " [ Test Loss Score ] : 0.029896069318056107\n",
      "\n",
      " < Without Batch Normalization > :\n",
      " [ Test  Accuracy ] : 0.9874000549316406\n",
      " [ Test Loss Score ] : 0.03655169531702995\n"
     ]
    }
   ],
   "source": [
    "print(\" <<< Post-activation Batch Normalization >>> :\")\n",
    "print(\" [ Test  Accuracy ] : {}\".format(test_accu_post_bn) +\n",
    "      \"\\n [ Test Loss Score ] : {}\".format(test_loss_post_bn))\n",
    "\n",
    "print(\" << With Batch Normalization >> :\")\n",
    "print(\" [ Test  Accuracy ] : {}\".format(test_accu_bn) +\n",
    "      \"\\n [ Test Loss Score ] : {}\".format(test_loss_bn))\n",
    "\n",
    "print(\"\\n < Without Batch Normalization > :\")\n",
    "print(\" [ Test  Accuracy ] : {}\".format(test_accu) +\n",
    "      \"\\n [ Test Loss Score ] : {}\".format(test_loss))"
   ]
  },
  {
   "cell_type": "code",
   "execution_count": 25,
   "metadata": {},
   "outputs": [
    {
     "data": {
      "image/png": "[encoded data removed]",
      "text/plain": [
       "<Figure size 432x288 with 1 Axes>"
      ]
     },
     "metadata": {},
     "output_type": "display_data"
    }
   ],
   "source": [
    "plt.clf()   # clear figure\n",
    "\n",
    "steps = np.arange(1, len(history) + 1)\n",
    "\n",
    "# \"bo\" is for \"blue dot\"\n",
    "plt.plot(steps, [history_post_bn[i][1] for i in range(len(history))], \n",
    "         'bo', label='Training loss')\n",
    "# b is for \"solid blue line\"\n",
    "plt.plot(steps, [history_post_bn[i][3] for i in range(len(history))], \n",
    "         'b', label='Validation loss')\n",
    "plt.title('Training and validation loss')\n",
    "plt.xlabel('Steps')\n",
    "plt.ylabel('Loss')\n",
    "step_5 = np.arange(0, len(history) + 1, step=5)\n",
    "plt.xticks(step_5)\n",
    "plt.grid(color='grey', linestyle='--', linewidth=0.5)\n",
    "plt.legend()\n",
    "\n",
    "plt.show()"
   ]
  },
  {
   "cell_type": "code",
   "execution_count": 26,
   "metadata": {},
   "outputs": [
    {
     "data": {
      "image/png": "[encoded data removed]",
      "text/plain": [
       "<Figure size 432x288 with 1 Axes>"
      ]
     },
     "metadata": {},
     "output_type": "display_data"
    }
   ],
   "source": [
    "plt.clf()   # clear figure\n",
    "\n",
    "plt.plot(steps, [history_post_bn[i][2] for i in range(len(history))], \n",
    "         'bo', label='Training acc')\n",
    "plt.plot(steps, [history_post_bn[i][4] for i in range(len(history))], \n",
    "         'b', label='Validation acc')\n",
    "plt.title('Training and validation accuracy')\n",
    "plt.xlabel('Steps')\n",
    "plt.ylabel('Accuracy')\n",
    "step_5 = np.arange(0, len(history) + 1, step=5)\n",
    "plt.xticks(step_5)\n",
    "plt.grid(color='grey', linestyle='--', linewidth=0.5)\n",
    "plt.legend()\n",
    "\n",
    "plt.show()"
   ]
  },
  {
   "cell_type": "markdown",
   "metadata": {},
   "source": [
    "## Evaluation"
   ]
  },
  {
   "cell_type": "code",
   "execution_count": 27,
   "metadata": {},
   "outputs": [
    {
     "name": "stdout",
     "output_type": "stream",
     "text": [
      "Populating the interactive namespace from numpy and matplotlib\n"
     ]
    }
   ],
   "source": [
    "%pylab inline\n",
    "import seaborn as sns"
   ]
  },
  {
   "cell_type": "code",
   "execution_count": 28,
   "metadata": {},
   "outputs": [],
   "source": [
    "history = np.array(history)\n",
    "history_bn = np.array(history_bn)\n",
    "history_post_bn = np.array(history_post_bn)"
   ]
  },
  {
   "cell_type": "code",
   "execution_count": 29,
   "metadata": {},
   "outputs": [
    {
     "data": {
      "image/png": "[encoded data removed]",
      "text/plain": [
       "<Figure size 432x288 with 1 Axes>"
      ]
     },
     "metadata": {},
     "output_type": "display_data"
    }
   ],
   "source": [
    "plt.plot(history[:, 0], history[:, -1], label='val_acc')\n",
    "plt.plot(history_bn[:, 0], history_bn[:, -1], label='val_acc_bn')\n",
    "plt.plot(history_post_bn[:, 0], history_post_bn[:, -1], label='val_acc_post_bn')\n",
    "plt.legend()\n",
    "plt.show()"
   ]
  },
  {
   "cell_type": "code",
   "execution_count": 30,
   "metadata": {},
   "outputs": [
    {
     "data": {
      "image/png": "[encoded data removed]",
      "text/plain": [
       "<Figure size 432x288 with 1 Axes>"
      ]
     },
     "metadata": {},
     "output_type": "display_data"
    }
   ],
   "source": [
    "plt.clf()   # clear figure\n",
    "\n",
    "plt.plot(history[:, 0], history[:, -2], label='val_loss')\n",
    "plt.plot(history_bn[:, 0], history_bn[:, -2], label='val_loss_bn')\n",
    "plt.plot(history_post_bn[:, 0], history_post_bn[:, -2], label='val_loss_post_bn')\n",
    "plt.legend()\n",
    "plt.show()"
   ]
  },
  {
   "cell_type": "markdown",
   "metadata": {},
   "source": [
    "+ ### As you can see, batch normalization really does help with training (not always, but it certainly did in this example)."
   ]
  },
  {
   "cell_type": "markdown",
   "metadata": {},
   "source": [
    "--------------------------------------\n",
    "<a id='BNforCIFAR10'></a>\n",
    "## < Exercise > : Batch_Norm for CIFAR-10 Datasets "
   ]
  },
  {
   "cell_type": "markdown",
   "metadata": {},
   "source": [
    "## [ Problem ]: \n",
    "> 1. Please modify the Case-Study TensorFlow code above for building a multiple-output classifier with the **CIFAR-10** dataset, which includes \"Convolution Layers\" & \"MaxPooling Layers\", as following:\n",
    "    + **Conv Layer 1**\n",
    "    + **MaxPool Layer 1**\n",
    "    + **Conv Layer 2**\n",
    "    + **MaxPool Layer 2**\n",
    "    + **Hidden Layer** \n",
    "    + **Output Layer**\n",
    "    \n",
    "> 2. Using Batch Normalization by applying `tf.contrib.layers.batch_norm()` to `tf.contrib.layers.conv2d()`. \n",
    "\n",
    "> 3. And then, compare the results with those in the reference below:\n",
    "    + Tom Hope, Yehezkel S. Resheff, and Itay Lieder, \"**`Learning TensorFlow : A Guide to Building Deep Learning Systems`**\", Chapter 4, O'Reilly, 2017.\n",
    "      [ Code ] : https://github.com/giser-yugang/Learning_TensorFlow."
   ]
  },
  {
   "cell_type": "markdown",
   "metadata": {},
   "source": [
    "[ REFERENCE ] :\n",
    "+ dhwajraj, \"How I can apply batch normalization?\", 2016/12/07. https://github.com/dennybritz/cnn-text-classification-tf/issues/29\n",
    "+ `tf.contrib.layers.conv2d`:https://www.tensorflow.org/api_docs/python/tf/contrib/layers/conv2d\n",
    "\n",
    "> conv1 = `tf.contrib.layers.conv2d(...,\n",
    "                                  normalizer_fn = tf.contrib.layers.batch_norm, \n",
    "                                  ...)`\n",
    "\n",
    "> conv_out = `tf.nn.relu(conv1)`"
   ]
  },
  {
   "cell_type": "code",
   "execution_count": null,
   "metadata": {},
   "outputs": [],
   "source": []
  }
 ],
 "metadata": {
  "kernelspec": {
   "display_name": "Python 3",
   "language": "python",
   "name": "python3"
  },
  "language_info": {
   "codemirror_mode": {
    "name": "ipython",
    "version": 3
   },
   "file_extension": ".py",
   "mimetype": "text/x-python",
   "name": "python",
   "nbconvert_exporter": "python",
   "pygments_lexer": "ipython3",
   "version": "3.6.5"
  }
 },
 "nbformat": 4,
 "nbformat_minor": 2
}
