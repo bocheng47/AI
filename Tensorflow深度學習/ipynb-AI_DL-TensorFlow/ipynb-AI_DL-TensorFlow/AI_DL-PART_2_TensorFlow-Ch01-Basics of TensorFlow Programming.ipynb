{
 "cells": [
  {
   "cell_type": "markdown",
   "metadata": {},
   "source": [
    "# PART 2 TensorFlow\n",
    "# 1. TensorFlow 程式設計基礎\n",
    "####  C. Alex Hu "
   ]
  },
  {
   "cell_type": "markdown",
   "metadata": {},
   "source": [
    "\n",
    "## Import TensorFlow & run a version check..."
   ]
  },
  {
   "cell_type": "code",
   "execution_count": 1,
   "metadata": {},
   "outputs": [
    {
     "name": "stdout",
     "output_type": "stream",
     "text": [
      "1.13.1\n"
     ]
    }
   ],
   "source": [
    "import tensorflow as tf\n",
    "print(tf.__version__)"
   ]
  },
  {
   "cell_type": "markdown",
   "metadata": {},
   "source": [
    "##  1. Build a graph...\n",
    "> ###  **tf.constant** \n",
    "`tf.constant(\n",
    "    value,\n",
    "    dtype=None,\n",
    "    shape=None,\n",
    "    name='Const',\n",
    "    verify_shape=False_\n",
    ")`\n",
    "+ Creates a constant tensor.\n",
    "+ The resulting tensor is populated with values of type _dtype_, as specified by arguments _value_ and (optionally) _shape_ (see examples below).\n",
    "+  https://www.tensorflow.org/api_docs/python/tf/constant"
   ]
  },
  {
   "cell_type": "code",
   "execution_count": 2,
   "metadata": {},
   "outputs": [],
   "source": [
    "# Build a graph...\n",
    "h  = tf.constant(\"Hello\")\n",
    "TF = tf.constant(\"TensorFlow!\")\n",
    "hTF = h + ' ' + TF\n",
    "\n",
    "# Constant 1-D Tensor populated with value list.\n",
    "fibo = tf.constant([1, 1, 2, 3, 5, 8, 13, 21]) \n",
    "\n",
    "# Constant 2-D tensor populated with scalar value 1.0.\n",
    "# tensor = data\n",
    "allOneMatrix = tf.constant(1.0, shape=[3, 3]) "
   ]
  },
  {
   "cell_type": "markdown",
   "metadata": {},
   "source": [
    "## 2. Launch the graph in a session...\n",
    "> ###  **tf.Session** \n",
    "+ Class **Session** - A class for running TensorFlow operations.\n",
    "https://www.tensorflow.org/api_docs/python/tf/Session\n",
    "+ Defined in `tensorflow/python/client/session.py` :\n",
    "    + https://github.com/tensorflow/tensorflow/blob/r1.10/tensorflow/python/client/session.py \n",
    "+ See the guides: Running Graphs > Session management, Running Graphs \n",
    "    +  https://www.tensorflow.org/api_guides/python/client\n",
    "    \n",
    "+ A *Session* object encapsulates the environment in which *Operation* objects are executed, and *Tensor* objects are evaluated.\n",
    "+ A session may own resources, such as **tf.Variable**, **tf.QueueBase**, and **tf.ReaderBase**. It is important to release these resources when they are no longer required. \n",
    "+ To do this, either invoke the **tf.Session.close** method on the session, or use the session as a context manager."
   ]
  },
  {
   "cell_type": "markdown",
   "metadata": {},
   "source": [
    "### < Example 1 > Using the `close()` method."
   ]
  },
  {
   "cell_type": "code",
   "execution_count": 3,
   "metadata": {},
   "outputs": [
    {
     "name": "stdout",
     "output_type": "stream",
     "text": [
      "b'Hello TensorFlow!'\n",
      "\n",
      "Fibonacci numbers =  [ 1  1  2  3  5  8 13 21]\n",
      "\n",
      "All-one 2D Tensor : \n",
      " [[1. 1. 1.]\n",
      " [1. 1. 1.]\n",
      " [1. 1. 1.]]\n"
     ]
    }
   ],
   "source": [
    "##  < Example 1 > Using the `close()` method.\n",
    "##\n",
    "# Launch the graph in a session.\n",
    "sess = tf.Session()\n",
    "\n",
    "# Evaluate the tensor `c`.\n",
    "print(sess.run(hTF), end='\\n\\n')\n",
    "# 'Hello World' <= String Label (字串長值) 透過 Unicode 編碼\n",
    "# b'Hello World' <= Byte Literal 透過 ASCII 編碼\n",
    "print('Fibonacci numbers = ', sess.run(fibo), end='\\n\\n')\n",
    "print('All-one 2D Tensor : \\n', sess.run(allOneMatrix))\n",
    "\n",
    "# Using the `close()` method.\n",
    "sess.close()"
   ]
  },
  {
   "cell_type": "markdown",
   "metadata": {},
   "source": [
    "###  < Example 2 > Using the context manager."
   ]
  },
  {
   "cell_type": "code",
   "execution_count": 4,
   "metadata": {},
   "outputs": [
    {
     "name": "stdout",
     "output_type": "stream",
     "text": [
      "b'Hello TensorFlow!'\n",
      "\n",
      "Fibonacci numbers = [ 1  1  2  3  5  8 13 21]\n",
      "\n",
      "All-One 3D Tensor : \n",
      " [[1. 1. 1.]\n",
      " [1. 1. 1.]\n",
      " [1. 1. 1.]]\n"
     ]
    }
   ],
   "source": [
    "##  < Example 2 > Using the context manager.\n",
    "##\n",
    "# Launch the graph in another session by using the 'context manager'(with ... as ...).\n",
    "# with ... as ... 的好處: 不用再Session()、close()\n",
    "with tf.Session() as sess:\n",
    "    azm = sess.run(allOneMatrix)\n",
    "    print(sess.run(hTF), end='\\n\\n')\n",
    "    print('Fibonacci numbers = ', end='')\n",
    "    print(sess.run(fibo), end='\\n\\n')\n",
    "    \n",
    "print('All-One 3D Tensor : \\n', azm)"
   ]
  },
  {
   "cell_type": "markdown",
   "metadata": {},
   "source": [
    "+ ###  Outputs in TensorFlow..."
   ]
  },
  {
   "cell_type": "code",
   "execution_count": 5,
   "metadata": {},
   "outputs": [
    {
     "name": "stdout",
     "output_type": "stream",
     "text": [
      "Tensor(\"add_1:0\", shape=(), dtype=string)\n"
     ]
    }
   ],
   "source": [
    "print(hTF)  #  Output in TensorFlow\n",
    "# add_1:0 代表在做加法運算"
   ]
  },
  {
   "cell_type": "code",
   "execution_count": 6,
   "metadata": {},
   "outputs": [
    {
     "name": "stdout",
     "output_type": "stream",
     "text": [
      "Tensor(\"Const_3:0\", shape=(3, 3), dtype=float32)\n"
     ]
    }
   ],
   "source": [
    "print(allOneMatrix)  #  Output in TensorFlow\n",
    "# Const_3.0 代表 index = 3 的const (0:h, 1:tf, 2:fibo)"
   ]
  },
  {
   "cell_type": "code",
   "execution_count": 7,
   "metadata": {},
   "outputs": [
    {
     "name": "stdout",
     "output_type": "stream",
     "text": [
      "Tensor(\"Const_2:0\", shape=(8,), dtype=int32)\n"
     ]
    }
   ],
   "source": [
    "print(fibo)  #  Output in TensorFlow"
   ]
  },
  {
   "cell_type": "markdown",
   "metadata": {},
   "source": [
    "> ###  `run` method\n",
    "`run(\n",
    "    fetches,\n",
    "    feed_dict=None,\n",
    "    options=None,\n",
    "    run_metadata=None\n",
    ")`\n",
    "+ Runs operations and evaluates tensors in `fetches`.\n",
    "+ The `fetches` argument may be a single graph element, or an arbitrarily nested list, tuple, namedtuple, dict, or OrderedDict containing graph elements at its leaves. \n",
    "+ Ref : https://www.tensorflow.org/api_docs/python/tf/Session\n",
    "\n",
    "+ ### The session object may call the `run` mehod to act as an interface to run parts of the computation graph externally. For example :"
   ]
  },
  {
   "cell_type": "code",
   "execution_count": 8,
   "metadata": {},
   "outputs": [
    {
     "name": "stdout",
     "output_type": "stream",
     "text": [
      "[ 1  1  2  3  5  8 13 21]\n"
     ]
    }
   ],
   "source": [
    "with tf.Session() as sess:\n",
    "    fibo_num = sess.run(fibo)\n",
    "    \n",
    "print(fibo_num)"
   ]
  },
  {
   "cell_type": "code",
   "execution_count": 9,
   "metadata": {},
   "outputs": [
    {
     "name": "stdout",
     "output_type": "stream",
     "text": [
      "b'S'\n",
      "\n",
      "[10 20]\n",
      "\n",
      "[array([10, 20]), array([1., 2.], dtype=float32)]\n",
      "\n",
      "{'k1': MyData(a=array([10, 20]), b=array([1., 2.], dtype=float32)), 'k2': [array([1., 2.], dtype=float32), array([10, 20])]}\n",
      "\n",
      "{'k1': MyData(a=array([10, 20]), b=array([1., 2.], dtype=float32)), 'k2': [array([1., 2.], dtype=float32), array([10, 20])]}\n"
     ]
    }
   ],
   "source": [
    "import collections\n",
    "MyData = collections.namedtuple('MyData', ['a', 'b'])\n",
    "    \n",
    "with tf.Session() as sess:\n",
    "    s = tf.constant('S')\n",
    "    a = tf.constant([10, 20])\n",
    "    b = tf.constant([1.0, 2.0])\n",
    "    v = sess.run(s)       # 'fetches' can be a singleton\n",
    "    print(v, end='\\n\\n')\n",
    "    v = sess.run(a)       # v is the numpy array [10, 20] => 'fetches' can be a list.\n",
    "    print(v, end='\\n\\n')\n",
    "    v = sess.run([a, b])  # v is a Python list with 2 numpy arrays: the 1-D array [10, 20] and the 1-D array [1.0, 2.0]\n",
    "    print(v, end='\\n\\n')\n",
    "\n",
    "   # 'fetches' can be arbitrary lists, tuples, namedtuple, dicts:\n",
    "    v = sess.run({'k1': MyData(a, b), 'k2': [b, a]})\n",
    "    print(v, end='\\n\\n')\n",
    "   # v is a dict with\n",
    "   # v['k1'] is a MyData namedtuple with 'a' (the numpy array [10, 20]) and\n",
    "   # 'b' (the numpy array [1.0, 2.0])\n",
    "   # v['k2'] is a list with the numpy array [1.0, 2.0] and the numpy array\n",
    "   # [10, 20].\n",
    "\n",
    "print(v)"
   ]
  },
  {
   "cell_type": "markdown",
   "metadata": {
    "collapsed": true
   },
   "source": [
    "## 3. Create placeholders & variables ... (類似C、Java中的new)\n",
    "> ###  **tf.placeholder** \n",
    "`tf.placeholder(\n",
    "    dtype,\n",
    "    shape=None,\n",
    "    name=None\n",
    ")`\n",
    "+ Inserts a placeholder for a tensor that will be always fed.\n",
    "+ Defined in `tensorflow/python/ops/array_ops.py` :\n",
    "    + https://github.com/tensorflow/tensorflow/blob/r1.10/tensorflow/python/ops/array_ops.py \n",
    "+ See the guides: Inputs and Readers > Placeholders\n",
    "    +  https://www.tensorflow.org/api_guides/python/io_ops#Placeholders\n",
    "    \n",
    "+ NOTE : This tensor will produce an error if evaluated. Its value must be fed using the `feed_dict` optional argument to `Session.run()`, `Tensor.eval()`, or `Operation.run()`."
   ]
  },
  {
   "cell_type": "code",
   "execution_count": 10,
   "metadata": {},
   "outputs": [
    {
     "name": "stdout",
     "output_type": "stream",
     "text": [
      "[[263.78622 265.2841  253.18721 ... 264.1688  255.3072  259.4159 ]\n",
      " [252.49799 256.13177 246.79407 ... 253.31087 248.53468 249.79062]\n",
      " [255.51581 263.17804 254.0418  ... 266.70715 260.73618 261.33502]\n",
      " ...\n",
      " [259.16977 257.5595  255.40067 ... 261.4701  254.71327 258.3849 ]\n",
      " [246.40298 257.09607 243.44524 ... 258.16495 246.83916 251.78146]\n",
      " [242.87744 249.54826 243.93256 ... 252.44252 246.14745 244.75945]]\n"
     ]
    }
   ],
   "source": [
    "# Build a graph...\n",
    "import numpy as np\n",
    "x = tf.placeholder(tf.float32, shape=(1024, 1024))\n",
    "y = tf.matmul(x, x) # matrix multiply 矩陣運算\n",
    "# 還沒運算，有RUN才運算\n",
    "\n",
    "# Launch the built graph in a session...\n",
    "with tf.Session() as sess:\n",
    "  ## print(sess.run(y))  # ERROR: will fail because x was not fed.\n",
    "\n",
    "  rand_array = np.random.rand(1024, 1024)\n",
    "  print(sess.run(y, feed_dict={x: rand_array}))  # Will succeed.\n",
    "  # 將 rand_array 餵給 X"
   ]
  },
  {
   "cell_type": "markdown",
   "metadata": {},
   "source": [
    "> ###  **tf.Variable** \n",
    "+ Class **Variable** \n",
    "https://www.tensorflow.org/api_docs/python/tf/Variable\n",
    "+ Defined in `tensorflow/python/ops/variables.py` :\n",
    "    + https://github.com/tensorflow/tensorflow/blob/r1.10/tensorflow/python/ops/variables.py \n",
    "+ See the guides: Variables > Variables \n",
    "    +  https://www.tensorflow.org/api_guides/python/state_ops#Variables\n",
    "    \n",
    "+ A variable maintains state in the graph across calls to **`run()`** method. You add a variable to the graph by constructing an instance of the class Variable.\n",
    "\n",
    "+ The **`Variable()`** constructor requires an initial value for the variable, which can be a `Tensor` of any type and shape. "
   ]
  },
  {
   "cell_type": "code",
   "execution_count": 11,
   "metadata": {},
   "outputs": [
    {
     "name": "stdout",
     "output_type": "stream",
     "text": [
      "WARNING:tensorflow:From C:\\Users\\BoCheng\\AppData\\Roaming\\Python\\Python37\\site-packages\\tensorflow\\python\\framework\\op_def_library.py:263: colocate_with (from tensorflow.python.framework.ops) is deprecated and will be removed in a future version.\n",
      "Instructions for updating:\n",
      "Colocations handled automatically by placer.\n",
      " w : \n",
      " [[-0.8113182   1.4845988   0.06532937]\n",
      " [-2.4427042   0.0992484   0.5912243 ]]\n",
      " x =  [[0.35 0.8 ]]\n",
      "\n",
      " a = w * x =   [[-2.2381248   0.5990083   0.49584475]]\n",
      "\t b =   [[-0.8113182   1.4845988   0.06532937]]\n",
      "\n",
      " z = w*x + b =  [[-3.049443    2.0836072   0.56117415]]\n",
      "\n",
      " y = Sigmoid(z) =  [[0.04524153 0.88929963 0.6367242 ]]\n"
     ]
    }
   ],
   "source": [
    "# Build a graph...\n",
    "# Create two variables.\n",
    "w = tf.Variable(tf.random_normal([2, 3], stddev=1, seed=1))\n",
    "b = tf.Variable(tf.random_normal([1, 3], stddev=1, seed=1))\n",
    "\n",
    "# Generate a placeholder.\n",
    "x = tf.placeholder(tf.float32, shape=(None, 2), name='input')\n",
    "# None 代表未知的 row 數，取決於餵進來的 Data 數\n",
    "\n",
    "# Use the variables in the graph like any Tensor.\n",
    "a = tf.matmul(x, w)              #  tf.matmul(x, w)  =>  a = x * w  :  matrix multiplication\n",
    "z = tf.add(a, b)                 #  tf.add(a, b)  =>  a + b\n",
    "y = tf.sigmoid(z)                #  Computing Sigmoid Function... \n",
    "d = tf.constant([[0.35, 0.8]])   #  a 2d tensor for x : 1x2\n",
    "\n",
    "# Launch the built graph in a session...\n",
    "with tf.Session() as sess:\n",
    "    # 將定義成 variable 的 data 初始化\n",
    "    sess.run(w.initializer)\n",
    "    sess.run(b.initializer)\n",
    "    print(' w : \\n', sess.run(w))\n",
    "    print(' x = ', sess.run(d))\n",
    "    print('\\n a = w * x =  ', sess.run(a, feed_dict={x: sess.run(d)}))\n",
    "    # 不可 feed_dict={x: d}\n",
    "    print('\\t b =  ', sess.run(b))\n",
    "    zi = sess.run(z, feed_dict={x: sess.run(d)})\n",
    "    print('\\n z = w*x + b = ', zi)\n",
    "    print('\\n y = Sigmoid(z) = ', sess.run(y, feed_dict={x: sess.run(d)}))"
   ]
  },
  {
   "cell_type": "markdown",
   "metadata": {},
   "source": [
    "> ###  Q :  How to check if the answer above is correct or not?\n",
    "[ Hint ] : \n",
    "+ `from math import exp`\n",
    "+ #### Sigmoid Function :\n",
    "    + #### $ \\sigma(z) = 1\\ /\\ [1+exp(-z)] $"
   ]
  },
  {
   "cell_type": "code",
   "execution_count": 12,
   "metadata": {},
   "outputs": [
    {
     "data": {
      "text/plain": [
       "[array([0.04524153, 0.88929963, 0.6367242 ], dtype=float32)]"
      ]
     },
     "execution_count": 12,
     "metadata": {},
     "output_type": "execute_result"
    }
   ],
   "source": [
    "import numpy as np\n",
    "sig = [1.0 / (1 + np.exp(-i)) for i in zi]    \n",
    "sig"
   ]
  },
  {
   "cell_type": "markdown",
   "metadata": {},
   "source": [
    "--------------------\n",
    "## [ Further Reading about Computing Graph ] - `Tensor-Flow`...\n",
    "+ Tom Hope, Yehezkel S. Resheff, and Itay Lieder, \"Learning TensorFlow : A Guide to Building Deep Learning Systems,\" Chapter 2, O'Reilly, 2017.\n",
    "\n",
    "--------------------"
   ]
  },
  {
   "cell_type": "markdown",
   "metadata": {},
   "source": [
    "  \n",
    "##  [ Project ] : Hand-written Digits Recognition  -  `MNIST` dataset\n",
    "#### Reference :  \n",
    "+ Tom Hope, Yehezkel S. Resheff, and Itay Lieder, \"**Learning TensorFlow : A Guide to Building Deep Learning Systems**,\" Chapter 2, Example 2-2, O'Reilly, 2017. https://goo.gl/iEmehh\n",
    "+ Download the code from GitHub : https://github.com/gigwegbe/Learning-TensorFlow"
   ]
  },
  {
   "cell_type": "code",
   "execution_count": 13,
   "metadata": {},
   "outputs": [],
   "source": [
    "# Load tensorflow package\n",
    "import tensorflow as tf\n",
    "# for the old-version usage of TensorFlow, such as tensorflow.examples.tutorials.mnist\n",
    "# 忽略警告訊息\n",
    "old_v = tf.logging.get_verbosity()          \n",
    "tf.logging.set_verbosity(tf.logging.ERROR)     \n",
    "\n",
    "#import MNIST dataset \n",
    "from tensorflow.examples.tutorials.mnist import input_data"
   ]
  },
  {
   "cell_type": "markdown",
   "metadata": {},
   "source": [
    "### Loading the MNIST datasets\n",
    "\n",
    "> + The second argument, **`one_hot=True`**, shows the data to be labeled with **one-hot encoding**."
   ]
  },
  {
   "cell_type": "code",
   "execution_count": 14,
   "metadata": {},
   "outputs": [
    {
     "name": "stdout",
     "output_type": "stream",
     "text": [
      "Extracting ./data\\train-images-idx3-ubyte.gz\n",
      "Extracting ./data\\train-labels-idx1-ubyte.gz\n",
      "Extracting ./data\\t10k-images-idx3-ubyte.gz\n",
      "Extracting ./data\\t10k-labels-idx1-ubyte.gz\n"
     ]
    }
   ],
   "source": [
    "DATA_DIR = \"./data\"\n",
    "mnist = input_data.read_data_sets(DATA_DIR, one_hot=True)"
   ]
  },
  {
   "cell_type": "markdown",
   "metadata": {},
   "source": [
    "> + Checking the dataset..."
   ]
  },
  {
   "cell_type": "code",
   "execution_count": 15,
   "metadata": {},
   "outputs": [
    {
     "name": "stdout",
     "output_type": "stream",
     "text": [
      " mnist.train.images.shape :\t  (55000, 784)\n",
      " mnist.train.labels.shape :\t  (55000, 10)\n",
      " mnist.validation.images.shape :  (5000, 784)\n",
      " mnist.validation.labels.shape :  (5000, 10)\n",
      " mnist.test.images.shape :\t  (10000, 784)\n",
      " mnist.test.labels.shape :\t  (10000, 10)\n"
     ]
    }
   ],
   "source": [
    "print(\" mnist.train.images.shape :\\t \", mnist.train.images.shape)\n",
    "print(\" mnist.train.labels.shape :\\t \", mnist.train.labels.shape)\n",
    "print(\" mnist.validation.images.shape : \", mnist.validation.images.shape)\n",
    "print(\" mnist.validation.labels.shape : \", mnist.validation.labels.shape)\n",
    "print(\" mnist.test.images.shape :\\t \", mnist.test.images.shape)\n",
    "print(\" mnist.test.labels.shape :\\t \", mnist.test.labels.shape)\n",
    "\n",
    "# 將 70000 筆拆成 train:55000、Validation:5000、Test:10000\n",
    "# train完後會做validation"
   ]
  },
  {
   "cell_type": "code",
   "execution_count": 16,
   "metadata": {},
   "outputs": [
    {
     "name": "stdout",
     "output_type": "stream",
     "text": [
      "mnist.train.images[0] : \n",
      "  min =  0.0  max =  0.9960785\n"
     ]
    }
   ],
   "source": [
    "print('mnist.train.images[0] : \\n', \\\n",
    "      ' min = ', min(mnist.train.images[0]), \\\n",
    "      ' max = ', max(mnist.train.images[0]))"
   ]
  },
  {
   "cell_type": "code",
   "execution_count": 17,
   "metadata": {},
   "outputs": [
    {
     "data": {
      "text/plain": [
       "array([0., 0., 0., 0., 0., 0., 0., 1., 0., 0.])"
      ]
     },
     "execution_count": 17,
     "metadata": {},
     "output_type": "execute_result"
    }
   ],
   "source": [
    "mnist.train.labels[0]"
   ]
  },
  {
   "cell_type": "markdown",
   "metadata": {},
   "source": [
    "### Setting the parameters"
   ]
  },
  {
   "cell_type": "code",
   "execution_count": 21,
   "metadata": {},
   "outputs": [],
   "source": [
    "# Initializing some parameters...\n",
    "# Hyperparameters\n",
    "Learning_Rate = 0.5\n",
    "NUM_STEPS = 1000\n",
    "MINIBATCH_SIZE = 128\n",
    "# total data = 1000*128 = 128,000 但 run 的時候是 55,000 筆資料在跑，相當於 run 128,000/55,000 = 2.3個 epoch\n",
    "Display_Step = 100\n",
    "# 每跑100次輸出一次，確認程式正在執行中、確認目前狀態\n",
    " \n",
    "# Network Parameters\n",
    "Node_hidden_1 = 256   # Number of Neurons in Hidden layer 1 \n",
    "Node_hidden_2 = 128   # Number of Neurons in Hidden layer 2\n",
    "Node_Inputs = 784     # Number of MNIST data input (Each image shape: 28*28 pixels)\n",
    "Node_Outputs = 10     # Number of output classes (digits 0 ~ 9)"
   ]
  },
  {
   "cell_type": "markdown",
   "metadata": {},
   "source": [
    "## Building a graph...\n",
    "\n",
    "### < Forward Propagation >\n",
    ">+ The image, **X** : a placeholder, supplied when running the computation graph. \n",
    "+ The size **[None, 784]** : \n",
    "    + **784** (= 28x28 pixels) is the size of each image, \n",
    "    + **None** means not currently specifying the number of these images used each time."
   ]
  },
  {
   "cell_type": "code",
   "execution_count": 22,
   "metadata": {},
   "outputs": [],
   "source": [
    "# Each Input Image, X, with 28*28 (= 784) pixels 為 2D tensor (由.shape得知)\n",
    "X = tf.placeholder(tf.float32, [None, Node_Inputs]) # Node_Inputs = 784\n",
    "\n",
    "# y_true : the training labeled dataset \n",
    "y_true = tf.placeholder(tf.float32,[None, Node_Outputs]) # Node_Outputs = 10"
   ]
  },
  {
   "cell_type": "code",
   "execution_count": 23,
   "metadata": {},
   "outputs": [],
   "source": [
    "# Initializing Weights & Biases for Nodes in All Hidden Layers \n",
    "def weight_variable(shape):\n",
    "    \"\"\" This specifies the weights for either fully connected or convolutional layers \n",
    "       of the network. They are initialized randomly using a truncated normal distribution \n",
    "       with a standard deviation of .1. \"\"\"\n",
    "    initial = tf.truncated_normal(shape, stddev=0.1) \n",
    "    return tf.Variable(initial)\n",
    "\n",
    "def bias_variable(shape):\n",
    "    \"\"\" This defines the bias elements in either a fully connected or a convolutional layer. \n",
    "        These are all initialized with the constant value of .1. \"\"\"\n",
    "    initial = tf.constant(0.1, shape=shape) \n",
    "    return tf.Variable(initial)"
   ]
  },
  {
   "cell_type": "markdown",
   "metadata": {},
   "source": [
    "> + **Building a Fully-Connected Deep Network with 2 Hidden Layers**\n",
    "    + Model Outputs for Prediction without Activation-Function Processing"
   ]
  },
  {
   "cell_type": "code",
   "execution_count": 24,
   "metadata": {},
   "outputs": [],
   "source": [
    "# Building a Fully-Connected Deep Network\n",
    "def full_layer(inputs, size):\n",
    "    in_size = int(inputs.get_shape()[1]) \n",
    "    W = weight_variable([in_size, size]) \n",
    "    b = bias_variable([size])\n",
    "    return tf.add(tf.matmul(inputs, W), b)"
   ]
  },
  {
   "cell_type": "code",
   "execution_count": 25,
   "metadata": {},
   "outputs": [],
   "source": [
    "##  Dropout for regularization in order to prevent overfitting...\n",
    "##  [ The parameter 'keep_prob' ] :  \n",
    "##     - is the fraction of the neurons to keep working at each step\n",
    "##     - if 'keep_prob' = 1.0, it means no dropout at all.\n",
    "\n",
    "keep_prob = tf.placeholder(tf.float32)  \n",
    "\n",
    "# < Hidden Layer 1 >\n",
    "layer_1_drop = tf.nn.dropout(X, keep_prob=keep_prob)\n",
    "#   Activation Function : ReLU\n",
    "layer_1_Outputs = tf.nn.relu(full_layer(layer_1_drop, Node_hidden_1))\n",
    "\n",
    "# < Hidden Layer 2 >\n",
    "layer_2_drop = tf.nn.dropout(layer_1_Outputs, keep_prob=keep_prob)\n",
    "#   Activation Function : ReLU\n",
    "layer_2_Outputs = tf.nn.relu(full_layer(layer_2_drop, Node_hidden_2))  \n",
    "\n",
    "# < Output Layer >\n",
    "output_drop = tf.nn.dropout(layer_2_Outputs, keep_prob=keep_prob)\n",
    "# Without Activation Function\n",
    "y_pred = full_layer(output_drop, Node_Outputs)  "
   ]
  },
  {
   "cell_type": "markdown",
   "metadata": {},
   "source": [
    "### < Back-propagation >\n",
    "> + Activation Function for **`Model-Output Prediction`** : **Softmax** \n",
    "    + `tf.nn.softmax_cross_entropy_with_logits(logits=y_pred, labels=y_true)`\n",
    "+ Loss function : **Cross entropy with logits**\n",
    "+ Optimizer : **Gradient Descent** with the method **`minimize()`**\n",
    "    + [ Note ] : 0.5 is the learning rate\n",
    "+ Computing the **Accuracy Score**"
   ]
  },
  {
   "cell_type": "code",
   "execution_count": 26,
   "metadata": {},
   "outputs": [],
   "source": [
    "# Computing the loss scores with Categorical Cross Entropy \n",
    "cross_entropy = tf.reduce_mean(tf.nn.softmax_cross_entropy_with_logits(logits=y_pred, labels=y_true))\n",
    "# softmax_cross_entropy_with_logits 在做 => 各自Data計算 -ylogy - (1-y)log(1-y)\n",
    "# reduce mean => 1/N * (各自 Data 的 softmax_cross_entropy_with_logits 加總)\n",
    "\n",
    "# Gradient Descent Optimizer with Learning_Rate = 0.5\n",
    "gd_step = tf.train.GradientDescentOptimizer(Learning_Rate).minimize(cross_entropy)\n",
    "\n",
    "# Computing Accuracy Scores...\n",
    "correct_mask = tf.equal(tf.argmax(y_pred, 1), tf.argmax(y_true, 1))\n",
    "# tf.argmax => 找出最大值所在之 index\n",
    "\n",
    "accuracy = tf.reduce_mean(tf.cast(correct_mask, tf.float32))\n",
    "# cast => 強制轉換 correct_mask 的 布林值型態 為 浮點數型態"
   ]
  },
  {
   "cell_type": "markdown",
   "metadata": {},
   "source": [
    "### Launching the graph..."
   ]
  },
  {
   "cell_type": "code",
   "execution_count": 27,
   "metadata": {},
   "outputs": [
    {
     "name": "stdout",
     "output_type": "stream",
     "text": [
      "Step  100 : Loss = 0.5044, Accuracy = 0.836 ; Val_Loss = 0.5512, Val_Accuracy = 0.837\n",
      "Step  200 : Loss = 0.4144, Accuracy = 0.883 ; Val_Loss = 0.4040, Val_Accuracy = 0.892\n",
      "Step  300 : Loss = 0.3607, Accuracy = 0.875 ; Val_Loss = 0.3747, Val_Accuracy = 0.891\n",
      "Step  400 : Loss = 0.2990, Accuracy = 0.914 ; Val_Loss = 0.3167, Val_Accuracy = 0.906\n",
      "Step  500 : Loss = 0.2270, Accuracy = 0.938 ; Val_Loss = 0.2810, Val_Accuracy = 0.920\n",
      "Step  600 : Loss = 0.2550, Accuracy = 0.922 ; Val_Loss = 0.2421, Val_Accuracy = 0.935\n",
      "Step  700 : Loss = 0.1613, Accuracy = 0.953 ; Val_Loss = 0.2265, Val_Accuracy = 0.937\n",
      "Step  800 : Loss = 0.2777, Accuracy = 0.898 ; Val_Loss = 0.2237, Val_Accuracy = 0.939\n",
      "Step  900 : Loss = 0.1146, Accuracy = 0.984 ; Val_Loss = 0.2100, Val_Accuracy = 0.944\n",
      "Step 1000 : Loss = 0.1527, Accuracy = 0.953 ; Val_Loss = 0.2060, Val_Accuracy = 0.940\n",
      "\n",
      " Computing the test accuracy ...   Done !!! \n"
     ]
    }
   ],
   "source": [
    "with tf.Session() as sess:\n",
    "    \n",
    "    # Training Process...\n",
    "    sess.run(tf.global_variables_initializer())\n",
    "    # 不用一個一個初始化\n",
    "    \n",
    "    # Outputs for the history of training & validation \n",
    "    loss = []\n",
    "    accu = []\n",
    "    val_loss = []\n",
    "    val_accu = []\n",
    "    \n",
    "    ##  mnist.test.validation.shape : (5000, 784)\n",
    "    X_val = mnist.validation.images.reshape(5, 1000, 784)\n",
    "    ##  mnist.test.validation.shape : (5000, 10)\n",
    "    Y_val = mnist.validation.labels.reshape(5, 1000, 10)   \n",
    "\n",
    "    for i in range(NUM_STEPS):\n",
    "        batch_xs, batch_ys = mnist.train.next_batch(MINIBATCH_SIZE)\n",
    "        sess.run(gd_step, feed_dict ={X: batch_xs, \n",
    "                                      y_true: batch_ys,\n",
    "                                      keep_prob: 0.5})\n",
    "        \n",
    "        if (i+1) % Display_Step == 0:\n",
    "            # Calculate batch loss and accuracy\n",
    "            loss_temp, accu_temp = sess.run([cross_entropy, accuracy], \n",
    "                                            feed_dict={X: batch_xs, \n",
    "                                                       y_true: batch_ys,\n",
    "                                                       keep_prob: 1.0})\n",
    "            loss.append(loss_temp)\n",
    "            accu.append(accu_temp)\n",
    "        \n",
    "        # Validating Process...\n",
    "            v_loss, v_accu = 0., 0.\n",
    "            for j in range(5):\n",
    "                v_l, v_a = sess.run([cross_entropy, accuracy], \n",
    "                                            feed_dict={X: X_val[j], \n",
    "                                                       y_true: Y_val[j],\n",
    "                                                       keep_prob: 1.0})\n",
    "                v_loss += v_l \n",
    "                v_accu += v_a\n",
    "            val_loss.append(v_loss/5)\n",
    "            val_accu.append(v_accu/5)\n",
    "\n",
    "            print(\"Step \" + str(i+1).rjust(4) + \\\n",
    "                  \" : Loss = \" + \"{:.4f}\".format(loss_temp) + \\\n",
    "                  \", Accuracy = \" + \"{:.3f}\".format(accu_temp) + \\\n",
    "                  \" ; Val_Loss = \" + \"{:.4f}\".format(v_loss/5) + \\\n",
    "                  \", Val_Accuracy = \" + \"{:.3f}\".format(v_accu/5))\n",
    "\n",
    "    print(\"\\n Computing the test accuracy ... \", end = \" \")\n",
    "    \n",
    "    ##  ------------------------------------------------------------------\n",
    "    ##  Split the test procedure into 10 blocks of 1,000 images each. \n",
    "    ##  Doing this is important mostly for much larger datasets.\n",
    "    ##  ------------------------------------------------------------------\n",
    "    ##  mnist.test.images.shape : (10000, 784)\n",
    "    X_test = mnist.test.images.reshape(10, 1000, 784) \n",
    "    ##  mnist.test.labels.shape : (10000, 10)\n",
    "    Y_test = mnist.test.labels.reshape(10, 1000, 10)   \n",
    "    \n",
    "    test_loss = np.mean([sess.run(cross_entropy,\n",
    "                                  feed_dict={X: X_test[i], \n",
    "                                             y_true: Y_test[i], \n",
    "                                             keep_prob: 1.0}) \n",
    "                                  for i in range(10)])\n",
    "    test_accu = np.mean([sess.run(accuracy,\n",
    "                                  feed_dict={X: X_test[i], \n",
    "                                             y_true: Y_test[i], \n",
    "                                             keep_prob: 1.0}) \n",
    "                                  for i in range(10)])\n",
    "    print(\" Done !!! \")"
   ]
  },
  {
   "cell_type": "code",
   "execution_count": 28,
   "metadata": {},
   "outputs": [
    {
     "name": "stdout",
     "output_type": "stream",
     "text": [
      " [ Test  Accuracy ] : 0.9394000172615051\n",
      " [ Test Loss Score ] : 0.20924611389636993\n"
     ]
    }
   ],
   "source": [
    "print(\" [ Test  Accuracy ] : {}\".format(test_accu) +\n",
    "      \"\\n [ Test Loss Score ] : {}\".format(test_loss))"
   ]
  },
  {
   "cell_type": "code",
   "execution_count": 29,
   "metadata": {},
   "outputs": [
    {
     "data": {
      "image/png": "[encoded data removed]",
      "text/plain": [
       "<Figure size 432x288 with 1 Axes>"
      ]
     },
     "metadata": {
      "needs_background": "light"
     },
     "output_type": "display_data"
    }
   ],
   "source": [
    "import matplotlib.pyplot as plt\n",
    "%matplotlib inline\n",
    "\n",
    "steps = range(1, len(accu) + 1)\n",
    "\n",
    "# \"bo\" is for \"blue dot\"\n",
    "plt.plot(steps, loss, 'bo', label='Training loss')\n",
    "# b is for \"solid blue line\"\n",
    "plt.plot(steps, val_loss, 'b', label='Validation loss')\n",
    "plt.title('Training and validation loss')\n",
    "plt.xlabel('Steps ( x1000 )')\n",
    "plt.ylabel('Loss')\n",
    "plt.xticks(steps)\n",
    "plt.legend()\n",
    "\n",
    "plt.show()"
   ]
  },
  {
   "cell_type": "code",
   "execution_count": 30,
   "metadata": {},
   "outputs": [
    {
     "data": {
      "image/png": "[encoded data removed]",
      "text/plain": [
       "<Figure size 432x288 with 1 Axes>"
      ]
     },
     "metadata": {
      "needs_background": "light"
     },
     "output_type": "display_data"
    }
   ],
   "source": [
    "plt.clf()   # clear figure\n",
    "\n",
    "plt.plot(steps, accu, 'bo', label='Training acc')\n",
    "plt.plot(steps, val_accu, 'b', label='Validation acc')\n",
    "plt.title('Training and validation accuracy')\n",
    "plt.xlabel('Steps ( x1000 )')\n",
    "plt.ylabel('Accuracy')\n",
    "plt.xticks(steps)\n",
    "plt.legend()\n",
    "\n",
    "plt.show()"
   ]
  },
  {
   "cell_type": "markdown",
   "metadata": {},
   "source": [
    "----------------------\n",
    "## *Q : Try to increasing more steps or rerunning the training-and-testing process for the example above. What happens?*\n",
    "----------------------"
   ]
  },
  {
   "cell_type": "markdown",
   "metadata": {},
   "source": [
    "> ## Two useful websites from Google :\n",
    "+ ### [ Colaboratory ] : \n",
    "https://colab.research.google.com/notebooks/welcome.ipynb\n",
    "+ ### [ Google Codelabs 學習網站 ] : TensorFlow and deep learning, without a PhD\n",
    "https://codelabs.developers.google.com/codelabs/cloud-tensorflow-mnist/#0"
   ]
  }
 ],
 "metadata": {
  "kernelspec": {
   "display_name": "Python 3",
   "language": "python",
   "name": "python3"
  },
  "language_info": {
   "codemirror_mode": {
    "name": "ipython",
    "version": 3
   },
   "file_extension": ".py",
   "mimetype": "text/x-python",
   "name": "python",
   "nbconvert_exporter": "python",
   "pygments_lexer": "ipython3",
   "version": "3.7.1"
  }
 },
 "nbformat": 4,
 "nbformat_minor": 2
}
