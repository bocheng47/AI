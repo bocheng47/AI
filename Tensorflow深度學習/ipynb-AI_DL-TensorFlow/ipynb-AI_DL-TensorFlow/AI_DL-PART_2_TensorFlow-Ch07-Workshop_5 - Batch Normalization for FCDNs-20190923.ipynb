{
 "cells": [
  {
   "cell_type": "markdown",
   "metadata": {},
   "source": [
    "# PART 2 TensorFlow\n",
    "# 7. Workshop 5 : Batch Normalization for FCDNetworks\n",
    "2019/09/23\n",
    "\n",
    "[ Reference ]\n",
    "+ Rui Shu, \"**TENSORFLOW GUIDE: BATCH NORMALIZATION**\", 2016/12/26. http://ruishu.io/2016/12/27/batchnorm/\n",
    "    + Github code: https://github.com/RuiShu/micro-projects/blob/master/tf-batchnorm/batchnorm_guide.ipynb\n",
    "+ Antoine Labatie, \"**It’s Necessary to Combine Batch Norm and Skip Connections**\", Towards Data Science, 2019/09/01. https://towardsdatascience.com/its-necessary-to-combine-batch-norm-and-skip-connections-e92210ca04da\n",
    "+ Federico Peccia, \"**Batch normalization: theory and how to use it with Tensorflow**\", , Towards Data Science, 2018/09/16. https://towardsdatascience.com/batch-normalization-theory-and-how-to-use-it-with-tensorflow-1892ca0173ad"
   ]
  },
  {
   "cell_type": "code",
   "execution_count": 23,
   "metadata": {},
   "outputs": [
    {
     "name": "stdout",
     "output_type": "stream",
     "text": [
      "1.12.0\n"
     ]
    }
   ],
   "source": [
    "import numpy as np\n",
    "import tensorflow as tf\n",
    "print(tf.__version__)\n",
    "# for the old-version usage of TensorFlow, such as tensorflow.examples.tutorials.mnist\n",
    "old_v = tf.logging.get_verbosity()          \n",
    "tf.logging.set_verbosity(tf.logging.ERROR) "
   ]
  },
  {
   "cell_type": "markdown",
   "metadata": {},
   "source": [
    "### Input MNIST dataset "
   ]
  },
  {
   "cell_type": "code",
   "execution_count": 24,
   "metadata": {},
   "outputs": [
    {
     "name": "stdout",
     "output_type": "stream",
     "text": [
      "Extracting MNIST_data/train-images-idx3-ubyte.gz\n",
      "Extracting MNIST_data/train-labels-idx1-ubyte.gz\n",
      "Extracting MNIST_data/t10k-images-idx3-ubyte.gz\n",
      "Extracting MNIST_data/t10k-labels-idx1-ubyte.gz\n"
     ]
    }
   ],
   "source": [
    "from tensorflow.examples.tutorials.mnist import input_data\n",
    "\n",
    "mnist = input_data.read_data_sets(\"MNIST_data/\", one_hot=True)"
   ]
  },
  {
   "cell_type": "code",
   "execution_count": 25,
   "metadata": {},
   "outputs": [
    {
     "name": "stdout",
     "output_type": "stream",
     "text": [
      " mnist.train.images.shape :\t  (55000, 784)\n",
      " mnist.train.labels.shape :\t  (55000, 10)\n",
      " mnist.validation.images.shape :  (5000, 784)\n",
      " mnist.validation.labels.shape :  (5000, 10)\n",
      " mnist.test.images.shape :\t  (10000, 784)\n",
      " mnist.test.labels.shape :\t  (10000, 10)\n"
     ]
    },
    {
     "data": {
      "text/plain": [
       "array([0., 0., 0., 0., 0., 0., 0., 1., 0., 0.])"
      ]
     },
     "execution_count": 25,
     "metadata": {},
     "output_type": "execute_result"
    }
   ],
   "source": [
    "print(\" mnist.train.images.shape :\\t \", mnist.train.images.shape)\n",
    "print(\" mnist.train.labels.shape :\\t \", mnist.train.labels.shape)\n",
    "print(\" mnist.validation.images.shape : \", mnist.validation.images.shape)\n",
    "print(\" mnist.validation.labels.shape : \", mnist.validation.labels.shape)\n",
    "print(\" mnist.test.images.shape :\\t \", mnist.test.images.shape)\n",
    "print(\" mnist.test.labels.shape :\\t \", mnist.test.labels.shape)\n",
    "\n",
    "mnist.test.labels[0]"
   ]
  },
  {
   "cell_type": "markdown",
   "metadata": {},
   "source": [
    "> + **[NOTE]: the `phase` term. **\n",
    "    + useed as a **placeholder for a boolean** which we will insert into ``feed_dict`. \n",
    "    + It will serve as a binary indicator for whether we are in **training phase=True** or **testing phase=False** mode. "
   ]
  },
  {
   "cell_type": "code",
   "execution_count": 26,
   "metadata": {},
   "outputs": [],
   "source": [
    "def train_test():\n",
    "    update_ops = tf.get_collection(tf.GraphKeys.UPDATE_OPS)\n",
    "    with tf.control_dependencies(update_ops):\n",
    "        train_step = tf.train.GradientDescentOptimizer(0.01).minimize(loss)\n",
    "    \n",
    "    # --------------------------------------\n",
    "    # Launch the computation graph...\n",
    "    # --------------------------------------\n",
    "    sess = tf.Session()\n",
    "    sess.run(tf.global_variables_initializer())\n",
    "    \n",
    "    history = []\n",
    "    iterep = 500\n",
    "    for i in range(iterep * 30):\n",
    "        x_train, y_train = mnist.train.next_batch(100)\n",
    "        sess.run(train_step,\n",
    "                 feed_dict={'x:0': x_train, \n",
    "                            'y:0': y_train, \n",
    "                            'phase:0': 1})\n",
    "        if (i + 1) %  iterep == 0:\n",
    "            epoch = (i + 1)/iterep\n",
    "            tr = sess.run([loss, accuracy], \n",
    "                          feed_dict={'x:0': mnist.train.images,\n",
    "                                     'y:0': mnist.train.labels,\n",
    "                                     'phase:0': 1})\n",
    "            t = sess.run([loss, accuracy], \n",
    "                         feed_dict={'x:0': mnist.validation.images,\n",
    "                                    'y:0': mnist.validation.labels,\n",
    "                                    'phase:0': 0})\n",
    "            history += [[epoch] + tr + t]\n",
    "            print(history[-1])\n",
    "            \n",
    "    print(\"\\n Computing the test accuracy ... \", end = \" \")\n",
    "    \n",
    "    ##  ------------------------------------------------------------------\n",
    "    ##  Test datasets...\n",
    "    ##  ------------------------------------------------------------------\n",
    "    test_loss = sess.run(loss, feed_dict={'x:0': mnist.test.images,\n",
    "                                          'y:0': mnist.test.labels,\n",
    "                                          'phase:0': 0})\n",
    "    test_accu = sess.run(accuracy, feed_dict={'x:0': mnist.test.images,\n",
    "                                              'y:0': mnist.test.labels,\n",
    "                                              'phase:0': 0})\n",
    "    print(\" Done !!! \")\n",
    "    \n",
    "    return history, test_accu, test_loss"
   ]
  },
  {
   "cell_type": "markdown",
   "metadata": {},
   "source": [
    "## < Case 1 > : No batch normalization"
   ]
  },
  {
   "cell_type": "code",
   "execution_count": 27,
   "metadata": {},
   "outputs": [],
   "source": [
    "def dense(x, size, scope):\n",
    "    return tf.contrib.layers.fully_connected(x, size, \n",
    "                                             activation_fn=None,\n",
    "                                             scope=scope)\n",
    "\n",
    "def dense_relu(x, size, scope):\n",
    "    with tf.variable_scope(scope):\n",
    "        h1 = dense(x, size, 'dense')\n",
    "        return tf.nn.relu(h1, 'relu')"
   ]
  },
  {
   "cell_type": "code",
   "execution_count": 28,
   "metadata": {},
   "outputs": [],
   "source": [
    "# Reset the default graph...\n",
    "tf.reset_default_graph()\n",
    "\n",
    "# -------------------------------\n",
    "# Build a computation graph...\n",
    "# -------------------------------\n",
    "x = tf.placeholder('float32', (None, 784), name='x')\n",
    "y = tf.placeholder('float32', (None, 10), name='y')\n",
    "phase = tf.placeholder(tf.bool, name='phase')\n",
    "\n",
    "# FCDNetwork with 2 hidden layers...\n",
    "h1 = dense_relu(x, 100, 'layer1')\n",
    "h2 = dense_relu(h1, 100, 'layer2')\n",
    "logits = dense(h2, 10, scope='logits')\n",
    "\n",
    "with tf.name_scope('accuracy'):\n",
    "    accuracy = tf.reduce_mean(tf.cast(\n",
    "            tf.equal(tf.argmax(y, 1), tf.argmax(logits, 1)), \n",
    "            'float32'))\n",
    "\n",
    "with tf.name_scope('loss'):\n",
    "    loss = tf.reduce_mean(\n",
    "        tf.nn.softmax_cross_entropy_with_logits(labels=y, logits=logits))"
   ]
  },
  {
   "cell_type": "code",
   "execution_count": 29,
   "metadata": {
    "scrolled": true
   },
   "outputs": [
    {
     "name": "stdout",
     "output_type": "stream",
     "text": [
      "[1.0, 0.5974879, 0.8538727, 0.5853069, 0.859]\n",
      "[2.0, 0.41201988, 0.8870909, 0.39432842, 0.8926]\n",
      "[3.0, 0.3578257, 0.90003633, 0.33849472, 0.9058]\n",
      "[4.0, 0.32537535, 0.9080727, 0.3076595, 0.912]\n",
      "[5.0, 0.30692765, 0.9119273, 0.289903, 0.9152]\n",
      "[6.0, 0.2878099, 0.9178727, 0.27251568, 0.9246]\n",
      "[7.0, 0.27459642, 0.9206727, 0.26059717, 0.9276]\n",
      "[8.0, 0.26177612, 0.9242909, 0.24766463, 0.9292]\n",
      "[9.0, 0.25185537, 0.92776364, 0.23870158, 0.933]\n",
      "[10.0, 0.2425021, 0.9299091, 0.23256025, 0.936]\n",
      "[11.0, 0.23493825, 0.9319818, 0.2245039, 0.9364]\n",
      "[12.0, 0.22571023, 0.9349091, 0.21745916, 0.9394]\n",
      "[13.0, 0.2171985, 0.9376182, 0.2092188, 0.9412]\n",
      "[14.0, 0.21022984, 0.9398909, 0.2034457, 0.944]\n",
      "[15.0, 0.20354278, 0.94158185, 0.19700795, 0.9454]\n",
      "[16.0, 0.19749208, 0.94323635, 0.19403903, 0.9458]\n",
      "[17.0, 0.19057576, 0.9460545, 0.1873758, 0.9478]\n",
      "[18.0, 0.18565452, 0.94667274, 0.18239795, 0.949]\n",
      "[19.0, 0.17976035, 0.9486909, 0.17854421, 0.95]\n",
      "[20.0, 0.17447284, 0.9505818, 0.17480348, 0.9514]\n",
      "[21.0, 0.17097728, 0.95134544, 0.17196853, 0.9528]\n",
      "[22.0, 0.16424343, 0.9533273, 0.16642158, 0.9542]\n",
      "[23.0, 0.16103135, 0.9539091, 0.16344497, 0.9564]\n",
      "[24.0, 0.15596774, 0.95576364, 0.15973113, 0.9564]\n",
      "[25.0, 0.15211289, 0.95681816, 0.1567844, 0.9574]\n",
      "[26.0, 0.1482992, 0.9577091, 0.15515737, 0.9564]\n",
      "[27.0, 0.14392519, 0.9596364, 0.150967, 0.958]\n",
      "[28.0, 0.14120613, 0.9594727, 0.14974521, 0.9576]\n",
      "[29.0, 0.13737807, 0.96116364, 0.14477986, 0.96]\n",
      "[30.0, 0.13367864, 0.9621091, 0.14253928, 0.9602]\n",
      "\n",
      " Computing the test accuracy ...   Done !!! \n"
     ]
    }
   ],
   "source": [
    "history, test_accu, test_loss = train_test()"
   ]
  },
  {
   "cell_type": "code",
   "execution_count": 30,
   "metadata": {},
   "outputs": [
    {
     "name": "stdout",
     "output_type": "stream",
     "text": [
      " [ Test  Accuracy ] : 0.9596999883651733\n",
      " [ Test Loss Score ] : 0.14061963558197021\n"
     ]
    }
   ],
   "source": [
    "print(\" [ Test  Accuracy ] : {}\".format(test_accu) +\n",
    "      \"\\n [ Test Loss Score ] : {}\".format(test_loss))"
   ]
  },
  {
   "cell_type": "markdown",
   "metadata": {},
   "source": [
    "## < Case 2 > : Standard batch normalization\n",
    "+ Batch normalization would be to simply use the `tf.contrib.layers.batch_norm layer`.\n",
    "+ One thing that might stand out is the `phase` term. \n",
    "    + We are going to use as a **placeholder for a boolean** which we will insert into feed_dict. \n",
    "    + It will serve as a binary indicator for whether we are in **training phase=True** or **testing phase=False** mode. \n",
    "    \n",
    "    \n",
    "+ Recall that batch normalization has distinct behaviors during training verus test time:\n",
    "> + Training\n",
    "    1. Normalize layer activations according to mini-batch statistics.\n",
    "    2. During the training step, update population statistics approximation via moving average of mini-batch statistics.\n",
    " + Testing\n",
    "    1. Normalize layer activations according to estimated population statistics.\n",
    "    2. Do not update population statistics according to mini-batch statistcs from test data."
   ]
  },
  {
   "cell_type": "code",
   "execution_count": 31,
   "metadata": {},
   "outputs": [],
   "source": [
    "def dense_batch_relu(x, phase, scope):\n",
    "    with tf.variable_scope(scope):\n",
    "        h1 = tf.contrib.layers.fully_connected(x, 100, activation_fn=None, scope='dense')\n",
    "        \n",
    "        # Batch normalization would be to simply use the tf.contrib.layers.batch_norm layer.\n",
    "        h2 = tf.contrib.layers.batch_norm(h1, \n",
    "                                          center=True, scale=True, \n",
    "                                          is_training = phase,\n",
    "                                          scope='bn')\n",
    "        return tf.nn.relu(h2, 'relu')"
   ]
  },
  {
   "cell_type": "code",
   "execution_count": 32,
   "metadata": {},
   "outputs": [],
   "source": [
    "# Reset the default graph...\n",
    "tf.reset_default_graph()\n",
    "\n",
    "# -------------------------------\n",
    "# Build a computation graph...\n",
    "# -------------------------------\n",
    "x = tf.placeholder('float32', (None, 784), name='x')\n",
    "y = tf.placeholder('float32', (None, 10), name='y')\n",
    "phase = tf.placeholder(tf.bool, name='phase')\n",
    "\n",
    "# FCDNetwork with 2 hidden layers...\n",
    "h1 = dense_batch_relu(x, phase,'layer1')\n",
    "h2 = dense_batch_relu(h1, phase, 'layer2')\n",
    "logits = dense(h2, 10, 'logits')\n",
    "\n",
    "with tf.name_scope('accuracy'):\n",
    "    accuracy = tf.reduce_mean(tf.cast(\n",
    "            tf.equal(tf.argmax(y, 1), tf.argmax(logits, 1)), \n",
    "            'float32'))\n",
    "\n",
    "with tf.name_scope('loss'):\n",
    "    loss = tf.reduce_mean(\n",
    "        tf.nn.softmax_cross_entropy_with_logits(labels=y, logits=logits))"
   ]
  },
  {
   "cell_type": "code",
   "execution_count": 33,
   "metadata": {},
   "outputs": [
    {
     "name": "stdout",
     "output_type": "stream",
     "text": [
      "[1.0, 0.4029456, 0.89916366, 1.2113225, 0.8754]\n",
      "[2.0, 0.28484067, 0.92423636, 0.7326332, 0.925]\n",
      "[3.0, 0.2329334, 0.9365091, 0.43603402, 0.9388]\n",
      "[4.0, 0.20110916, 0.94427276, 0.2932952, 0.9454]\n",
      "[5.0, 0.17876229, 0.95034546, 0.22216599, 0.9504]\n",
      "[6.0, 0.16131903, 0.95567274, 0.18820561, 0.9522]\n",
      "[7.0, 0.14722604, 0.9590182, 0.16359887, 0.9562]\n",
      "[8.0, 0.13537055, 0.9629091, 0.15405343, 0.9562]\n",
      "[9.0, 0.12557305, 0.9652909, 0.14074719, 0.9608]\n",
      "[10.0, 0.11694494, 0.96778184, 0.13405979, 0.9616]\n",
      "[11.0, 0.10895554, 0.97047275, 0.124634616, 0.967]\n",
      "[12.0, 0.10207596, 0.9722546, 0.12112635, 0.9652]\n",
      "[13.0, 0.09595783, 0.9738909, 0.11571294, 0.9676]\n",
      "[14.0, 0.09040919, 0.97581816, 0.11031676, 0.97]\n",
      "[15.0, 0.08512994, 0.97776365, 0.109445006, 0.9694]\n",
      "[16.0, 0.08048531, 0.97914547, 0.10421537, 0.972]\n",
      "[17.0, 0.076266155, 0.97996366, 0.1016766, 0.9732]\n",
      "[18.0, 0.072354116, 0.9814909, 0.09955831, 0.9738]\n",
      "[19.0, 0.06875713, 0.98210907, 0.09622032, 0.9746]\n",
      "[20.0, 0.0652389, 0.9832364, 0.09394018, 0.975]\n",
      "[21.0, 0.062036447, 0.98423636, 0.092695065, 0.974]\n",
      "[22.0, 0.059260573, 0.98505455, 0.09208777, 0.9744]\n",
      "[23.0, 0.056456864, 0.9862, 0.089865394, 0.976]\n",
      "[24.0, 0.053864665, 0.98712724, 0.0896473, 0.9752]\n",
      "[25.0, 0.051320795, 0.9877273, 0.087218374, 0.9758]\n",
      "[26.0, 0.04884115, 0.9883636, 0.08577772, 0.9756]\n",
      "[27.0, 0.046920843, 0.98914546, 0.08510756, 0.9766]\n",
      "[28.0, 0.04472705, 0.99005455, 0.0855455, 0.9758]\n",
      "[29.0, 0.04281162, 0.9902909, 0.084520794, 0.977]\n",
      "[30.0, 0.04119581, 0.99070907, 0.083991654, 0.9762]\n",
      "\n",
      " Computing the test accuracy ...   Done !!! \n"
     ]
    }
   ],
   "source": [
    "history_bn, test_accu_bn, test_loss_bn = train_test()"
   ]
  },
  {
   "cell_type": "code",
   "execution_count": 34,
   "metadata": {},
   "outputs": [
    {
     "name": "stdout",
     "output_type": "stream",
     "text": [
      " << With Batch Normalization >> :\n",
      " [ Test  Accuracy ] : 0.9732000231742859\n",
      " [ Test Loss Score ] : 0.08438501507043839\n",
      "\n",
      " < Without Batch Normalization > :\n",
      " [ Test  Accuracy ] : 0.9596999883651733\n",
      " [ Test Loss Score ] : 0.14061963558197021\n"
     ]
    }
   ],
   "source": [
    "print(\" << With Batch Normalization >> :\")\n",
    "print(\" [ Test  Accuracy ] : {}\".format(test_accu_bn) +\n",
    "      \"\\n [ Test Loss Score ] : {}\".format(test_loss_bn))\n",
    "\n",
    "print(\"\\n < Without Batch Normalization > :\")\n",
    "print(\" [ Test  Accuracy ] : {}\".format(test_accu) +\n",
    "      \"\\n [ Test Loss Score ] : {}\".format(test_loss))"
   ]
  },
  {
   "cell_type": "markdown",
   "metadata": {},
   "source": [
    "## < Case 3 > : Post-activation batch normalization"
   ]
  },
  {
   "cell_type": "code",
   "execution_count": 35,
   "metadata": {},
   "outputs": [],
   "source": [
    "def dense_relu_batch(x, phase, scope):\n",
    "    with tf.variable_scope(scope):\n",
    "        h1 = dense_relu(x, 100, scope='dense_relu')\n",
    "        \n",
    "        ##  Post-activation batch normalization...\n",
    "        bn = tf.contrib.layers.batch_norm(h1, \n",
    "                                          center=True, scale=True, \n",
    "                                          is_training=phase,\n",
    "                                          scope='bn')\n",
    "        return bn"
   ]
  },
  {
   "cell_type": "code",
   "execution_count": 36,
   "metadata": {},
   "outputs": [],
   "source": [
    "tf.reset_default_graph()\n",
    "x = tf.placeholder('float32', (None, 784), name='x')\n",
    "y = tf.placeholder('float32', (None, 10), name='y')\n",
    "phase = tf.placeholder(tf.bool, name='phase')\n",
    "\n",
    "h1 = dense_relu_batch(x, phase,'layer1')\n",
    "h2 = dense_relu_batch(h1, phase, 'layer2')\n",
    "logits = dense(h2, 10, 'logits')\n",
    "\n",
    "with tf.name_scope('accuracy'):\n",
    "    accuracy = tf.reduce_mean(tf.cast(\n",
    "            tf.equal(tf.argmax(y, 1), tf.argmax(logits, 1)), \n",
    "            'float32'))\n",
    "\n",
    "with tf.name_scope('loss'):\n",
    "    loss = tf.reduce_mean(\n",
    "        tf.nn.softmax_cross_entropy_with_logits(labels=y, logits=logits))"
   ]
  },
  {
   "cell_type": "code",
   "execution_count": 37,
   "metadata": {},
   "outputs": [
    {
     "name": "stdout",
     "output_type": "stream",
     "text": [
      "[1.0, 0.29440942, 0.91865456, 1.2764627, 0.8408]\n",
      "[2.0, 0.21527319, 0.9402182, 0.84999573, 0.903]\n",
      "[3.0, 0.17682013, 0.9511273, 0.53688824, 0.9258]\n",
      "[4.0, 0.15151712, 0.95772725, 0.3459156, 0.9414]\n",
      "[5.0, 0.1336288, 0.9636, 0.23691347, 0.9532]\n",
      "[6.0, 0.119532704, 0.96714544, 0.18387112, 0.9576]\n",
      "[7.0, 0.10871756, 0.97047275, 0.15176688, 0.9624]\n",
      "[8.0, 0.099558525, 0.97294545, 0.13328493, 0.9636]\n",
      "[9.0, 0.091594175, 0.97534543, 0.12442992, 0.9644]\n",
      "[10.0, 0.08491094, 0.9774182, 0.11621247, 0.9652]\n",
      "[11.0, 0.0786337, 0.97943634, 0.11166791, 0.9654]\n",
      "[12.0, 0.073562734, 0.9805091, 0.10907227, 0.9668]\n",
      "[13.0, 0.06918399, 0.9818364, 0.105893664, 0.968]\n",
      "[14.0, 0.06446469, 0.98309094, 0.10265437, 0.9694]\n",
      "[15.0, 0.060493488, 0.98416364, 0.10159227, 0.9694]\n",
      "[16.0, 0.05706358, 0.9850909, 0.09932703, 0.9708]\n",
      "[17.0, 0.053565256, 0.98627275, 0.0972843, 0.9698]\n",
      "[18.0, 0.050590012, 0.9872182, 0.09649276, 0.9714]\n",
      "[19.0, 0.04832869, 0.9876364, 0.09446684, 0.9716]\n",
      "[20.0, 0.045114234, 0.9888909, 0.09514804, 0.9712]\n",
      "[21.0, 0.042776056, 0.9897091, 0.09414523, 0.971]\n",
      "[22.0, 0.04023331, 0.99054545, 0.09390925, 0.9714]\n",
      "[23.0, 0.038396284, 0.9911636, 0.09339673, 0.9718]\n",
      "[24.0, 0.036418654, 0.99169093, 0.09116285, 0.9728]\n",
      "[25.0, 0.034459807, 0.99218184, 0.09125213, 0.9716]\n",
      "[26.0, 0.03259901, 0.9928727, 0.09147592, 0.9728]\n",
      "[27.0, 0.031549536, 0.9932909, 0.09289674, 0.9738]\n",
      "[28.0, 0.02952781, 0.9940909, 0.0906121, 0.974]\n",
      "[29.0, 0.028035332, 0.9944909, 0.09032478, 0.974]\n",
      "[30.0, 0.026383799, 0.9950909, 0.08958092, 0.9732]\n",
      "\n",
      " Computing the test accuracy ...   Done !!! \n"
     ]
    }
   ],
   "source": [
    "history_post_bn, test_accu_post_bn, test_loss_post_bn = train_test()"
   ]
  },
  {
   "cell_type": "code",
   "execution_count": 38,
   "metadata": {},
   "outputs": [
    {
     "name": "stdout",
     "output_type": "stream",
     "text": [
      " <<< Post-activation Batch Normalization >>> :\n",
      " [ Test  Accuracy ] : 0.9729999899864197\n",
      " [ Test Loss Score ] : 0.08636382222175598\n",
      " << With Batch Normalization >> :\n",
      " [ Test  Accuracy ] : 0.9732000231742859\n",
      " [ Test Loss Score ] : 0.08438501507043839\n",
      "\n",
      " < Without Batch Normalization > :\n",
      " [ Test  Accuracy ] : 0.9596999883651733\n",
      " [ Test Loss Score ] : 0.14061963558197021\n"
     ]
    }
   ],
   "source": [
    "print(\" <<< Post-activation Batch Normalization >>> :\")\n",
    "print(\" [ Test  Accuracy ] : {}\".format(test_accu_post_bn) +\n",
    "      \"\\n [ Test Loss Score ] : {}\".format(test_loss_post_bn))\n",
    "\n",
    "print(\" << With Batch Normalization >> :\")\n",
    "print(\" [ Test  Accuracy ] : {}\".format(test_accu_bn) +\n",
    "      \"\\n [ Test Loss Score ] : {}\".format(test_loss_bn))\n",
    "\n",
    "print(\"\\n < Without Batch Normalization > :\")\n",
    "print(\" [ Test  Accuracy ] : {}\".format(test_accu) +\n",
    "      \"\\n [ Test Loss Score ] : {}\".format(test_loss))"
   ]
  },
  {
   "cell_type": "markdown",
   "metadata": {},
   "source": [
    "## Evaluation"
   ]
  },
  {
   "cell_type": "code",
   "execution_count": 39,
   "metadata": {},
   "outputs": [
    {
     "name": "stdout",
     "output_type": "stream",
     "text": [
      "Populating the interactive namespace from numpy and matplotlib\n"
     ]
    }
   ],
   "source": [
    "%pylab inline\n",
    "import seaborn as sns"
   ]
  },
  {
   "cell_type": "code",
   "execution_count": 40,
   "metadata": {},
   "outputs": [],
   "source": [
    "history = np.array(history)\n",
    "history_bn = np.array(history_bn)\n",
    "history_post_bn = np.array(history_post_bn)"
   ]
  },
  {
   "cell_type": "code",
   "execution_count": 41,
   "metadata": {},
   "outputs": [
    {
     "data": {
      "text/plain": [
       "<matplotlib.legend.Legend at 0x269780af2e8>"
      ]
     },
     "execution_count": 41,
     "metadata": {},
     "output_type": "execute_result"
    },
    {
     "data": {
      "image/png": "[encoded data removed]",
      "text/plain": [
       "<Figure size 432x288 with 1 Axes>"
      ]
     },
     "metadata": {},
     "output_type": "display_data"
    }
   ],
   "source": [
    "plt.plot(history[:, 0], history[:, -1], label='t_acc')\n",
    "plt.plot(history_bn[:, 0], history_bn[:, -1], label='t_acc_bn')\n",
    "plt.plot(history_post_bn[:, 0], history_post_bn[:, -1], label='t_acc_post_bn')\n",
    "plt.legend()"
   ]
  },
  {
   "cell_type": "markdown",
   "metadata": {},
   "source": [
    "### As you can see, batch normalization really does help with training (not always, but it certainly did in this simple example)."
   ]
  }
 ],
 "metadata": {
  "kernelspec": {
   "display_name": "Python 3",
   "language": "python",
   "name": "python3"
  },
  "language_info": {
   "codemirror_mode": {
    "name": "ipython",
    "version": 3
   },
   "file_extension": ".py",
   "mimetype": "text/x-python",
   "name": "python",
   "nbconvert_exporter": "python",
   "pygments_lexer": "ipython3",
   "version": "3.6.5"
  }
 },
 "nbformat": 4,
 "nbformat_minor": 2
}
