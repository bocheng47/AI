{
 "cells": [
  {
   "cell_type": "markdown",
   "metadata": {},
   "source": [
    "# < EXERCISE 4-1 >\n",
    "在 Example 4.2 中的 set intersection 和 difference 改寫成 list\n",
    "comprehension 的結果，分別顯⽰示於 Example 4.3 中。\n",
    "請問，如何改寫 set union 和 symmetric difference 程式部份？"
   ]
  },
  {
   "cell_type": "code",
   "execution_count": 36,
   "metadata": {},
   "outputs": [
    {
     "name": "stdout",
     "output_type": "stream",
     "text": [
      "union為:  {'t', 'g', 'r', 'n', 'o', 'h', 's', 'a', 'y', 'P'}\n",
      "symmetric difference為:  {'g', 'r', 'n', 's', 'a'}\n"
     ]
    }
   ],
   "source": [
    "word_py1 = set('Python')\n",
    "word_py2 = set('Pythagoras')\n",
    "\n",
    "union = {x for x in (list(word_py2)+list(word_py1))}\n",
    "intersection = {x for x in word_py2 if x in word_py1}\n",
    "symmetric_difference = {x for x in union if x not in intersection}\n",
    "\n",
    "print('union為: ',union)\n",
    "print('symmetric difference為: ',symmetric_difference)\n"
   ]
  }
 ],
 "metadata": {
  "kernelspec": {
   "display_name": "Python 3",
   "language": "python",
   "name": "python3"
  },
  "language_info": {
   "codemirror_mode": {
    "name": "ipython",
    "version": 3
   },
   "file_extension": ".py",
   "mimetype": "text/x-python",
   "name": "python",
   "nbconvert_exporter": "python",
   "pygments_lexer": "ipython3",
   "version": "3.7.1"
  }
 },
 "nbformat": 4,
 "nbformat_minor": 2
}
