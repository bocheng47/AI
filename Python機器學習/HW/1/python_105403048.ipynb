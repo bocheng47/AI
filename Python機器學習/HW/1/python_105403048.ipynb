{
 "cells": [
  {
   "cell_type": "code",
   "execution_count": null,
   "metadata": {},
   "outputs": [],
   "source": [
    "x = float(input(\"請輸入一個數字(大於0)： \")) \n",
    "\n",
    "if x<1:\n",
    "    first = x\n",
    "    last = 1\n",
    "    answer = (first+last)/2\n",
    "    while abs(x - answer_2) > 0.000001:\n",
    "        answer = (first+last)/2\n",
    "        answer_2 = answer*answer\n",
    "        if answer_2 > x:\n",
    "            last = answer\n",
    "        elif answer_2 < x:\n",
    "            first = answer\n",
    "        else:\n",
    "            break\n",
    "    print('%.5f' % (answer))\n",
    "elif x==1:\n",
    "    print(\"1\")\n",
    "else:\n",
    "    first = x\n",
    "    last = 1\n",
    "    answer = (first+last)/2\n",
    "    answer_2 = answer*answer\n",
    "    while abs(x - answer_2) > 0.0000001:\n",
    "        answer = (first+last)/2\n",
    "        answer_2 = answer*answer\n",
    "        if answer_2 > x:\n",
    "            first = answer\n",
    "        elif answer_2 < x:\n",
    "            last = answer\n",
    "        else:\n",
    "            break\n",
    "    print('平方根為: %.5f' % (answer))"
   ]
  },
  {
   "cell_type": "code",
   "execution_count": null,
   "metadata": {},
   "outputs": [],
   "source": [
    "x = float(input(\"請輸入一個數字(大於0)： \")) \n",
    "\n",
    "if x<1:\n",
    "    first = x\n",
    "    last = 1\n",
    "    answer = (first+last)/2\n",
    "    while abs(x - answer_3) > 0.000001:\n",
    "        answer = (first+last)/2\n",
    "        answer_3 = answer*answer*answer\n",
    "        if answer_3 > x:\n",
    "            last = answer\n",
    "        elif answer_3 < x:\n",
    "            first = answer\n",
    "        else:\n",
    "            break\n",
    "    print('%.5f' % (answer))\n",
    "elif x==1:\n",
    "    print(\"1\")\n",
    "else:\n",
    "    first = x\n",
    "    last = 1\n",
    "    answer = (first+last)/2\n",
    "    answer_3 = answer*answer*answer\n",
    "    while abs(x - answer_3) > 0.0000001:\n",
    "        answer = (first+last)/2\n",
    "        answer_3 = answer*answer*answer\n",
    "        if answer_3 > x:\n",
    "            first = answer\n",
    "        elif answer_3 < x:\n",
    "            last = answer\n",
    "        else:\n",
    "            break\n",
    "    print('立方根為: %.5f' % (answer))"
   ]
  }
 ],
 "metadata": {
  "kernelspec": {
   "display_name": "Python 3",
   "language": "python",
   "name": "python3"
  },
  "language_info": {
   "codemirror_mode": {
    "name": "ipython",
    "version": 3
   },
   "file_extension": ".py",
   "mimetype": "text/x-python",
   "name": "python",
   "nbconvert_exporter": "python",
   "pygments_lexer": "ipython3",
   "version": "3.7.1"
  }
 },
 "nbformat": 4,
 "nbformat_minor": 2
}
